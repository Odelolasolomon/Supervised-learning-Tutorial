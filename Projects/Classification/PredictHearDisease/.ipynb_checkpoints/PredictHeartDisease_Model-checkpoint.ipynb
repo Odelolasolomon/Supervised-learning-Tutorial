{
 "cells": [
  {
   "cell_type": "markdown",
   "id": "75c22584",
   "metadata": {},
   "source": [
    "# Project: Predict  the likelihood of a new patient having heart disease in the future or not and How to prevent a patient from having heart disease.\n",
    "\n",
    "<ul>\n",
    "<li><a href=\"#intro\">Introduction</a></li>\n",
    "<li><a href=\"#Fea\">Feature Engineering/Data Preprocessing</a></li>\n",
    "<li><a href=\"#mod\">Modeling</a></li>\n",
    "<li><a href=\"#modeva\">Model Evaluation</a></li>\n",
    "<li><a href=\"#hyp\">HyperParameter Optimization</a></li>\n",
    "<li><a href=\"#conclusions\">Conclusions</a></li>\n",
    "</ul>\n",
    "\n",
    "<img src='heartdisease.webp' width=400 height=400>\n",
    "\n",
    "<a id='intro'></a>\n",
    "## Introduction\n",
    "The World Health Organization (WHO) estimates that 17.9 million people die from cardiovascular diseases (CVDs) every year.\n",
    "\n",
    "There are multiple risk factors that could contribute to CVD in an individual, such as unhealthy diet, lack of physical activity, or mental illness. Identifying these risk factors early on could help prevent many premature deaths.\n",
    "\n",
    "We are working for an R&D company that focuses on providing healthcare solutions. The company has collected anonymized data from multiple hospitals on several patients. The dataset includes relevant information for each patient, such as their personal information and some medical data, including whether or not they have had heart disease before.\n",
    "We are tasked with using the dataset to accurately predict the likelihood of a new patient having heart disease in the future. The dataset has the following features:\n",
    "- Age: age of the patient [years]\n",
    "- Sex: sex of the patient [M: Male, F: Female]\n",
    "- ChestPainType: chest pain type [TA: Typical Angina, ATA: Atypical Angina, NAP: Non-Anginal Pain, ASY: Asymptomatic]\n",
    "- RestingBP: resting blood pressure [mm Hg]\n",
    "- Cholesterol: serum cholesterol [mm/dl]\n",
    "- FastingBS: fasting blood sugar [1: if FastingBS > 120 mg/dl, 0: otherwise]\n",
    "- RestingECG: resting electrocardiogram results [Normal: Normal, ST: having ST-T wave abnormality (T wave inversions and/or ST elevation or depression of > 0.05 mV), LVH: showing probable or definite left ventricular hypertrophy by Estes' criteria]\n",
    "- MaxHR: maximum heart rate achieved [Numeric value between 60 and 202]\n",
    "- ExerciseAngina: exercise-induced angina [Y: Yes, N: No]\n",
    "- Oldpeak: oldpeak = ST [Numeric value measured in depression]\n",
    "- ST_Slope: the slope of the peak exercise ST segment [Up: upsloping, Flat: flat, Down: downsloping]\n",
    "- HeartDisease: output class [1: heart disease, 0: Normal]\n",
    "Before we jump into building a model, i will conduct exploratory data analysis on the dataset\n",
    "\n",
    "Please note: For each step of the project, i am encouraged to add appropriate headers or subheaders and any discussions or explanations i see fit.  "
   ]
  },
  {
   "cell_type": "code",
   "execution_count": 1,
   "id": "fe2863ed",
   "metadata": {},
   "outputs": [],
   "source": [
    "#import necessary libraries\n",
    "\n",
    "import pandas as pd\n",
    "import numpy as np\n",
    "import matplotlib.pyplot as plt\n",
    "import seaborn as sns\n",
    "%matplotlib inline\n",
    "from sklearn.linear_model import LogisticRegression\n",
    "from sklearn.model_selection import train_test_split\n",
    "from sklearn.metrics import mean_squared_error, confusion_matrix, classification_report\n",
    "from sklearn.preprocessing import StandardScaler,MinMaxScaler\n",
    "from sklearn.model_selection import GridSearchCV"
   ]
  },
  {
   "cell_type": "code",
   "execution_count": 2,
   "id": "69bc0662",
   "metadata": {},
   "outputs": [],
   "source": [
    "data= pd.read_csv('heart_disease_prediction.csv')"
   ]
  },
  {
   "cell_type": "markdown",
   "id": "eb032c5a",
   "metadata": {},
   "source": [
    "<a id='Fea'></a>\n",
    "## Feature Engineering / Data Preprocessing"
   ]
  },
  {
   "cell_type": "code",
   "execution_count": 3,
   "id": "d0df7eb3",
   "metadata": {},
   "outputs": [
    {
     "data": {
      "text/html": [
       "<div>\n",
       "<style scoped>\n",
       "    .dataframe tbody tr th:only-of-type {\n",
       "        vertical-align: middle;\n",
       "    }\n",
       "\n",
       "    .dataframe tbody tr th {\n",
       "        vertical-align: top;\n",
       "    }\n",
       "\n",
       "    .dataframe thead th {\n",
       "        text-align: right;\n",
       "    }\n",
       "</style>\n",
       "<table border=\"1\" class=\"dataframe\">\n",
       "  <thead>\n",
       "    <tr style=\"text-align: right;\">\n",
       "      <th></th>\n",
       "      <th>Age</th>\n",
       "      <th>Sex</th>\n",
       "      <th>ChestPainType</th>\n",
       "      <th>RestingBP</th>\n",
       "      <th>Cholesterol</th>\n",
       "      <th>FastingBS</th>\n",
       "      <th>RestingECG</th>\n",
       "      <th>MaxHR</th>\n",
       "      <th>ExerciseAngina</th>\n",
       "      <th>Oldpeak</th>\n",
       "      <th>ST_Slope</th>\n",
       "      <th>HeartDisease</th>\n",
       "    </tr>\n",
       "  </thead>\n",
       "  <tbody>\n",
       "    <tr>\n",
       "      <th>0</th>\n",
       "      <td>40</td>\n",
       "      <td>M</td>\n",
       "      <td>ATA</td>\n",
       "      <td>140</td>\n",
       "      <td>289</td>\n",
       "      <td>0</td>\n",
       "      <td>Normal</td>\n",
       "      <td>172</td>\n",
       "      <td>N</td>\n",
       "      <td>0.0</td>\n",
       "      <td>Up</td>\n",
       "      <td>0</td>\n",
       "    </tr>\n",
       "    <tr>\n",
       "      <th>1</th>\n",
       "      <td>49</td>\n",
       "      <td>F</td>\n",
       "      <td>NAP</td>\n",
       "      <td>160</td>\n",
       "      <td>180</td>\n",
       "      <td>0</td>\n",
       "      <td>Normal</td>\n",
       "      <td>156</td>\n",
       "      <td>N</td>\n",
       "      <td>1.0</td>\n",
       "      <td>Flat</td>\n",
       "      <td>1</td>\n",
       "    </tr>\n",
       "    <tr>\n",
       "      <th>2</th>\n",
       "      <td>37</td>\n",
       "      <td>M</td>\n",
       "      <td>ATA</td>\n",
       "      <td>130</td>\n",
       "      <td>283</td>\n",
       "      <td>0</td>\n",
       "      <td>ST</td>\n",
       "      <td>98</td>\n",
       "      <td>N</td>\n",
       "      <td>0.0</td>\n",
       "      <td>Up</td>\n",
       "      <td>0</td>\n",
       "    </tr>\n",
       "    <tr>\n",
       "      <th>3</th>\n",
       "      <td>48</td>\n",
       "      <td>F</td>\n",
       "      <td>ASY</td>\n",
       "      <td>138</td>\n",
       "      <td>214</td>\n",
       "      <td>0</td>\n",
       "      <td>Normal</td>\n",
       "      <td>108</td>\n",
       "      <td>Y</td>\n",
       "      <td>1.5</td>\n",
       "      <td>Flat</td>\n",
       "      <td>1</td>\n",
       "    </tr>\n",
       "    <tr>\n",
       "      <th>4</th>\n",
       "      <td>54</td>\n",
       "      <td>M</td>\n",
       "      <td>NAP</td>\n",
       "      <td>150</td>\n",
       "      <td>195</td>\n",
       "      <td>0</td>\n",
       "      <td>Normal</td>\n",
       "      <td>122</td>\n",
       "      <td>N</td>\n",
       "      <td>0.0</td>\n",
       "      <td>Up</td>\n",
       "      <td>0</td>\n",
       "    </tr>\n",
       "  </tbody>\n",
       "</table>\n",
       "</div>"
      ],
      "text/plain": [
       "   Age Sex ChestPainType  RestingBP  Cholesterol  FastingBS RestingECG  MaxHR  \\\n",
       "0   40   M           ATA        140          289          0     Normal    172   \n",
       "1   49   F           NAP        160          180          0     Normal    156   \n",
       "2   37   M           ATA        130          283          0         ST     98   \n",
       "3   48   F           ASY        138          214          0     Normal    108   \n",
       "4   54   M           NAP        150          195          0     Normal    122   \n",
       "\n",
       "  ExerciseAngina  Oldpeak ST_Slope  HeartDisease  \n",
       "0              N      0.0       Up             0  \n",
       "1              N      1.0     Flat             1  \n",
       "2              N      0.0       Up             0  \n",
       "3              Y      1.5     Flat             1  \n",
       "4              N      0.0       Up             0  "
      ]
     },
     "execution_count": 3,
     "metadata": {},
     "output_type": "execute_result"
    }
   ],
   "source": [
    "data.head()"
   ]
  },
  {
   "cell_type": "code",
   "execution_count": 4,
   "id": "63d2a08f",
   "metadata": {},
   "outputs": [
    {
     "data": {
      "text/plain": [
       "<AxesSubplot:xlabel='Sex', ylabel='count'>"
      ]
     },
     "execution_count": 4,
     "metadata": {},
     "output_type": "execute_result"
    },
    {
     "data": {
      "image/png": "[encoded data removed]",
      "text/plain": [
       "<Figure size 640x480 with 1 Axes>"
      ]
     },
     "metadata": {},
     "output_type": "display_data"
    }
   ],
   "source": [
    "sns.countplot(data=data, x='Sex')"
   ]
  },
  {
   "cell_type": "code",
   "execution_count": 5,
   "id": "4c47729d",
   "metadata": {},
   "outputs": [
    {
     "data": {
      "text/plain": [
       "(918, 12)"
      ]
     },
     "execution_count": 5,
     "metadata": {},
     "output_type": "execute_result"
    }
   ],
   "source": [
    "data.shape"
   ]
  },
  {
   "cell_type": "code",
   "execution_count": 6,
   "id": "9be0f0b5",
   "metadata": {},
   "outputs": [
    {
     "data": {
      "text/plain": [
       "Age               0\n",
       "Sex               0\n",
       "ChestPainType     0\n",
       "RestingBP         0\n",
       "Cholesterol       0\n",
       "FastingBS         0\n",
       "RestingECG        0\n",
       "MaxHR             0\n",
       "ExerciseAngina    0\n",
       "Oldpeak           0\n",
       "ST_Slope          0\n",
       "HeartDisease      0\n",
       "dtype: int64"
      ]
     },
     "execution_count": 6,
     "metadata": {},
     "output_type": "execute_result"
    }
   ],
   "source": [
    "data.isnull().sum()"
   ]
  },
  {
   "cell_type": "code",
   "execution_count": 7,
   "id": "d15b3ee5",
   "metadata": {},
   "outputs": [
    {
     "data": {
      "text/plain": [
       "0"
      ]
     },
     "execution_count": 7,
     "metadata": {},
     "output_type": "execute_result"
    }
   ],
   "source": [
    "data.duplicated().sum()"
   ]
  },
  {
   "cell_type": "code",
   "execution_count": 8,
   "id": "86ccbe32",
   "metadata": {},
   "outputs": [
    {
     "data": {
      "text/plain": [
       "Age                 int64\n",
       "Sex                object\n",
       "ChestPainType      object\n",
       "RestingBP           int64\n",
       "Cholesterol         int64\n",
       "FastingBS           int64\n",
       "RestingECG         object\n",
       "MaxHR               int64\n",
       "ExerciseAngina     object\n",
       "Oldpeak           float64\n",
       "ST_Slope           object\n",
       "HeartDisease        int64\n",
       "dtype: object"
      ]
     },
     "execution_count": 8,
     "metadata": {},
     "output_type": "execute_result"
    }
   ],
   "source": [
    "data.dtypes"
   ]
  },
  {
   "cell_type": "code",
   "execution_count": 9,
   "id": "d34dbd7c",
   "metadata": {},
   "outputs": [
    {
     "data": {
      "text/plain": [
       "array([0, 1], dtype=int64)"
      ]
     },
     "execution_count": 9,
     "metadata": {},
     "output_type": "execute_result"
    }
   ],
   "source": [
    "data['FastingBS'].unique()"
   ]
  },
  {
   "cell_type": "code",
   "execution_count": 10,
   "id": "aaaf6d45",
   "metadata": {},
   "outputs": [
    {
     "data": {
      "text/plain": [
       "array(['Normal', 'ST', 'LVH'], dtype=object)"
      ]
     },
     "execution_count": 10,
     "metadata": {},
     "output_type": "execute_result"
    }
   ],
   "source": [
    "data['RestingECG'].unique()"
   ]
  },
  {
   "cell_type": "code",
   "execution_count": 11,
   "id": "699dfa7c",
   "metadata": {},
   "outputs": [
    {
     "data": {
      "text/plain": [
       "array(['N', 'Y'], dtype=object)"
      ]
     },
     "execution_count": 11,
     "metadata": {},
     "output_type": "execute_result"
    }
   ],
   "source": [
    "data['ExerciseAngina'].unique()"
   ]
  },
  {
   "cell_type": "code",
   "execution_count": 12,
   "id": "e0bb5b51",
   "metadata": {},
   "outputs": [
    {
     "data": {
      "text/plain": [
       "array([ 0. ,  1. ,  1.5,  2. ,  3. ,  4. ,  0.5,  2.5,  5. ,  0.8,  0.7,\n",
       "        1.4,  2.1,  0.4,  0.2,  1.7,  2.2,  0.1,  1.6,  1.3,  0.3,  1.8,\n",
       "        2.6, -0.9,  2.8, -2.6, -1.5, -0.1,  0.9,  1.1,  2.4, -1. , -1.1,\n",
       "       -0.7, -0.8,  3.7,  1.2, -0.5, -2. ,  1.9,  3.5,  0.6,  3.1,  2.3,\n",
       "        3.4,  3.6,  4.2,  3.2,  5.6,  3.8,  2.9,  6.2,  4.4])"
      ]
     },
     "execution_count": 12,
     "metadata": {},
     "output_type": "execute_result"
    }
   ],
   "source": [
    "data['Oldpeak'].unique()"
   ]
  },
  {
   "cell_type": "code",
   "execution_count": 13,
   "id": "671494ee",
   "metadata": {},
   "outputs": [
    {
     "data": {
      "text/plain": [
       "array(['Up', 'Flat', 'Down'], dtype=object)"
      ]
     },
     "execution_count": 13,
     "metadata": {},
     "output_type": "execute_result"
    }
   ],
   "source": [
    "data['ST_Slope'].unique()"
   ]
  },
  {
   "cell_type": "code",
   "execution_count": 14,
   "id": "2221a90c",
   "metadata": {},
   "outputs": [
    {
     "data": {
      "text/plain": [
       "array(['ATA', 'NAP', 'ASY', 'TA'], dtype=object)"
      ]
     },
     "execution_count": 14,
     "metadata": {},
     "output_type": "execute_result"
    }
   ],
   "source": [
    "data['ChestPainType'].unique()"
   ]
  },
  {
   "cell_type": "code",
   "execution_count": 15,
   "id": "33d656fa",
   "metadata": {},
   "outputs": [],
   "source": [
    "#convert the data types accordingly\n",
    "for columns in  data.index:\n",
    "    hd=data['HeartDisease']\n",
    "    chest=data['ChestPainType']\n",
    "    fast=data['FastingBS']\n",
    "    RG=data['RestingECG']\n",
    "    EA=data['ExerciseAngina']\n",
    "    SS=data['ST_Slope']\n",
    "    chest=chest.astype('category')\n",
    "    fast=fast.astype('category')\n",
    "    RG=RG.astype('category')\n",
    "    EA=EA.astype('category')\n",
    "    SS=SS.astype('category')\n",
    "    hd=hd.astype('category')\n",
    "    data['ChestPainType']=chest\n",
    "    data['FastingBS']=fast\n",
    "    data['RestingECG']=RG\n",
    "    data['ExerciseAngina']=EA\n",
    "    data['ST_Slope']=SS\n",
    "    data['HeartDisease']=hd"
   ]
  },
  {
   "cell_type": "code",
   "execution_count": 16,
   "id": "b7c7836d",
   "metadata": {},
   "outputs": [
    {
     "data": {
      "text/plain": [
       "Age                  int64\n",
       "Sex                 object\n",
       "ChestPainType     category\n",
       "RestingBP            int64\n",
       "Cholesterol          int64\n",
       "FastingBS         category\n",
       "RestingECG        category\n",
       "MaxHR                int64\n",
       "ExerciseAngina    category\n",
       "Oldpeak            float64\n",
       "ST_Slope          category\n",
       "HeartDisease      category\n",
       "dtype: object"
      ]
     },
     "execution_count": 16,
     "metadata": {},
     "output_type": "execute_result"
    }
   ],
   "source": [
    "data.dtypes"
   ]
  },
  {
   "cell_type": "code",
   "execution_count": 17,
   "id": "cb60b7b8",
   "metadata": {},
   "outputs": [
    {
     "data": {
      "text/plain": [
       "<AxesSubplot:xlabel='Age'>"
      ]
     },
     "execution_count": 17,
     "metadata": {},
     "output_type": "execute_result"
    },
    {
     "data": {
      "image/png": "[encoded data removed]",
      "text/plain": [
       "<Figure size 640x480 with 1 Axes>"
      ]
     },
     "metadata": {},
     "output_type": "display_data"
    }
   ],
   "source": [
    "sns.boxplot(data=data, x='Age')"
   ]
  },
  {
   "cell_type": "code",
   "execution_count": 18,
   "id": "b8789ad5",
   "metadata": {},
   "outputs": [
    {
     "data": {
      "text/plain": [
       "<AxesSubplot:xlabel='Cholesterol'>"
      ]
     },
     "execution_count": 18,
     "metadata": {},
     "output_type": "execute_result"
    },
    {
     "data": {
      "image/png": "[encoded data removed]",
      "text/plain": [
       "<Figure size 640x480 with 1 Axes>"
      ]
     },
     "metadata": {},
     "output_type": "display_data"
    }
   ],
   "source": [
    "sns.boxplot(data=data, x='Cholesterol')"
   ]
  },
  {
   "cell_type": "markdown",
   "id": "708a031f",
   "metadata": {},
   "source": [
    "<img src='c_1.png' width=500 height=500>\n",
    "<img src='c_2.png' width=500 height=500>\n",
    "<img src='c_3.png' width=500 height=500>"
   ]
  },
  {
   "cell_type": "code",
   "execution_count": 19,
   "id": "cc576651",
   "metadata": {},
   "outputs": [
    {
     "data": {
      "text/plain": [
       "<AxesSubplot:xlabel='MaxHR'>"
      ]
     },
     "execution_count": 19,
     "metadata": {},
     "output_type": "execute_result"
    },
    {
     "data": {
      "image/png": "[encoded data removed]",
      "text/plain": [
       "<Figure size 640x480 with 1 Axes>"
      ]
     },
     "metadata": {},
     "output_type": "display_data"
    }
   ],
   "source": [
    "sns.boxplot(data=data, x='MaxHR')"
   ]
  },
  {
   "cell_type": "markdown",
   "id": "d0240408",
   "metadata": {},
   "source": [
    "## Feature Selection"
   ]
  },
  {
   "cell_type": "code",
   "execution_count": 20,
   "id": "90969b97",
   "metadata": {},
   "outputs": [
    {
     "data": {
      "text/html": [
       "<div>\n",
       "<style scoped>\n",
       "    .dataframe tbody tr th:only-of-type {\n",
       "        vertical-align: middle;\n",
       "    }\n",
       "\n",
       "    .dataframe tbody tr th {\n",
       "        vertical-align: top;\n",
       "    }\n",
       "\n",
       "    .dataframe thead th {\n",
       "        text-align: right;\n",
       "    }\n",
       "</style>\n",
       "<table border=\"1\" class=\"dataframe\">\n",
       "  <thead>\n",
       "    <tr style=\"text-align: right;\">\n",
       "      <th></th>\n",
       "      <th>Age</th>\n",
       "      <th>Cholesterol</th>\n",
       "      <th>MaxHR</th>\n",
       "      <th>RestingBP</th>\n",
       "    </tr>\n",
       "    <tr>\n",
       "      <th>HeartDisease</th>\n",
       "      <th></th>\n",
       "      <th></th>\n",
       "      <th></th>\n",
       "      <th></th>\n",
       "    </tr>\n",
       "  </thead>\n",
       "  <tbody>\n",
       "    <tr>\n",
       "      <th>0</th>\n",
       "      <td>50.551220</td>\n",
       "      <td>227.121951</td>\n",
       "      <td>148.151220</td>\n",
       "      <td>130.180488</td>\n",
       "    </tr>\n",
       "    <tr>\n",
       "      <th>1</th>\n",
       "      <td>55.899606</td>\n",
       "      <td>175.940945</td>\n",
       "      <td>127.655512</td>\n",
       "      <td>134.185039</td>\n",
       "    </tr>\n",
       "  </tbody>\n",
       "</table>\n",
       "</div>"
      ],
      "text/plain": [
       "                    Age  Cholesterol       MaxHR   RestingBP\n",
       "HeartDisease                                                \n",
       "0             50.551220   227.121951  148.151220  130.180488\n",
       "1             55.899606   175.940945  127.655512  134.185039"
      ]
     },
     "execution_count": 20,
     "metadata": {},
     "output_type": "execute_result"
    }
   ],
   "source": [
    "select_features=data.groupby('HeartDisease').agg(\n",
    "{ 'Age':'mean',\n",
    "  'Cholesterol':'mean',\n",
    "  'MaxHR':'mean',\n",
    "  'RestingBP':'mean'\n",
    "})\n",
    "select_features"
   ]
  },
  {
   "cell_type": "code",
   "execution_count": 21,
   "id": "3e2eb593",
   "metadata": {},
   "outputs": [
    {
     "data": {
      "text/plain": [
       "<Figure size 400x400 with 0 Axes>"
      ]
     },
     "metadata": {},
     "output_type": "display_data"
    },
    {
     "data": {
      "image/png": "[encoded data removed]",
      "text/plain": [
       "<Figure size 640x480 with 1 Axes>"
      ]
     },
     "metadata": {},
     "output_type": "display_data"
    }
   ],
   "source": [
    "plt.figure(figsize=[4,4])\n",
    "select_features.plot(kind='bar')\n",
    "plt.xticks(rotation=0);"
   ]
  },
  {
   "cell_type": "code",
   "execution_count": 22,
   "id": "edd6b2e7",
   "metadata": {},
   "outputs": [
    {
     "data": {
      "text/plain": [
       "Age             5.348387\n",
       "Cholesterol    51.181006\n",
       "MaxHR          20.495708\n",
       "RestingBP       4.004552\n",
       "dtype: float64"
      ]
     },
     "execution_count": 22,
     "metadata": {},
     "output_type": "execute_result"
    }
   ],
   "source": [
    "#show the features with the highest mean for  both classes of heart disease\n",
    "np.abs(select_features.iloc[0] - select_features.iloc[1])"
   ]
  },
  {
   "cell_type": "code",
   "execution_count": 23,
   "id": "7eefc887",
   "metadata": {},
   "outputs": [],
   "source": [
    "dummies= pd.get_dummies(data[['Sex','ChestPainType','FastingBS','RestingECG','ExerciseAngina',\n",
    "                            'ST_Slope']])"
   ]
  },
  {
   "cell_type": "code",
   "execution_count": 24,
   "id": "ba25e96f",
   "metadata": {},
   "outputs": [],
   "source": [
    "df= pd.concat([data, dummies], axis=1)"
   ]
  },
  {
   "cell_type": "code",
   "execution_count": 25,
   "id": "791fe115",
   "metadata": {},
   "outputs": [
    {
     "data": {
      "text/html": [
       "<div>\n",
       "<style scoped>\n",
       "    .dataframe tbody tr th:only-of-type {\n",
       "        vertical-align: middle;\n",
       "    }\n",
       "\n",
       "    .dataframe tbody tr th {\n",
       "        vertical-align: top;\n",
       "    }\n",
       "\n",
       "    .dataframe thead th {\n",
       "        text-align: right;\n",
       "    }\n",
       "</style>\n",
       "<table border=\"1\" class=\"dataframe\">\n",
       "  <thead>\n",
       "    <tr style=\"text-align: right;\">\n",
       "      <th></th>\n",
       "      <th>Age</th>\n",
       "      <th>RestingBP</th>\n",
       "      <th>Cholesterol</th>\n",
       "      <th>MaxHR</th>\n",
       "      <th>Oldpeak</th>\n",
       "      <th>HeartDisease</th>\n",
       "      <th>Sex_F</th>\n",
       "      <th>Sex_M</th>\n",
       "      <th>ChestPainType_ASY</th>\n",
       "      <th>ChestPainType_ATA</th>\n",
       "      <th>...</th>\n",
       "      <th>FastingBS_0</th>\n",
       "      <th>FastingBS_1</th>\n",
       "      <th>RestingECG_LVH</th>\n",
       "      <th>RestingECG_Normal</th>\n",
       "      <th>RestingECG_ST</th>\n",
       "      <th>ExerciseAngina_N</th>\n",
       "      <th>ExerciseAngina_Y</th>\n",
       "      <th>ST_Slope_Down</th>\n",
       "      <th>ST_Slope_Flat</th>\n",
       "      <th>ST_Slope_Up</th>\n",
       "    </tr>\n",
       "  </thead>\n",
       "  <tbody>\n",
       "    <tr>\n",
       "      <th>0</th>\n",
       "      <td>40</td>\n",
       "      <td>140</td>\n",
       "      <td>289</td>\n",
       "      <td>172</td>\n",
       "      <td>0.0</td>\n",
       "      <td>0</td>\n",
       "      <td>0</td>\n",
       "      <td>1</td>\n",
       "      <td>0</td>\n",
       "      <td>1</td>\n",
       "      <td>...</td>\n",
       "      <td>1</td>\n",
       "      <td>0</td>\n",
       "      <td>0</td>\n",
       "      <td>1</td>\n",
       "      <td>0</td>\n",
       "      <td>1</td>\n",
       "      <td>0</td>\n",
       "      <td>0</td>\n",
       "      <td>0</td>\n",
       "      <td>1</td>\n",
       "    </tr>\n",
       "    <tr>\n",
       "      <th>1</th>\n",
       "      <td>49</td>\n",
       "      <td>160</td>\n",
       "      <td>180</td>\n",
       "      <td>156</td>\n",
       "      <td>1.0</td>\n",
       "      <td>1</td>\n",
       "      <td>1</td>\n",
       "      <td>0</td>\n",
       "      <td>0</td>\n",
       "      <td>0</td>\n",
       "      <td>...</td>\n",
       "      <td>1</td>\n",
       "      <td>0</td>\n",
       "      <td>0</td>\n",
       "      <td>1</td>\n",
       "      <td>0</td>\n",
       "      <td>1</td>\n",
       "      <td>0</td>\n",
       "      <td>0</td>\n",
       "      <td>1</td>\n",
       "      <td>0</td>\n",
       "    </tr>\n",
       "    <tr>\n",
       "      <th>2</th>\n",
       "      <td>37</td>\n",
       "      <td>130</td>\n",
       "      <td>283</td>\n",
       "      <td>98</td>\n",
       "      <td>0.0</td>\n",
       "      <td>0</td>\n",
       "      <td>0</td>\n",
       "      <td>1</td>\n",
       "      <td>0</td>\n",
       "      <td>1</td>\n",
       "      <td>...</td>\n",
       "      <td>1</td>\n",
       "      <td>0</td>\n",
       "      <td>0</td>\n",
       "      <td>0</td>\n",
       "      <td>1</td>\n",
       "      <td>1</td>\n",
       "      <td>0</td>\n",
       "      <td>0</td>\n",
       "      <td>0</td>\n",
       "      <td>1</td>\n",
       "    </tr>\n",
       "  </tbody>\n",
       "</table>\n",
       "<p>3 rows × 22 columns</p>\n",
       "</div>"
      ],
      "text/plain": [
       "   Age  RestingBP  Cholesterol  MaxHR  Oldpeak HeartDisease  Sex_F  Sex_M  \\\n",
       "0   40        140          289    172      0.0            0      0      1   \n",
       "1   49        160          180    156      1.0            1      1      0   \n",
       "2   37        130          283     98      0.0            0      0      1   \n",
       "\n",
       "   ChestPainType_ASY  ChestPainType_ATA  ...  FastingBS_0  FastingBS_1  \\\n",
       "0                  0                  1  ...            1            0   \n",
       "1                  0                  0  ...            1            0   \n",
       "2                  0                  1  ...            1            0   \n",
       "\n",
       "   RestingECG_LVH  RestingECG_Normal  RestingECG_ST  ExerciseAngina_N  \\\n",
       "0               0                  1              0                 1   \n",
       "1               0                  1              0                 1   \n",
       "2               0                  0              1                 1   \n",
       "\n",
       "   ExerciseAngina_Y  ST_Slope_Down  ST_Slope_Flat  ST_Slope_Up  \n",
       "0                 0              0              0            1  \n",
       "1                 0              0              1            0  \n",
       "2                 0              0              0            1  \n",
       "\n",
       "[3 rows x 22 columns]"
      ]
     },
     "execution_count": 25,
     "metadata": {},
     "output_type": "execute_result"
    }
   ],
   "source": [
    "df= df.drop(columns=['Sex','ChestPainType','FastingBS','RestingECG','ExerciseAngina','ST_Slope']\n",
    "           ,axis=1)\n",
    "df.head(3)"
   ]
  },
  {
   "cell_type": "code",
   "execution_count": 26,
   "id": "b280f15a",
   "metadata": {},
   "outputs": [],
   "source": [
    "features= df.drop(columns=['HeartDisease'], axis=1)\n",
    "response= df['HeartDisease']"
   ]
  },
  {
   "cell_type": "code",
   "execution_count": 27,
   "id": "6dd9b92d",
   "metadata": {},
   "outputs": [
    {
     "data": {
      "text/html": [
       "<div>\n",
       "<style scoped>\n",
       "    .dataframe tbody tr th:only-of-type {\n",
       "        vertical-align: middle;\n",
       "    }\n",
       "\n",
       "    .dataframe tbody tr th {\n",
       "        vertical-align: top;\n",
       "    }\n",
       "\n",
       "    .dataframe thead th {\n",
       "        text-align: right;\n",
       "    }\n",
       "</style>\n",
       "<table border=\"1\" class=\"dataframe\">\n",
       "  <thead>\n",
       "    <tr style=\"text-align: right;\">\n",
       "      <th></th>\n",
       "      <th>Age</th>\n",
       "      <th>RestingBP</th>\n",
       "      <th>Cholesterol</th>\n",
       "      <th>MaxHR</th>\n",
       "      <th>Oldpeak</th>\n",
       "      <th>Sex_F</th>\n",
       "      <th>Sex_M</th>\n",
       "      <th>ChestPainType_ASY</th>\n",
       "      <th>ChestPainType_ATA</th>\n",
       "      <th>ChestPainType_NAP</th>\n",
       "      <th>...</th>\n",
       "      <th>FastingBS_0</th>\n",
       "      <th>FastingBS_1</th>\n",
       "      <th>RestingECG_LVH</th>\n",
       "      <th>RestingECG_Normal</th>\n",
       "      <th>RestingECG_ST</th>\n",
       "      <th>ExerciseAngina_N</th>\n",
       "      <th>ExerciseAngina_Y</th>\n",
       "      <th>ST_Slope_Down</th>\n",
       "      <th>ST_Slope_Flat</th>\n",
       "      <th>ST_Slope_Up</th>\n",
       "    </tr>\n",
       "  </thead>\n",
       "  <tbody>\n",
       "    <tr>\n",
       "      <th>0</th>\n",
       "      <td>40</td>\n",
       "      <td>140</td>\n",
       "      <td>289</td>\n",
       "      <td>172</td>\n",
       "      <td>0.0</td>\n",
       "      <td>0</td>\n",
       "      <td>1</td>\n",
       "      <td>0</td>\n",
       "      <td>1</td>\n",
       "      <td>0</td>\n",
       "      <td>...</td>\n",
       "      <td>1</td>\n",
       "      <td>0</td>\n",
       "      <td>0</td>\n",
       "      <td>1</td>\n",
       "      <td>0</td>\n",
       "      <td>1</td>\n",
       "      <td>0</td>\n",
       "      <td>0</td>\n",
       "      <td>0</td>\n",
       "      <td>1</td>\n",
       "    </tr>\n",
       "    <tr>\n",
       "      <th>1</th>\n",
       "      <td>49</td>\n",
       "      <td>160</td>\n",
       "      <td>180</td>\n",
       "      <td>156</td>\n",
       "      <td>1.0</td>\n",
       "      <td>1</td>\n",
       "      <td>0</td>\n",
       "      <td>0</td>\n",
       "      <td>0</td>\n",
       "      <td>1</td>\n",
       "      <td>...</td>\n",
       "      <td>1</td>\n",
       "      <td>0</td>\n",
       "      <td>0</td>\n",
       "      <td>1</td>\n",
       "      <td>0</td>\n",
       "      <td>1</td>\n",
       "      <td>0</td>\n",
       "      <td>0</td>\n",
       "      <td>1</td>\n",
       "      <td>0</td>\n",
       "    </tr>\n",
       "    <tr>\n",
       "      <th>2</th>\n",
       "      <td>37</td>\n",
       "      <td>130</td>\n",
       "      <td>283</td>\n",
       "      <td>98</td>\n",
       "      <td>0.0</td>\n",
       "      <td>0</td>\n",
       "      <td>1</td>\n",
       "      <td>0</td>\n",
       "      <td>1</td>\n",
       "      <td>0</td>\n",
       "      <td>...</td>\n",
       "      <td>1</td>\n",
       "      <td>0</td>\n",
       "      <td>0</td>\n",
       "      <td>0</td>\n",
       "      <td>1</td>\n",
       "      <td>1</td>\n",
       "      <td>0</td>\n",
       "      <td>0</td>\n",
       "      <td>0</td>\n",
       "      <td>1</td>\n",
       "    </tr>\n",
       "  </tbody>\n",
       "</table>\n",
       "<p>3 rows × 21 columns</p>\n",
       "</div>"
      ],
      "text/plain": [
       "   Age  RestingBP  Cholesterol  MaxHR  Oldpeak  Sex_F  Sex_M  \\\n",
       "0   40        140          289    172      0.0      0      1   \n",
       "1   49        160          180    156      1.0      1      0   \n",
       "2   37        130          283     98      0.0      0      1   \n",
       "\n",
       "   ChestPainType_ASY  ChestPainType_ATA  ChestPainType_NAP  ...  FastingBS_0  \\\n",
       "0                  0                  1                  0  ...            1   \n",
       "1                  0                  0                  1  ...            1   \n",
       "2                  0                  1                  0  ...            1   \n",
       "\n",
       "   FastingBS_1  RestingECG_LVH  RestingECG_Normal  RestingECG_ST  \\\n",
       "0            0               0                  1              0   \n",
       "1            0               0                  1              0   \n",
       "2            0               0                  0              1   \n",
       "\n",
       "   ExerciseAngina_N  ExerciseAngina_Y  ST_Slope_Down  ST_Slope_Flat  \\\n",
       "0                 1                 0              0              0   \n",
       "1                 1                 0              0              1   \n",
       "2                 1                 0              0              0   \n",
       "\n",
       "   ST_Slope_Up  \n",
       "0            1  \n",
       "1            0  \n",
       "2            1  \n",
       "\n",
       "[3 rows x 21 columns]"
      ]
     },
     "execution_count": 27,
     "metadata": {},
     "output_type": "execute_result"
    }
   ],
   "source": [
    "features.head(3)"
   ]
  },
  {
   "cell_type": "code",
   "execution_count": 28,
   "id": "0e783a51",
   "metadata": {},
   "outputs": [
    {
     "data": {
      "text/plain": [
       "0    0\n",
       "1    1\n",
       "2    0\n",
       "Name: HeartDisease, dtype: category\n",
       "Categories (2, int64): [0, 1]"
      ]
     },
     "execution_count": 28,
     "metadata": {},
     "output_type": "execute_result"
    }
   ],
   "source": [
    "response.head(3)"
   ]
  },
  {
   "cell_type": "code",
   "execution_count": 29,
   "id": "6c644ab7",
   "metadata": {},
   "outputs": [],
   "source": [
    "x=features\n",
    "y=response\n",
    "\n",
    "x_train,x_test,y_train,y_test = train_test_split(x,y, test_size=0.20, shuffle=True,\n",
    "                                                 random_state=42)\n",
    "\n",
    "scaler= StandardScaler()\n",
    "x_train_scaled= scaler.fit_transform(x_train)\n",
    "x_test_scaled= scaler.fit_transform(x_test)"
   ]
  },
  {
   "cell_type": "code",
   "execution_count": 30,
   "id": "63f971e5",
   "metadata": {},
   "outputs": [
    {
     "data": {
      "text/plain": [
       "LogisticRegression(C=1, penalty='l1', solver='liblinear')"
      ]
     },
     "execution_count": 30,
     "metadata": {},
     "output_type": "execute_result"
    }
   ],
   "source": [
    "#Perform GridsearchCV to tune best-fit LR model\n",
    "param = {'C': [10**-2, 10**-1, 10**0, 10**1,10**2]}\n",
    "\n",
    "lr_model= LogisticRegression(penalty='l1', solver='liblinear')\n",
    "\n",
    "gs_model=GridSearchCV(estimator=lr_model, param_grid=param)\n",
    "\n",
    "gs_model.fit(x_train_scaled, y_train)\n",
    "\n",
    "#Train a model with best parameters\n",
    "model=LogisticRegression(**gs_model.best_params_, penalty='l1', solver='liblinear')\n",
    "\n",
    "model.fit(x_train_scaled, y_train)"
   ]
  },
  {
   "cell_type": "code",
   "execution_count": 31,
   "id": "619be26a",
   "metadata": {},
   "outputs": [
    {
     "data": {
      "text/plain": [
       "array([ 0.13786002,  0.02175863, -0.50903989, -0.08939805,  0.48115306,\n",
       "        0.        ,  0.53389978,  0.7355954 ,  0.        , -0.00889429,\n",
       "        0.05978899, -0.40920025,  0.01004825,  0.07633193,  0.        ,\n",
       "       -0.08043502, -0.19010986,  0.33766626,  0.        ,  0.64931337,\n",
       "       -0.54897813])"
      ]
     },
     "execution_count": 31,
     "metadata": {},
     "output_type": "execute_result"
    }
   ],
   "source": [
    "coefficients= model.coef_[0]\n",
    "coefficients"
   ]
  },
  {
   "cell_type": "code",
   "execution_count": 32,
   "id": "f5a0cfeb",
   "metadata": {},
   "outputs": [
    {
     "data": {
      "text/plain": [
       "array([ True,  True,  True,  True,  True, False,  True,  True, False,\n",
       "        True,  True,  True,  True,  True, False,  True,  True,  True,\n",
       "       False,  True,  True])"
      ]
     },
     "execution_count": 32,
     "metadata": {},
     "output_type": "execute_result"
    }
   ],
   "source": [
    "coefficients!=0"
   ]
  },
  {
   "cell_type": "code",
   "execution_count": 33,
   "id": "75ad9c09",
   "metadata": {},
   "outputs": [
    {
     "data": {
      "text/plain": [
       "0                   Age\n",
       "1             RestingBP\n",
       "2           Cholesterol\n",
       "3                 MaxHR\n",
       "4               Oldpeak\n",
       "6                 Sex_M\n",
       "7     ChestPainType_ASY\n",
       "9     ChestPainType_NAP\n",
       "10     ChestPainType_TA\n",
       "11          FastingBS_0\n",
       "12          FastingBS_1\n",
       "13       RestingECG_LVH\n",
       "15        RestingECG_ST\n",
       "16     ExerciseAngina_N\n",
       "17     ExerciseAngina_Y\n",
       "19        ST_Slope_Flat\n",
       "20          ST_Slope_Up\n",
       "dtype: object"
      ]
     },
     "execution_count": 33,
     "metadata": {},
     "output_type": "execute_result"
    }
   ],
   "source": [
    "good_features= pd.Series(x.columns)[list(coefficients !=0)]\n",
    "good_features"
   ]
  },
  {
   "cell_type": "code",
   "execution_count": 34,
   "id": "129f5839",
   "metadata": {},
   "outputs": [
    {
     "data": {
      "text/html": [
       "<div>\n",
       "<style scoped>\n",
       "    .dataframe tbody tr th:only-of-type {\n",
       "        vertical-align: middle;\n",
       "    }\n",
       "\n",
       "    .dataframe tbody tr th {\n",
       "        vertical-align: top;\n",
       "    }\n",
       "\n",
       "    .dataframe thead th {\n",
       "        text-align: right;\n",
       "    }\n",
       "</style>\n",
       "<table border=\"1\" class=\"dataframe\">\n",
       "  <thead>\n",
       "    <tr style=\"text-align: right;\">\n",
       "      <th></th>\n",
       "      <th>Age</th>\n",
       "      <th>Cholesterol</th>\n",
       "      <th>MaxHR</th>\n",
       "      <th>RestingBP</th>\n",
       "      <th>ST_Slope_Up</th>\n",
       "      <th>ST_Slope_Flat</th>\n",
       "      <th>ExerciseAngina_Y</th>\n",
       "      <th>ExerciseAngina_N</th>\n",
       "      <th>RestingECG_ST</th>\n",
       "      <th>RestingECG_LVH</th>\n",
       "      <th>FastingBS_1</th>\n",
       "      <th>FastingBS_0</th>\n",
       "      <th>ChestPainType_TA</th>\n",
       "      <th>ChestPainType_NAP</th>\n",
       "      <th>ChestPainType_ASY</th>\n",
       "      <th>Sex_F</th>\n",
       "      <th>Sex_M</th>\n",
       "      <th>Oldpeak</th>\n",
       "    </tr>\n",
       "    <tr>\n",
       "      <th>HeartDisease</th>\n",
       "      <th></th>\n",
       "      <th></th>\n",
       "      <th></th>\n",
       "      <th></th>\n",
       "      <th></th>\n",
       "      <th></th>\n",
       "      <th></th>\n",
       "      <th></th>\n",
       "      <th></th>\n",
       "      <th></th>\n",
       "      <th></th>\n",
       "      <th></th>\n",
       "      <th></th>\n",
       "      <th></th>\n",
       "      <th></th>\n",
       "      <th></th>\n",
       "      <th></th>\n",
       "      <th></th>\n",
       "    </tr>\n",
       "  </thead>\n",
       "  <tbody>\n",
       "    <tr>\n",
       "      <th>0</th>\n",
       "      <td>50.551220</td>\n",
       "      <td>227.121951</td>\n",
       "      <td>148.151220</td>\n",
       "      <td>130.180488</td>\n",
       "      <td>0.773171</td>\n",
       "      <td>0.192683</td>\n",
       "      <td>0.134146</td>\n",
       "      <td>0.865854</td>\n",
       "      <td>0.148780</td>\n",
       "      <td>0.200000</td>\n",
       "      <td>0.107317</td>\n",
       "      <td>0.892683</td>\n",
       "      <td>0.063415</td>\n",
       "      <td>0.319512</td>\n",
       "      <td>0.253659</td>\n",
       "      <td>0.348780</td>\n",
       "      <td>0.651220</td>\n",
       "      <td>0.408049</td>\n",
       "    </tr>\n",
       "    <tr>\n",
       "      <th>1</th>\n",
       "      <td>55.899606</td>\n",
       "      <td>175.940945</td>\n",
       "      <td>127.655512</td>\n",
       "      <td>134.185039</td>\n",
       "      <td>0.153543</td>\n",
       "      <td>0.750000</td>\n",
       "      <td>0.622047</td>\n",
       "      <td>0.377953</td>\n",
       "      <td>0.230315</td>\n",
       "      <td>0.208661</td>\n",
       "      <td>0.334646</td>\n",
       "      <td>0.665354</td>\n",
       "      <td>0.039370</td>\n",
       "      <td>0.141732</td>\n",
       "      <td>0.771654</td>\n",
       "      <td>0.098425</td>\n",
       "      <td>0.901575</td>\n",
       "      <td>1.274213</td>\n",
       "    </tr>\n",
       "  </tbody>\n",
       "</table>\n",
       "</div>"
      ],
      "text/plain": [
       "                    Age  Cholesterol       MaxHR   RestingBP  ST_Slope_Up  \\\n",
       "HeartDisease                                                                \n",
       "0             50.551220   227.121951  148.151220  130.180488     0.773171   \n",
       "1             55.899606   175.940945  127.655512  134.185039     0.153543   \n",
       "\n",
       "              ST_Slope_Flat  ExerciseAngina_Y  ExerciseAngina_N  \\\n",
       "HeartDisease                                                      \n",
       "0                  0.192683          0.134146          0.865854   \n",
       "1                  0.750000          0.622047          0.377953   \n",
       "\n",
       "              RestingECG_ST  RestingECG_LVH  FastingBS_1  FastingBS_0  \\\n",
       "HeartDisease                                                            \n",
       "0                  0.148780        0.200000     0.107317     0.892683   \n",
       "1                  0.230315        0.208661     0.334646     0.665354   \n",
       "\n",
       "              ChestPainType_TA  ChestPainType_NAP  ChestPainType_ASY  \\\n",
       "HeartDisease                                                           \n",
       "0                     0.063415           0.319512           0.253659   \n",
       "1                     0.039370           0.141732           0.771654   \n",
       "\n",
       "                 Sex_F     Sex_M   Oldpeak  \n",
       "HeartDisease                                \n",
       "0             0.348780  0.651220  0.408049  \n",
       "1             0.098425  0.901575  1.274213  "
      ]
     },
     "execution_count": 34,
     "metadata": {},
     "output_type": "execute_result"
    }
   ],
   "source": [
    "select_features_again=df.groupby('HeartDisease').agg(\n",
    "{ 'Age':'mean',\n",
    "  'Cholesterol':'mean',\n",
    "  'MaxHR':'mean',\n",
    "  'RestingBP':'mean',\n",
    " 'ST_Slope_Up':'mean',\n",
    " 'ST_Slope_Flat':'mean',\n",
    " 'ExerciseAngina_Y':'mean',\n",
    " 'ExerciseAngina_N':'mean',\n",
    " 'RestingECG_ST':'mean',\n",
    " 'RestingECG_LVH':'mean',\n",
    " 'FastingBS_1':'mean',\n",
    " 'FastingBS_0':'mean',\n",
    " 'ChestPainType_TA':'mean',\n",
    " 'ChestPainType_NAP':'mean',\n",
    " 'ChestPainType_ASY':'mean',\n",
    " 'Sex_F':'mean',\n",
    " 'Sex_M':'mean',\n",
    " 'Oldpeak':'mean',\n",
    " 'Oldpeak':'mean',\n",
    " 'MaxHR':'mean',\n",
    " 'Cholesterol':'mean',\n",
    " 'RestingBP':'mean',\n",
    " 'Age':'mean'\n",
    " \n",
    "})\n",
    "select_features_again"
   ]
  },
  {
   "cell_type": "code",
   "execution_count": 35,
   "id": "cdc29a93",
   "metadata": {},
   "outputs": [
    {
     "data": {
      "text/plain": [
       "Age                   5.348387\n",
       "Cholesterol          51.181006\n",
       "MaxHR                20.495708\n",
       "RestingBP             4.004552\n",
       "ST_Slope_Up           0.619627\n",
       "ST_Slope_Flat         0.557317\n",
       "ExerciseAngina_Y      0.487901\n",
       "ExerciseAngina_N      0.487901\n",
       "RestingECG_ST         0.081534\n",
       "RestingECG_LVH        0.008661\n",
       "FastingBS_1           0.227329\n",
       "FastingBS_0           0.227329\n",
       "ChestPainType_TA      0.024045\n",
       "ChestPainType_NAP     0.177780\n",
       "ChestPainType_ASY     0.517995\n",
       "Sex_F                 0.250355\n",
       "Sex_M                 0.250355\n",
       "Oldpeak               0.866164\n",
       "dtype: float64"
      ]
     },
     "execution_count": 35,
     "metadata": {},
     "output_type": "execute_result"
    }
   ],
   "source": [
    "np.abs(select_features_again.iloc[0] - select_features_again.iloc[1])"
   ]
  },
  {
   "cell_type": "code",
   "execution_count": 36,
   "id": "562adb3c",
   "metadata": {},
   "outputs": [],
   "source": [
    "df=df.drop(columns=['ST_Slope_Down','Sex_F','Sex_M'],axis=1)"
   ]
  },
  {
   "cell_type": "code",
   "execution_count": 37,
   "id": "0a33871f",
   "metadata": {},
   "outputs": [
    {
     "data": {
      "text/html": [
       "<div>\n",
       "<style scoped>\n",
       "    .dataframe tbody tr th:only-of-type {\n",
       "        vertical-align: middle;\n",
       "    }\n",
       "\n",
       "    .dataframe tbody tr th {\n",
       "        vertical-align: top;\n",
       "    }\n",
       "\n",
       "    .dataframe thead th {\n",
       "        text-align: right;\n",
       "    }\n",
       "</style>\n",
       "<table border=\"1\" class=\"dataframe\">\n",
       "  <thead>\n",
       "    <tr style=\"text-align: right;\">\n",
       "      <th></th>\n",
       "      <th>Age</th>\n",
       "      <th>RestingBP</th>\n",
       "      <th>Cholesterol</th>\n",
       "      <th>MaxHR</th>\n",
       "      <th>Oldpeak</th>\n",
       "      <th>HeartDisease</th>\n",
       "      <th>ChestPainType_ASY</th>\n",
       "      <th>ChestPainType_ATA</th>\n",
       "      <th>ChestPainType_NAP</th>\n",
       "      <th>ChestPainType_TA</th>\n",
       "      <th>FastingBS_0</th>\n",
       "      <th>FastingBS_1</th>\n",
       "      <th>RestingECG_LVH</th>\n",
       "      <th>RestingECG_Normal</th>\n",
       "      <th>RestingECG_ST</th>\n",
       "      <th>ExerciseAngina_N</th>\n",
       "      <th>ExerciseAngina_Y</th>\n",
       "      <th>ST_Slope_Flat</th>\n",
       "      <th>ST_Slope_Up</th>\n",
       "    </tr>\n",
       "  </thead>\n",
       "  <tbody>\n",
       "    <tr>\n",
       "      <th>0</th>\n",
       "      <td>40</td>\n",
       "      <td>140</td>\n",
       "      <td>289</td>\n",
       "      <td>172</td>\n",
       "      <td>0.0</td>\n",
       "      <td>0</td>\n",
       "      <td>0</td>\n",
       "      <td>1</td>\n",
       "      <td>0</td>\n",
       "      <td>0</td>\n",
       "      <td>1</td>\n",
       "      <td>0</td>\n",
       "      <td>0</td>\n",
       "      <td>1</td>\n",
       "      <td>0</td>\n",
       "      <td>1</td>\n",
       "      <td>0</td>\n",
       "      <td>0</td>\n",
       "      <td>1</td>\n",
       "    </tr>\n",
       "    <tr>\n",
       "      <th>1</th>\n",
       "      <td>49</td>\n",
       "      <td>160</td>\n",
       "      <td>180</td>\n",
       "      <td>156</td>\n",
       "      <td>1.0</td>\n",
       "      <td>1</td>\n",
       "      <td>0</td>\n",
       "      <td>0</td>\n",
       "      <td>1</td>\n",
       "      <td>0</td>\n",
       "      <td>1</td>\n",
       "      <td>0</td>\n",
       "      <td>0</td>\n",
       "      <td>1</td>\n",
       "      <td>0</td>\n",
       "      <td>1</td>\n",
       "      <td>0</td>\n",
       "      <td>1</td>\n",
       "      <td>0</td>\n",
       "    </tr>\n",
       "    <tr>\n",
       "      <th>2</th>\n",
       "      <td>37</td>\n",
       "      <td>130</td>\n",
       "      <td>283</td>\n",
       "      <td>98</td>\n",
       "      <td>0.0</td>\n",
       "      <td>0</td>\n",
       "      <td>0</td>\n",
       "      <td>1</td>\n",
       "      <td>0</td>\n",
       "      <td>0</td>\n",
       "      <td>1</td>\n",
       "      <td>0</td>\n",
       "      <td>0</td>\n",
       "      <td>0</td>\n",
       "      <td>1</td>\n",
       "      <td>1</td>\n",
       "      <td>0</td>\n",
       "      <td>0</td>\n",
       "      <td>1</td>\n",
       "    </tr>\n",
       "  </tbody>\n",
       "</table>\n",
       "</div>"
      ],
      "text/plain": [
       "   Age  RestingBP  Cholesterol  MaxHR  Oldpeak HeartDisease  \\\n",
       "0   40        140          289    172      0.0            0   \n",
       "1   49        160          180    156      1.0            1   \n",
       "2   37        130          283     98      0.0            0   \n",
       "\n",
       "   ChestPainType_ASY  ChestPainType_ATA  ChestPainType_NAP  ChestPainType_TA  \\\n",
       "0                  0                  1                  0                 0   \n",
       "1                  0                  0                  1                 0   \n",
       "2                  0                  1                  0                 0   \n",
       "\n",
       "   FastingBS_0  FastingBS_1  RestingECG_LVH  RestingECG_Normal  RestingECG_ST  \\\n",
       "0            1            0               0                  1              0   \n",
       "1            1            0               0                  1              0   \n",
       "2            1            0               0                  0              1   \n",
       "\n",
       "   ExerciseAngina_N  ExerciseAngina_Y  ST_Slope_Flat  ST_Slope_Up  \n",
       "0                 1                 0              0            1  \n",
       "1                 1                 0              1            0  \n",
       "2                 1                 0              0            1  "
      ]
     },
     "execution_count": 37,
     "metadata": {},
     "output_type": "execute_result"
    }
   ],
   "source": [
    "df.head(3)"
   ]
  },
  {
   "cell_type": "markdown",
   "id": "046bcf12",
   "metadata": {},
   "source": [
    "<a id='mod'></a>\n",
    "## Modeling"
   ]
  },
  {
   "cell_type": "code",
   "execution_count": 38,
   "id": "71019140",
   "metadata": {},
   "outputs": [],
   "source": [
    "#initiate the logistic regression model\n",
    "lr_model= LogisticRegression()\n",
    "\n",
    "#fit the model\n",
    "lr_model.fit(x_train_scaled, y_train)\n",
    "\n",
    "predictions= lr_model.predict(x_test_scaled)\n",
    "\n",
    "probabilities= lr_model.predict_proba(x_test_scaled)\n",
    "probabilities[0:12]\n",
    "prob= lr_model.predict_proba(x_test_scaled)[:,1]"
   ]
  },
  {
   "cell_type": "markdown",
   "id": "5b65c964",
   "metadata": {},
   "source": [
    "<a id='modeva'></a>\n",
    "## Evaluation"
   ]
  },
  {
   "cell_type": "code",
   "execution_count": 39,
   "id": "016d76b2",
   "metadata": {},
   "outputs": [
    {
     "name": "stdout",
     "output_type": "stream",
     "text": [
      "training_accuracy: 0.8732970027247956\n",
      "test_accuracy: 0.8586956521739131\n",
      "Mse: 0.3759047057780561\n"
     ]
    }
   ],
   "source": [
    "#training accuracy\n",
    "training_accuracy= lr_model.score(x_train_scaled, y_train)\n",
    "\n",
    "#test_accuracy\n",
    "test_accuracy= lr_model.score(x_test_scaled, y_test)\n",
    "\n",
    "mse= mean_squared_error(y_test, predictions, squared=False)\n",
    "\n",
    "print('training_accuracy:',training_accuracy)\n",
    "print('test_accuracy:',test_accuracy)\n",
    "print('Mse:',mse)"
   ]
  },
  {
   "cell_type": "code",
   "execution_count": 40,
   "id": "abaee0a0",
   "metadata": {},
   "outputs": [
    {
     "name": "stdout",
     "output_type": "stream",
     "text": [
      "confusion matrix: [[67 10]\n",
      " [16 91]]\n",
      "classification_report:               precision    recall  f1-score   support\n",
      "\n",
      "           0       0.81      0.87      0.84        77\n",
      "           1       0.90      0.85      0.88       107\n",
      "\n",
      "    accuracy                           0.86       184\n",
      "   macro avg       0.85      0.86      0.86       184\n",
      "weighted avg       0.86      0.86      0.86       184\n",
      "\n"
     ]
    }
   ],
   "source": [
    "#use confusion_matrix\n",
    "cm= confusion_matrix(y_test, predictions)\n",
    "cr= classification_report(y_test, predictions)\n",
    "\n",
    "print('confusion matrix:',cm)\n",
    "print('classification_report:',cr)"
   ]
  },
  {
   "cell_type": "code",
   "execution_count": 41,
   "id": "7cf337d4",
   "metadata": {},
   "outputs": [
    {
     "name": "stdout",
     "output_type": "stream",
     "text": [
      "[[67 10]\n",
      " [16 91]]\n"
     ]
    }
   ],
   "source": [
    "#use confusion_matrix\n",
    "cm= confusion_matrix(y_test, predictions)\n",
    "cr= classification_report(y_test, predictions)\n",
    "print(cm)"
   ]
  },
  {
   "cell_type": "code",
   "execution_count": 42,
   "id": "c3753afe",
   "metadata": {},
   "outputs": [
    {
     "name": "stdout",
     "output_type": "stream",
     "text": [
      "              precision    recall  f1-score   support\n",
      "\n",
      "           0       0.81      0.87      0.84        77\n",
      "           1       0.90      0.85      0.88       107\n",
      "\n",
      "    accuracy                           0.86       184\n",
      "   macro avg       0.85      0.86      0.86       184\n",
      "weighted avg       0.86      0.86      0.86       184\n",
      "\n"
     ]
    }
   ],
   "source": [
    "print(cr)"
   ]
  },
  {
   "cell_type": "code",
   "execution_count": 43,
   "id": "df7cc43e",
   "metadata": {},
   "outputs": [
    {
     "data": {
      "image/png": "[encoded data removed]",
      "text/plain": [
       "<Figure size 640x480 with 1 Axes>"
      ]
     },
     "metadata": {},
     "output_type": "display_data"
    }
   ],
   "source": [
    "#evaluate with roc curve\n",
    "\n",
    "from sklearn.metrics import roc_curve\n",
    "\n",
    "fpr,tpr,thresholds= roc_curve(y_test, prob)\n",
    "\n",
    "plt.plot([0,1], [0,1], 'k--')\n",
    "\n",
    "plt.plot(fpr, tpr)\n",
    "plt.xlabel('False Positive Rate')\n",
    "plt.ylabel('True Positive Rate')\n",
    "plt.title('Roc Curve');"
   ]
  },
  {
   "cell_type": "code",
   "execution_count": null,
   "id": "eaee5f7d",
   "metadata": {},
   "outputs": [],
   "source": []
  }
 ],
 "metadata": {
  "kernelspec": {
   "display_name": "Python 3 (ipykernel)",
   "language": "python",
   "name": "python3"
  },
  "language_info": {
   "codemirror_mode": {
    "name": "ipython",
    "version": 3
   },
   "file_extension": ".py",
   "mimetype": "text/x-python",
   "name": "python",
   "nbconvert_exporter": "python",
   "pygments_lexer": "ipython3",
   "version": "3.9.13"
  }
 },
 "nbformat": 4,
 "nbformat_minor": 5
}
