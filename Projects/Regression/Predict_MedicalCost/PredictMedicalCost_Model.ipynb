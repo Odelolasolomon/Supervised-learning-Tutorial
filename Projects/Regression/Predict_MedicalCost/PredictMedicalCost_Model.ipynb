{
 "cells": [
  {
   "cell_type": "markdown",
   "id": "74042685",
   "metadata": {},
   "source": [
    "# Project : Predict The Medical Cost of Insurance Bills of Patients in Hospital\n",
    "\n",
    "<ul>\n",
    "<li><a href=\"#intro\">Introduction</a></li>\n",
    "<li><a href=\"#Fea\">Feature Engineering/Data Preprocessing</a></li>\n",
    "<li><a href=\"#mod\">Modeling</a></li>\n",
    "<li><a href=\"#modeva\">Model Evaluation</a></li>\n",
    "<li><a href=\"#hyp\">HyperParameter Optimization</a></li>\n",
    "<li><a href=\"#conclusions\">Conclusions</a></li>\n",
    "</ul>"
   ]
  },
  {
   "cell_type": "markdown",
   "id": "e0e43c3f",
   "metadata": {},
   "source": [
    "<a id='intro'></a>\n",
    "## Introduction\n",
    "For this  project, I be looking at the Medical Cost Data Set from Kaggle. This dataset contains information on individual medical insurance bills. Each bill is associated with some demographic and personal characteristics of the person who received it.\n",
    "\n",
    "For our regression problem, we're interested in how these different characteristics relate to the total medical cost. It's a continuous, positive number, which makes it a good candidate for a linear regression and other regressors. For this project, I want to construct the best possible predictive model for the cost, given some information about the patient. Predicting medical costs is an important task because it allows hospitals to predict revenue and plan necessary procedures needed by its patient population."
   ]
  },
  {
   "cell_type": "code",
   "execution_count": 1,
   "id": "e2eb1217",
   "metadata": {},
   "outputs": [],
   "source": [
    "import pandas as pd\n",
    "import matplotlib.pyplot as plt\n",
    "import numpy as np\n",
    "import seaborn as sns\n",
    "from sklearn.linear_model import LinearRegression\n",
    "from sklearn.metrics import r2_score,mean_squared_error\n",
    "from sklearn.preprocessing import MinMaxScaler\n",
    "from sklearn.model_selection import train_test_split\n",
    "from sklearn.tree import DecisionTreeRegressor\n",
    "from sklearn.ensemble  import RandomForestRegressor\n",
    "from xgboost import XGBRFRegressor"
   ]
  },
  {
   "cell_type": "code",
   "execution_count": 2,
   "id": "b2ff515a",
   "metadata": {},
   "outputs": [
    {
     "data": {
      "text/html": [
       "<div>\n",
       "<style scoped>\n",
       "    .dataframe tbody tr th:only-of-type {\n",
       "        vertical-align: middle;\n",
       "    }\n",
       "\n",
       "    .dataframe tbody tr th {\n",
       "        vertical-align: top;\n",
       "    }\n",
       "\n",
       "    .dataframe thead th {\n",
       "        text-align: right;\n",
       "    }\n",
       "</style>\n",
       "<table border=\"1\" class=\"dataframe\">\n",
       "  <thead>\n",
       "    <tr style=\"text-align: right;\">\n",
       "      <th></th>\n",
       "      <th>Unnamed: 0</th>\n",
       "      <th>age</th>\n",
       "      <th>sex</th>\n",
       "      <th>bmi</th>\n",
       "      <th>children</th>\n",
       "      <th>smoker</th>\n",
       "      <th>region</th>\n",
       "      <th>charges</th>\n",
       "    </tr>\n",
       "  </thead>\n",
       "  <tbody>\n",
       "    <tr>\n",
       "      <th>0</th>\n",
       "      <td>0</td>\n",
       "      <td>19</td>\n",
       "      <td>female</td>\n",
       "      <td>27.900</td>\n",
       "      <td>0</td>\n",
       "      <td>yes</td>\n",
       "      <td>southwest</td>\n",
       "      <td>16884.92400</td>\n",
       "    </tr>\n",
       "    <tr>\n",
       "      <th>1</th>\n",
       "      <td>1</td>\n",
       "      <td>18</td>\n",
       "      <td>male</td>\n",
       "      <td>33.770</td>\n",
       "      <td>1</td>\n",
       "      <td>no</td>\n",
       "      <td>southeast</td>\n",
       "      <td>1725.55230</td>\n",
       "    </tr>\n",
       "    <tr>\n",
       "      <th>2</th>\n",
       "      <td>2</td>\n",
       "      <td>28</td>\n",
       "      <td>male</td>\n",
       "      <td>33.000</td>\n",
       "      <td>3</td>\n",
       "      <td>no</td>\n",
       "      <td>southeast</td>\n",
       "      <td>4449.46200</td>\n",
       "    </tr>\n",
       "    <tr>\n",
       "      <th>3</th>\n",
       "      <td>3</td>\n",
       "      <td>33</td>\n",
       "      <td>male</td>\n",
       "      <td>22.705</td>\n",
       "      <td>0</td>\n",
       "      <td>no</td>\n",
       "      <td>northwest</td>\n",
       "      <td>21984.47061</td>\n",
       "    </tr>\n",
       "    <tr>\n",
       "      <th>4</th>\n",
       "      <td>4</td>\n",
       "      <td>32</td>\n",
       "      <td>male</td>\n",
       "      <td>28.880</td>\n",
       "      <td>0</td>\n",
       "      <td>no</td>\n",
       "      <td>northwest</td>\n",
       "      <td>3866.85520</td>\n",
       "    </tr>\n",
       "  </tbody>\n",
       "</table>\n",
       "</div>"
      ],
      "text/plain": [
       "   Unnamed: 0  age     sex     bmi  children smoker     region      charges\n",
       "0           0   19  female  27.900         0    yes  southwest  16884.92400\n",
       "1           1   18    male  33.770         1     no  southeast   1725.55230\n",
       "2           2   28    male  33.000         3     no  southeast   4449.46200\n",
       "3           3   33    male  22.705         0     no  northwest  21984.47061\n",
       "4           4   32    male  28.880         0     no  northwest   3866.85520"
      ]
     },
     "execution_count": 2,
     "metadata": {},
     "output_type": "execute_result"
    }
   ],
   "source": [
    "df=pd.read_csv('induranceclean.csv')\n",
    "df.head()"
   ]
  },
  {
   "cell_type": "code",
   "execution_count": 3,
   "id": "061af005",
   "metadata": {},
   "outputs": [
    {
     "data": {
      "text/html": [
       "<div>\n",
       "<style scoped>\n",
       "    .dataframe tbody tr th:only-of-type {\n",
       "        vertical-align: middle;\n",
       "    }\n",
       "\n",
       "    .dataframe tbody tr th {\n",
       "        vertical-align: top;\n",
       "    }\n",
       "\n",
       "    .dataframe thead th {\n",
       "        text-align: right;\n",
       "    }\n",
       "</style>\n",
       "<table border=\"1\" class=\"dataframe\">\n",
       "  <thead>\n",
       "    <tr style=\"text-align: right;\">\n",
       "      <th></th>\n",
       "      <th>age</th>\n",
       "      <th>sex</th>\n",
       "      <th>bmi</th>\n",
       "      <th>children</th>\n",
       "      <th>smoker</th>\n",
       "      <th>region</th>\n",
       "      <th>charges</th>\n",
       "    </tr>\n",
       "  </thead>\n",
       "  <tbody>\n",
       "    <tr>\n",
       "      <th>0</th>\n",
       "      <td>19</td>\n",
       "      <td>female</td>\n",
       "      <td>27.900</td>\n",
       "      <td>0</td>\n",
       "      <td>yes</td>\n",
       "      <td>southwest</td>\n",
       "      <td>16884.92400</td>\n",
       "    </tr>\n",
       "    <tr>\n",
       "      <th>1</th>\n",
       "      <td>18</td>\n",
       "      <td>male</td>\n",
       "      <td>33.770</td>\n",
       "      <td>1</td>\n",
       "      <td>no</td>\n",
       "      <td>southeast</td>\n",
       "      <td>1725.55230</td>\n",
       "    </tr>\n",
       "    <tr>\n",
       "      <th>2</th>\n",
       "      <td>28</td>\n",
       "      <td>male</td>\n",
       "      <td>33.000</td>\n",
       "      <td>3</td>\n",
       "      <td>no</td>\n",
       "      <td>southeast</td>\n",
       "      <td>4449.46200</td>\n",
       "    </tr>\n",
       "    <tr>\n",
       "      <th>3</th>\n",
       "      <td>33</td>\n",
       "      <td>male</td>\n",
       "      <td>22.705</td>\n",
       "      <td>0</td>\n",
       "      <td>no</td>\n",
       "      <td>northwest</td>\n",
       "      <td>21984.47061</td>\n",
       "    </tr>\n",
       "    <tr>\n",
       "      <th>4</th>\n",
       "      <td>32</td>\n",
       "      <td>male</td>\n",
       "      <td>28.880</td>\n",
       "      <td>0</td>\n",
       "      <td>no</td>\n",
       "      <td>northwest</td>\n",
       "      <td>3866.85520</td>\n",
       "    </tr>\n",
       "  </tbody>\n",
       "</table>\n",
       "</div>"
      ],
      "text/plain": [
       "   age     sex     bmi  children smoker     region      charges\n",
       "0   19  female  27.900         0    yes  southwest  16884.92400\n",
       "1   18    male  33.770         1     no  southeast   1725.55230\n",
       "2   28    male  33.000         3     no  southeast   4449.46200\n",
       "3   33    male  22.705         0     no  northwest  21984.47061\n",
       "4   32    male  28.880         0     no  northwest   3866.85520"
      ]
     },
     "execution_count": 3,
     "metadata": {},
     "output_type": "execute_result"
    }
   ],
   "source": [
    "#drop unnecessary column\n",
    "df=df.drop(columns=['Unnamed: 0'], axis=1)\n",
    "df.head()"
   ]
  },
  {
   "cell_type": "code",
   "execution_count": 4,
   "id": "d693c45a",
   "metadata": {},
   "outputs": [
    {
     "data": {
      "text/plain": [
       "(1338, 7)"
      ]
     },
     "execution_count": 4,
     "metadata": {},
     "output_type": "execute_result"
    }
   ],
   "source": [
    "df.shape"
   ]
  },
  {
   "cell_type": "markdown",
   "id": "562d86e1",
   "metadata": {},
   "source": [
    "<a id='Fea'></a>\n",
    "## Feature Engineering/Data Preprocessing/## Feature Selection"
   ]
  },
  {
   "cell_type": "code",
   "execution_count": 5,
   "id": "da0ef596",
   "metadata": {},
   "outputs": [
    {
     "data": {
      "text/plain": [
       "age           int64\n",
       "sex          object\n",
       "bmi         float64\n",
       "children      int64\n",
       "smoker       object\n",
       "region       object\n",
       "charges     float64\n",
       "dtype: object"
      ]
     },
     "execution_count": 5,
     "metadata": {},
     "output_type": "execute_result"
    }
   ],
   "source": [
    "#check the data types\n",
    "df.dtypes"
   ]
  },
  {
   "cell_type": "code",
   "execution_count": 6,
   "id": "cf76a620",
   "metadata": {},
   "outputs": [],
   "source": [
    "#convert the object variables to category\n",
    "df['sex']=df['sex'].astype('category')\n",
    "df['smoker']=df['smoker'].astype('category')\n",
    "df['region']=df['region'].astype('category')"
   ]
  },
  {
   "cell_type": "code",
   "execution_count": 7,
   "id": "476f0093",
   "metadata": {},
   "outputs": [
    {
     "data": {
      "text/plain": [
       "age            int64\n",
       "sex         category\n",
       "bmi          float64\n",
       "children       int64\n",
       "smoker      category\n",
       "region      category\n",
       "charges      float64\n",
       "dtype: object"
      ]
     },
     "execution_count": 7,
     "metadata": {},
     "output_type": "execute_result"
    }
   ],
   "source": [
    "#comfirm the data types\n",
    "df.dtypes"
   ]
  },
  {
   "cell_type": "code",
   "execution_count": 8,
   "id": "a3538f3b",
   "metadata": {},
   "outputs": [],
   "source": [
    "#Encode the variables as neeeded\n",
    "dummies=pd.get_dummies(df[['sex','smoker','region']])"
   ]
  },
  {
   "cell_type": "code",
   "execution_count": 9,
   "id": "5f3dc5e7",
   "metadata": {},
   "outputs": [],
   "source": [
    "df=pd.concat([df, dummies], axis=1)"
   ]
  },
  {
   "cell_type": "code",
   "execution_count": 10,
   "id": "3bcdd8c1",
   "metadata": {},
   "outputs": [
    {
     "data": {
      "text/html": [
       "<div>\n",
       "<style scoped>\n",
       "    .dataframe tbody tr th:only-of-type {\n",
       "        vertical-align: middle;\n",
       "    }\n",
       "\n",
       "    .dataframe tbody tr th {\n",
       "        vertical-align: top;\n",
       "    }\n",
       "\n",
       "    .dataframe thead th {\n",
       "        text-align: right;\n",
       "    }\n",
       "</style>\n",
       "<table border=\"1\" class=\"dataframe\">\n",
       "  <thead>\n",
       "    <tr style=\"text-align: right;\">\n",
       "      <th></th>\n",
       "      <th>age</th>\n",
       "      <th>sex</th>\n",
       "      <th>bmi</th>\n",
       "      <th>children</th>\n",
       "      <th>smoker</th>\n",
       "      <th>region</th>\n",
       "      <th>charges</th>\n",
       "      <th>sex_female</th>\n",
       "      <th>sex_male</th>\n",
       "      <th>smoker_no</th>\n",
       "      <th>smoker_yes</th>\n",
       "      <th>region_northeast</th>\n",
       "      <th>region_northwest</th>\n",
       "      <th>region_southeast</th>\n",
       "      <th>region_southwest</th>\n",
       "    </tr>\n",
       "  </thead>\n",
       "  <tbody>\n",
       "    <tr>\n",
       "      <th>0</th>\n",
       "      <td>19</td>\n",
       "      <td>female</td>\n",
       "      <td>27.900</td>\n",
       "      <td>0</td>\n",
       "      <td>yes</td>\n",
       "      <td>southwest</td>\n",
       "      <td>16884.92400</td>\n",
       "      <td>True</td>\n",
       "      <td>False</td>\n",
       "      <td>False</td>\n",
       "      <td>True</td>\n",
       "      <td>False</td>\n",
       "      <td>False</td>\n",
       "      <td>False</td>\n",
       "      <td>True</td>\n",
       "    </tr>\n",
       "    <tr>\n",
       "      <th>1</th>\n",
       "      <td>18</td>\n",
       "      <td>male</td>\n",
       "      <td>33.770</td>\n",
       "      <td>1</td>\n",
       "      <td>no</td>\n",
       "      <td>southeast</td>\n",
       "      <td>1725.55230</td>\n",
       "      <td>False</td>\n",
       "      <td>True</td>\n",
       "      <td>True</td>\n",
       "      <td>False</td>\n",
       "      <td>False</td>\n",
       "      <td>False</td>\n",
       "      <td>True</td>\n",
       "      <td>False</td>\n",
       "    </tr>\n",
       "    <tr>\n",
       "      <th>2</th>\n",
       "      <td>28</td>\n",
       "      <td>male</td>\n",
       "      <td>33.000</td>\n",
       "      <td>3</td>\n",
       "      <td>no</td>\n",
       "      <td>southeast</td>\n",
       "      <td>4449.46200</td>\n",
       "      <td>False</td>\n",
       "      <td>True</td>\n",
       "      <td>True</td>\n",
       "      <td>False</td>\n",
       "      <td>False</td>\n",
       "      <td>False</td>\n",
       "      <td>True</td>\n",
       "      <td>False</td>\n",
       "    </tr>\n",
       "    <tr>\n",
       "      <th>3</th>\n",
       "      <td>33</td>\n",
       "      <td>male</td>\n",
       "      <td>22.705</td>\n",
       "      <td>0</td>\n",
       "      <td>no</td>\n",
       "      <td>northwest</td>\n",
       "      <td>21984.47061</td>\n",
       "      <td>False</td>\n",
       "      <td>True</td>\n",
       "      <td>True</td>\n",
       "      <td>False</td>\n",
       "      <td>False</td>\n",
       "      <td>True</td>\n",
       "      <td>False</td>\n",
       "      <td>False</td>\n",
       "    </tr>\n",
       "    <tr>\n",
       "      <th>4</th>\n",
       "      <td>32</td>\n",
       "      <td>male</td>\n",
       "      <td>28.880</td>\n",
       "      <td>0</td>\n",
       "      <td>no</td>\n",
       "      <td>northwest</td>\n",
       "      <td>3866.85520</td>\n",
       "      <td>False</td>\n",
       "      <td>True</td>\n",
       "      <td>True</td>\n",
       "      <td>False</td>\n",
       "      <td>False</td>\n",
       "      <td>True</td>\n",
       "      <td>False</td>\n",
       "      <td>False</td>\n",
       "    </tr>\n",
       "  </tbody>\n",
       "</table>\n",
       "</div>"
      ],
      "text/plain": [
       "   age     sex     bmi  children smoker     region      charges  sex_female  \\\n",
       "0   19  female  27.900         0    yes  southwest  16884.92400        True   \n",
       "1   18    male  33.770         1     no  southeast   1725.55230       False   \n",
       "2   28    male  33.000         3     no  southeast   4449.46200       False   \n",
       "3   33    male  22.705         0     no  northwest  21984.47061       False   \n",
       "4   32    male  28.880         0     no  northwest   3866.85520       False   \n",
       "\n",
       "   sex_male  smoker_no  smoker_yes  region_northeast  region_northwest  \\\n",
       "0     False      False        True             False             False   \n",
       "1      True       True       False             False             False   \n",
       "2      True       True       False             False             False   \n",
       "3      True       True       False             False              True   \n",
       "4      True       True       False             False              True   \n",
       "\n",
       "   region_southeast  region_southwest  \n",
       "0             False              True  \n",
       "1              True             False  \n",
       "2              True             False  \n",
       "3             False             False  \n",
       "4             False             False  "
      ]
     },
     "execution_count": 10,
     "metadata": {},
     "output_type": "execute_result"
    }
   ],
   "source": [
    "df.head()"
   ]
  },
  {
   "cell_type": "code",
   "execution_count": 11,
   "id": "15e9f055",
   "metadata": {},
   "outputs": [
    {
     "data": {
      "text/plain": [
       "(1338, 15)"
      ]
     },
     "execution_count": 11,
     "metadata": {},
     "output_type": "execute_result"
    }
   ],
   "source": [
    "df.shape"
   ]
  },
  {
   "cell_type": "code",
   "execution_count": 12,
   "id": "7c775a24",
   "metadata": {},
   "outputs": [],
   "source": [
    "df=df.drop(columns=['sex','smoker','region'], axis=1)"
   ]
  },
  {
   "cell_type": "code",
   "execution_count": 13,
   "id": "03b76f15",
   "metadata": {},
   "outputs": [
    {
     "data": {
      "text/plain": [
       "(1338, 12)"
      ]
     },
     "execution_count": 13,
     "metadata": {},
     "output_type": "execute_result"
    }
   ],
   "source": [
    "df.shape"
   ]
  },
  {
   "cell_type": "code",
   "execution_count": 14,
   "id": "97fd2771",
   "metadata": {},
   "outputs": [
    {
     "data": {
      "text/html": [
       "<div>\n",
       "<style scoped>\n",
       "    .dataframe tbody tr th:only-of-type {\n",
       "        vertical-align: middle;\n",
       "    }\n",
       "\n",
       "    .dataframe tbody tr th {\n",
       "        vertical-align: top;\n",
       "    }\n",
       "\n",
       "    .dataframe thead th {\n",
       "        text-align: right;\n",
       "    }\n",
       "</style>\n",
       "<table border=\"1\" class=\"dataframe\">\n",
       "  <thead>\n",
       "    <tr style=\"text-align: right;\">\n",
       "      <th></th>\n",
       "      <th>age</th>\n",
       "      <th>bmi</th>\n",
       "      <th>children</th>\n",
       "      <th>charges</th>\n",
       "      <th>sex_female</th>\n",
       "      <th>sex_male</th>\n",
       "      <th>smoker_no</th>\n",
       "      <th>smoker_yes</th>\n",
       "      <th>region_northeast</th>\n",
       "      <th>region_northwest</th>\n",
       "      <th>region_southeast</th>\n",
       "      <th>region_southwest</th>\n",
       "    </tr>\n",
       "  </thead>\n",
       "  <tbody>\n",
       "    <tr>\n",
       "      <th>0</th>\n",
       "      <td>19</td>\n",
       "      <td>27.900</td>\n",
       "      <td>0</td>\n",
       "      <td>16884.92400</td>\n",
       "      <td>True</td>\n",
       "      <td>False</td>\n",
       "      <td>False</td>\n",
       "      <td>True</td>\n",
       "      <td>False</td>\n",
       "      <td>False</td>\n",
       "      <td>False</td>\n",
       "      <td>True</td>\n",
       "    </tr>\n",
       "    <tr>\n",
       "      <th>1</th>\n",
       "      <td>18</td>\n",
       "      <td>33.770</td>\n",
       "      <td>1</td>\n",
       "      <td>1725.55230</td>\n",
       "      <td>False</td>\n",
       "      <td>True</td>\n",
       "      <td>True</td>\n",
       "      <td>False</td>\n",
       "      <td>False</td>\n",
       "      <td>False</td>\n",
       "      <td>True</td>\n",
       "      <td>False</td>\n",
       "    </tr>\n",
       "    <tr>\n",
       "      <th>2</th>\n",
       "      <td>28</td>\n",
       "      <td>33.000</td>\n",
       "      <td>3</td>\n",
       "      <td>4449.46200</td>\n",
       "      <td>False</td>\n",
       "      <td>True</td>\n",
       "      <td>True</td>\n",
       "      <td>False</td>\n",
       "      <td>False</td>\n",
       "      <td>False</td>\n",
       "      <td>True</td>\n",
       "      <td>False</td>\n",
       "    </tr>\n",
       "    <tr>\n",
       "      <th>3</th>\n",
       "      <td>33</td>\n",
       "      <td>22.705</td>\n",
       "      <td>0</td>\n",
       "      <td>21984.47061</td>\n",
       "      <td>False</td>\n",
       "      <td>True</td>\n",
       "      <td>True</td>\n",
       "      <td>False</td>\n",
       "      <td>False</td>\n",
       "      <td>True</td>\n",
       "      <td>False</td>\n",
       "      <td>False</td>\n",
       "    </tr>\n",
       "    <tr>\n",
       "      <th>4</th>\n",
       "      <td>32</td>\n",
       "      <td>28.880</td>\n",
       "      <td>0</td>\n",
       "      <td>3866.85520</td>\n",
       "      <td>False</td>\n",
       "      <td>True</td>\n",
       "      <td>True</td>\n",
       "      <td>False</td>\n",
       "      <td>False</td>\n",
       "      <td>True</td>\n",
       "      <td>False</td>\n",
       "      <td>False</td>\n",
       "    </tr>\n",
       "  </tbody>\n",
       "</table>\n",
       "</div>"
      ],
      "text/plain": [
       "   age     bmi  children      charges  sex_female  sex_male  smoker_no  \\\n",
       "0   19  27.900         0  16884.92400        True     False      False   \n",
       "1   18  33.770         1   1725.55230       False      True       True   \n",
       "2   28  33.000         3   4449.46200       False      True       True   \n",
       "3   33  22.705         0  21984.47061       False      True       True   \n",
       "4   32  28.880         0   3866.85520       False      True       True   \n",
       "\n",
       "   smoker_yes  region_northeast  region_northwest  region_southeast  \\\n",
       "0        True             False             False             False   \n",
       "1       False             False             False              True   \n",
       "2       False             False             False              True   \n",
       "3       False             False              True             False   \n",
       "4       False             False              True             False   \n",
       "\n",
       "   region_southwest  \n",
       "0              True  \n",
       "1             False  \n",
       "2             False  \n",
       "3             False  \n",
       "4             False  "
      ]
     },
     "execution_count": 14,
     "metadata": {},
     "output_type": "execute_result"
    }
   ],
   "source": [
    "#display d first five rows\n",
    "df.head()"
   ]
  },
  {
   "cell_type": "code",
   "execution_count": 15,
   "id": "02e285d5",
   "metadata": {},
   "outputs": [],
   "source": [
    "#check the relationship betweeen the numerical predictors and the Charges\n",
    "numerical_data=df[['age','bmi','children','charges']]"
   ]
  },
  {
   "cell_type": "code",
   "execution_count": 16,
   "id": "516a11ad",
   "metadata": {},
   "outputs": [
    {
     "data": {
      "text/html": [
       "<div>\n",
       "<style scoped>\n",
       "    .dataframe tbody tr th:only-of-type {\n",
       "        vertical-align: middle;\n",
       "    }\n",
       "\n",
       "    .dataframe tbody tr th {\n",
       "        vertical-align: top;\n",
       "    }\n",
       "\n",
       "    .dataframe thead th {\n",
       "        text-align: right;\n",
       "    }\n",
       "</style>\n",
       "<table border=\"1\" class=\"dataframe\">\n",
       "  <thead>\n",
       "    <tr style=\"text-align: right;\">\n",
       "      <th></th>\n",
       "      <th>age</th>\n",
       "      <th>bmi</th>\n",
       "      <th>children</th>\n",
       "      <th>charges</th>\n",
       "    </tr>\n",
       "  </thead>\n",
       "  <tbody>\n",
       "    <tr>\n",
       "      <th>age</th>\n",
       "      <td>1.000000</td>\n",
       "      <td>0.109272</td>\n",
       "      <td>0.042469</td>\n",
       "      <td>0.299008</td>\n",
       "    </tr>\n",
       "    <tr>\n",
       "      <th>bmi</th>\n",
       "      <td>0.109272</td>\n",
       "      <td>1.000000</td>\n",
       "      <td>0.012759</td>\n",
       "      <td>0.198341</td>\n",
       "    </tr>\n",
       "    <tr>\n",
       "      <th>children</th>\n",
       "      <td>0.042469</td>\n",
       "      <td>0.012759</td>\n",
       "      <td>1.000000</td>\n",
       "      <td>0.067998</td>\n",
       "    </tr>\n",
       "    <tr>\n",
       "      <th>charges</th>\n",
       "      <td>0.299008</td>\n",
       "      <td>0.198341</td>\n",
       "      <td>0.067998</td>\n",
       "      <td>1.000000</td>\n",
       "    </tr>\n",
       "  </tbody>\n",
       "</table>\n",
       "</div>"
      ],
      "text/plain": [
       "               age       bmi  children   charges\n",
       "age       1.000000  0.109272  0.042469  0.299008\n",
       "bmi       0.109272  1.000000  0.012759  0.198341\n",
       "children  0.042469  0.012759  1.000000  0.067998\n",
       "charges   0.299008  0.198341  0.067998  1.000000"
      ]
     },
     "execution_count": 16,
     "metadata": {},
     "output_type": "execute_result"
    }
   ],
   "source": [
    "corr=numerical_data.corr()\n",
    "corr"
   ]
  },
  {
   "cell_type": "code",
   "execution_count": 17,
   "id": "55ada874",
   "metadata": {},
   "outputs": [
    {
     "data": {
      "text/plain": [
       "charges     1.000000\n",
       "age         0.299008\n",
       "bmi         0.198341\n",
       "children    0.067998\n",
       "Name: charges, dtype: float64"
      ]
     },
     "execution_count": 17,
     "metadata": {},
     "output_type": "execute_result"
    }
   ],
   "source": [
    "corr['charges'].sort_values(ascending=False)"
   ]
  },
  {
   "cell_type": "markdown",
   "id": "f2eecdea",
   "metadata": {},
   "source": [
    "from the result of the correlation coefficients of each predictors against the label, bmi and age have the highest correlation coefficient, though the correlation coefficients is not strong enough but as the data is not enough i will make do with **age and bmi.**"
   ]
  },
  {
   "cell_type": "code",
   "execution_count": 18,
   "id": "d0ec286a",
   "metadata": {},
   "outputs": [
    {
     "data": {
      "image/png": "[encoded data removed]",
      "text/plain": [
       "<Figure size 640x480 with 2 Axes>"
      ]
     },
     "metadata": {},
     "output_type": "display_data"
    }
   ],
   "source": [
    "sns.heatmap(data=numerical_data.corr(), annot=True);"
   ]
  },
  {
   "cell_type": "code",
   "execution_count": 19,
   "id": "f291a0b8",
   "metadata": {},
   "outputs": [
    {
     "data": {
      "image/png": "[encoded data removed]",
      "text/plain": [
       "<Figure size 1200x600 with 2 Axes>"
      ]
     },
     "metadata": {},
     "output_type": "display_data"
    }
   ],
   "source": [
    "plt.figure(figsize=[12,6])\n",
    "\n",
    "#see which of the categorical values will have impact on the label\n",
    "plt.subplot(1,2,1)\n",
    "sns.boxplot(data=df, x='sex_female', y='charges')\n",
    "\n",
    "plt.subplot(1,2,2)\n",
    "sns.boxplot(data=df, x='sex_male', y='charges');\n",
    "\n",
    "#plt.subplot(1,3,3)\n",
    "#sns.boxplot(data=data, x='children')"
   ]
  },
  {
   "cell_type": "code",
   "execution_count": 20,
   "id": "521d0214",
   "metadata": {},
   "outputs": [
    {
     "data": {
      "image/png": "[encoded data removed]",
      "text/plain": [
       "<Figure size 1200x600 with 2 Axes>"
      ]
     },
     "metadata": {},
     "output_type": "display_data"
    }
   ],
   "source": [
    "plt.figure(figsize=[12,6])\n",
    "\n",
    "#see which of the categorical values will have impact on the label\n",
    "plt.subplot(1,2,1)\n",
    "sns.boxplot(data=df, x='smoker_yes', y='charges')\n",
    "\n",
    "plt.subplot(1,2,2)\n",
    "sns.boxplot(data=df, x='smoker_no', y='charges');\n",
    "\n",
    "#plt.subplot(1,3,3)\n",
    "#sns.boxplot(data=data, x='children')"
   ]
  },
  {
   "cell_type": "code",
   "execution_count": 21,
   "id": "23ec43c1",
   "metadata": {},
   "outputs": [
    {
     "data": {
      "image/png": "[encoded data removed]",
      "text/plain": [
       "<Figure size 640x480 with 1 Axes>"
      ]
     },
     "metadata": {},
     "output_type": "display_data"
    }
   ],
   "source": [
    "#see which of the categorical values will have impact on the label\n",
    "\n",
    "sns.boxplot(data=df, x='children', y='charges');"
   ]
  },
  {
   "cell_type": "code",
   "execution_count": 22,
   "id": "1b740fcf",
   "metadata": {},
   "outputs": [
    {
     "data": {
      "image/png": "[encoded data removed]",
      "text/plain": [
       "<Figure size 1200x600 with 2 Axes>"
      ]
     },
     "metadata": {},
     "output_type": "display_data"
    }
   ],
   "source": [
    "plt.figure(figsize=[12,6])\n",
    "\n",
    "#see which of the categorical values will have impact on the label\n",
    "plt.subplot(1,2,1)\n",
    "sns.boxplot(data=df, x='region_northeast', y='charges')\n",
    "\n",
    "plt.subplot(1,2,2)\n",
    "sns.boxplot(data=df, x='region_northwest', y='charges');"
   ]
  },
  {
   "cell_type": "code",
   "execution_count": 23,
   "id": "8b008e65",
   "metadata": {},
   "outputs": [
    {
     "data": {
      "image/png": "[encoded data removed]",
      "text/plain": [
       "<Figure size 1200x600 with 2 Axes>"
      ]
     },
     "metadata": {},
     "output_type": "display_data"
    }
   ],
   "source": [
    "plt.figure(figsize=[12,6])\n",
    "    \n",
    "plt.subplot(1,2,1)\n",
    "sns.boxplot(data=df, x='region_southeast', y='charges')\n",
    "\n",
    "plt.subplot(1,2,2)\n",
    "sns.boxplot(data=df, x='region_southwest', y='charges');"
   ]
  },
  {
   "cell_type": "markdown",
   "id": "ccd0de35",
   "metadata": {},
   "source": [
    "From the boxplots of the categorical variables, i can see obviously that some certain variables change as the label(charges) changes, hence such variables are better predictors of the labels .\n",
    "The categorical variables that change respectively with the output are **Children,region_southeast, region_southwest,smoker_yes,smoker_no,sex_male, sex_female.**"
   ]
  },
  {
   "cell_type": "code",
   "execution_count": 24,
   "id": "b9cc3bfb",
   "metadata": {},
   "outputs": [
    {
     "data": {
      "text/plain": [
       "Index(['age', 'bmi', 'children', 'charges', 'sex_female', 'sex_male',\n",
       "       'smoker_no', 'smoker_yes', 'region_northeast', 'region_northwest',\n",
       "       'region_southeast', 'region_southwest'],\n",
       "      dtype='object')"
      ]
     },
     "execution_count": 24,
     "metadata": {},
     "output_type": "execute_result"
    }
   ],
   "source": [
    "df.columns"
   ]
  },
  {
   "cell_type": "code",
   "execution_count": 26,
   "id": "e841ebe1",
   "metadata": {},
   "outputs": [],
   "source": [
    "#Q1 = df.quantile(.25, axis=0)\n",
    "#print('first quartile',Q1)"
   ]
  },
  {
   "cell_type": "code",
   "execution_count": 27,
   "id": "5756fdc4",
   "metadata": {},
   "outputs": [],
   "source": [
    "#Q3 = df.quantile(.75, axis=0)\n",
    "#print('first quartile',Q3)"
   ]
  },
  {
   "cell_type": "code",
   "execution_count": null,
   "id": "9ac2d368",
   "metadata": {},
   "outputs": [],
   "source": [
    "#inter quartile range\n",
    "#IQR= Q3-Q1\n",
    "#IQR"
   ]
  },
  {
   "cell_type": "code",
   "execution_count": 28,
   "id": "9cb2fa7b",
   "metadata": {},
   "outputs": [],
   "source": [
    "#df=df[((df < (Q1-1.5 * IQR)) | (df > (Q3 + 1.5 * IQR))).any(axis=1)]\n",
    "#df"
   ]
  },
  {
   "cell_type": "code",
   "execution_count": 29,
   "id": "f64c83d4",
   "metadata": {},
   "outputs": [
    {
     "data": {
      "text/plain": [
       "(1338, 12)"
      ]
     },
     "execution_count": 29,
     "metadata": {},
     "output_type": "execute_result"
    }
   ],
   "source": [
    "df.shape"
   ]
  },
  {
   "cell_type": "code",
   "execution_count": 30,
   "id": "021b6155",
   "metadata": {},
   "outputs": [
    {
     "data": {
      "image/png": "[encoded data removed]",
      "text/plain": [
       "<Figure size 500x400 with 1 Axes>"
      ]
     },
     "metadata": {},
     "output_type": "display_data"
    }
   ],
   "source": [
    "plt.figure(figsize=[5,4])\n",
    "sns.boxplot(data=df, x='charges');"
   ]
  },
  {
   "cell_type": "code",
   "execution_count": 31,
   "id": "eef3a821",
   "metadata": {},
   "outputs": [
    {
     "data": {
      "text/plain": [
       "(1205, 12)"
      ]
     },
     "execution_count": 31,
     "metadata": {},
     "output_type": "execute_result"
    }
   ],
   "source": [
    "df=df[df['charges'] < 35000]\n",
    "df.shape"
   ]
  },
  {
   "cell_type": "code",
   "execution_count": 32,
   "id": "77ac54a8",
   "metadata": {},
   "outputs": [
    {
     "data": {
      "text/html": [
       "<div>\n",
       "<style scoped>\n",
       "    .dataframe tbody tr th:only-of-type {\n",
       "        vertical-align: middle;\n",
       "    }\n",
       "\n",
       "    .dataframe tbody tr th {\n",
       "        vertical-align: top;\n",
       "    }\n",
       "\n",
       "    .dataframe thead th {\n",
       "        text-align: right;\n",
       "    }\n",
       "</style>\n",
       "<table border=\"1\" class=\"dataframe\">\n",
       "  <thead>\n",
       "    <tr style=\"text-align: right;\">\n",
       "      <th></th>\n",
       "      <th>age</th>\n",
       "      <th>bmi</th>\n",
       "      <th>children</th>\n",
       "      <th>charges</th>\n",
       "      <th>sex_female</th>\n",
       "      <th>sex_male</th>\n",
       "      <th>smoker_no</th>\n",
       "      <th>smoker_yes</th>\n",
       "      <th>region_northeast</th>\n",
       "      <th>region_northwest</th>\n",
       "      <th>region_southeast</th>\n",
       "      <th>region_southwest</th>\n",
       "    </tr>\n",
       "  </thead>\n",
       "  <tbody>\n",
       "    <tr>\n",
       "      <th>0</th>\n",
       "      <td>19</td>\n",
       "      <td>27.900</td>\n",
       "      <td>0</td>\n",
       "      <td>16884.92400</td>\n",
       "      <td>True</td>\n",
       "      <td>False</td>\n",
       "      <td>False</td>\n",
       "      <td>True</td>\n",
       "      <td>False</td>\n",
       "      <td>False</td>\n",
       "      <td>False</td>\n",
       "      <td>True</td>\n",
       "    </tr>\n",
       "    <tr>\n",
       "      <th>1</th>\n",
       "      <td>18</td>\n",
       "      <td>33.770</td>\n",
       "      <td>1</td>\n",
       "      <td>1725.55230</td>\n",
       "      <td>False</td>\n",
       "      <td>True</td>\n",
       "      <td>True</td>\n",
       "      <td>False</td>\n",
       "      <td>False</td>\n",
       "      <td>False</td>\n",
       "      <td>True</td>\n",
       "      <td>False</td>\n",
       "    </tr>\n",
       "    <tr>\n",
       "      <th>2</th>\n",
       "      <td>28</td>\n",
       "      <td>33.000</td>\n",
       "      <td>3</td>\n",
       "      <td>4449.46200</td>\n",
       "      <td>False</td>\n",
       "      <td>True</td>\n",
       "      <td>True</td>\n",
       "      <td>False</td>\n",
       "      <td>False</td>\n",
       "      <td>False</td>\n",
       "      <td>True</td>\n",
       "      <td>False</td>\n",
       "    </tr>\n",
       "    <tr>\n",
       "      <th>3</th>\n",
       "      <td>33</td>\n",
       "      <td>22.705</td>\n",
       "      <td>0</td>\n",
       "      <td>21984.47061</td>\n",
       "      <td>False</td>\n",
       "      <td>True</td>\n",
       "      <td>True</td>\n",
       "      <td>False</td>\n",
       "      <td>False</td>\n",
       "      <td>True</td>\n",
       "      <td>False</td>\n",
       "      <td>False</td>\n",
       "    </tr>\n",
       "    <tr>\n",
       "      <th>4</th>\n",
       "      <td>32</td>\n",
       "      <td>28.880</td>\n",
       "      <td>0</td>\n",
       "      <td>3866.85520</td>\n",
       "      <td>False</td>\n",
       "      <td>True</td>\n",
       "      <td>True</td>\n",
       "      <td>False</td>\n",
       "      <td>False</td>\n",
       "      <td>True</td>\n",
       "      <td>False</td>\n",
       "      <td>False</td>\n",
       "    </tr>\n",
       "  </tbody>\n",
       "</table>\n",
       "</div>"
      ],
      "text/plain": [
       "   age     bmi  children      charges  sex_female  sex_male  smoker_no  \\\n",
       "0   19  27.900         0  16884.92400        True     False      False   \n",
       "1   18  33.770         1   1725.55230       False      True       True   \n",
       "2   28  33.000         3   4449.46200       False      True       True   \n",
       "3   33  22.705         0  21984.47061       False      True       True   \n",
       "4   32  28.880         0   3866.85520       False      True       True   \n",
       "\n",
       "   smoker_yes  region_northeast  region_northwest  region_southeast  \\\n",
       "0        True             False             False             False   \n",
       "1       False             False             False              True   \n",
       "2       False             False             False              True   \n",
       "3       False             False              True             False   \n",
       "4       False             False              True             False   \n",
       "\n",
       "   region_southwest  \n",
       "0              True  \n",
       "1             False  \n",
       "2             False  \n",
       "3             False  \n",
       "4             False  "
      ]
     },
     "execution_count": 32,
     "metadata": {},
     "output_type": "execute_result"
    }
   ],
   "source": [
    "df.head()"
   ]
  },
  {
   "cell_type": "code",
   "execution_count": 33,
   "id": "18ecef42",
   "metadata": {},
   "outputs": [
    {
     "data": {
      "text/plain": [
       "age                   int64\n",
       "bmi                 float64\n",
       "children              int64\n",
       "charges             float64\n",
       "sex_female             bool\n",
       "sex_male               bool\n",
       "smoker_no              bool\n",
       "smoker_yes             bool\n",
       "region_northeast       bool\n",
       "region_northwest       bool\n",
       "region_southeast       bool\n",
       "region_southwest       bool\n",
       "dtype: object"
      ]
     },
     "execution_count": 33,
     "metadata": {},
     "output_type": "execute_result"
    }
   ],
   "source": [
    "df.dtypes "
   ]
  },
  {
   "cell_type": "code",
   "execution_count": 34,
   "id": "323c8adb",
   "metadata": {},
   "outputs": [],
   "source": [
    "#separate the predictors from the response variable.\n",
    "x=df.drop(columns=['charges'], axis=1)\n",
    "y=df['charges']"
   ]
  },
  {
   "cell_type": "code",
   "execution_count": 35,
   "id": "25b29314",
   "metadata": {},
   "outputs": [],
   "source": [
    "from sklearn.preprocessing import StandardScaler\n",
    "from sklearn.decomposition import PCA\n",
    "#X= data.drop(columns=['Network'],axis=1)\n",
    "\n",
    "# Standardize the data\n",
    "scaler = StandardScaler()\n",
    "X_scaled = scaler.fit_transform(x)\n",
    "\n",
    "# Compute the covariance matrix\n",
    "cov_matrix = np.cov(X_scaled.T)\n",
    "\n",
    "# Compute the principal components\n",
    "pca = PCA()\n",
    "pca.fit(X_scaled)\n",
    "\n",
    "# Determine the number of components to keep\n",
    "explained_variance = pca.explained_variance_ratio_\n",
    "n_components = np.argmax(np.cumsum(explained_variance) >= 0.95) + 1\n",
    "\n",
    "# Fit PCA with the selected number of components\n",
    "pca = PCA(n_components=n_components)\n",
    "X_pca = pca.fit_transform(X_scaled)\n",
    "\n",
    "# Get the names of the columns\n",
    "component_names = ['PC{}'.format(i+1) for i in range(pca.n_components_)]\n",
    "feature_names = list(x.columns)\n",
    "component_names_and_features = list(zip(component_names, feature_names))"
   ]
  },
  {
   "cell_type": "code",
   "execution_count": 36,
   "id": "3702419d",
   "metadata": {},
   "outputs": [
    {
     "name": "stdout",
     "output_type": "stream",
     "text": [
      "[('PC1', 'age'), ('PC2', 'bmi'), ('PC3', 'children'), ('PC4', 'sex_female'), ('PC5', 'sex_male'), ('PC6', 'smoker_no'), ('PC7', 'smoker_yes'), ('PC8', 'region_northeast')]\n"
     ]
    }
   ],
   "source": [
    "print(component_names_and_features)"
   ]
  },
  {
   "cell_type": "code",
   "execution_count": 37,
   "id": "5e914581",
   "metadata": {},
   "outputs": [
    {
     "data": {
      "text/plain": [
       "Index(['age', 'bmi', 'children', 'charges', 'sex_female', 'sex_male',\n",
       "       'smoker_no', 'smoker_yes', 'region_northeast', 'region_northwest',\n",
       "       'region_southeast', 'region_southwest'],\n",
       "      dtype='object')"
      ]
     },
     "execution_count": 37,
     "metadata": {},
     "output_type": "execute_result"
    }
   ],
   "source": [
    "df.columns"
   ]
  },
  {
   "cell_type": "code",
   "execution_count": 38,
   "id": "282210ec",
   "metadata": {},
   "outputs": [],
   "source": [
    "x= df.drop(columns=['region_northwest','region_southeast','region_southwest','charges'],axis=1)\n",
    "y= df['charges']"
   ]
  },
  {
   "cell_type": "code",
   "execution_count": 39,
   "id": "5f113265",
   "metadata": {},
   "outputs": [
    {
     "data": {
      "text/plain": [
       "((964, 8), (964,))"
      ]
     },
     "execution_count": 39,
     "metadata": {},
     "output_type": "execute_result"
    }
   ],
   "source": [
    "#split the data into train and test data\n",
    "\n",
    "x_train,x_test,y_train,y_test=train_test_split(x,y, test_size=0.2, random_state=30)\n",
    "x_train.shape,y_train.shape"
   ]
  },
  {
   "cell_type": "code",
   "execution_count": 40,
   "id": "6a58dbb5",
   "metadata": {},
   "outputs": [],
   "source": [
    "#scale the data using either the minmac scaler or the standard scaler\n",
    "\n",
    "#instantiate\n",
    "scaler=MinMaxScaler()\n",
    "\n",
    "#scale the train and test data\n",
    "x_train_scaled=scaler.fit_transform(x_train)\n",
    "x_test_scaled=scaler.fit_transform(x_test)"
   ]
  },
  {
   "cell_type": "code",
   "execution_count": 41,
   "id": "b5a8c54a",
   "metadata": {},
   "outputs": [],
   "source": [
    "df.to_csv('medicalcostdata.csv')"
   ]
  },
  {
   "cell_type": "markdown",
   "id": "6423d2cb",
   "metadata": {},
   "source": [
    "<a id='mod'> </a>\n",
    "## Modelling Section"
   ]
  },
  {
   "cell_type": "code",
   "execution_count": 42,
   "id": "32e54243",
   "metadata": {},
   "outputs": [
    {
     "data": {
      "text/plain": [
       "array([12746.61460231,  9950.89166859, 20191.34782727, 10368.80306216,\n",
       "       13217.71047119,  9667.22320798,  4954.72073761])"
      ]
     },
     "execution_count": 42,
     "metadata": {},
     "output_type": "execute_result"
    }
   ],
   "source": [
    "#instantiate the linear regression model\n",
    "model= LinearRegression()\n",
    "\n",
    "#fit the model\n",
    "model.fit(x_train_scaled, y_train)\n",
    "\n",
    "#make predictions\n",
    "train_predictions=model.predict(x_train_scaled)\n",
    "test_predictions=model.predict(x_test_scaled)\n",
    "\n",
    "test_predictions[0:7]\n",
    "train_predictions[0:7]"
   ]
  },
  {
   "cell_type": "code",
   "execution_count": 43,
   "id": "19d70bbc",
   "metadata": {},
   "outputs": [
    {
     "data": {
      "text/plain": [
       "(array([11000.33831375,  3889.94834409,  2042.0214502 ,   139.63862678,\n",
       "         -139.63862678, -7877.6375314 ,  7877.6375314 ,   948.1595373 ]),\n",
       " 8920.737048648081)"
      ]
     },
     "execution_count": 43,
     "metadata": {},
     "output_type": "execute_result"
    }
   ],
   "source": [
    "coef=model.coef_\n",
    "intercept=model.intercept_\n",
    "\n",
    "coef,intercept"
   ]
  },
  {
   "cell_type": "code",
   "execution_count": 44,
   "id": "0ef63e5f",
   "metadata": {},
   "outputs": [],
   "source": [
    "#check the residuals\n",
    "residuals= y_train - train_predictions\n",
    "residuals_test= y_test- test_predictions"
   ]
  },
  {
   "cell_type": "code",
   "execution_count": 45,
   "id": "3cc68f24",
   "metadata": {},
   "outputs": [
    {
     "name": "stdout",
     "output_type": "stream",
     "text": [
      "-8.981731909624769e-13 22589536.130739447\n"
     ]
    }
   ],
   "source": [
    "residual_mean= np.mean(residuals)\n",
    "residual_variance=np.var(residuals)\n",
    "residual_mean2=np.mean(residuals_test)\n",
    "residual_variance2=np.var(residuals_test)\n",
    "\n",
    "print(residual_mean, residual_variance)"
   ]
  },
  {
   "cell_type": "code",
   "execution_count": 46,
   "id": "c8be3c53",
   "metadata": {},
   "outputs": [
    {
     "ename": "TypeError",
     "evalue": "regplot() takes from 0 to 1 positional arguments but 2 were given",
     "output_type": "error",
     "traceback": [
      "\u001b[1;31m---------------------------------------------------------------------------\u001b[0m",
      "\u001b[1;31mTypeError\u001b[0m                                 Traceback (most recent call last)",
      "\u001b[1;32m~\\AppData\\Local\\Temp\\ipykernel_24840\\682035777.py\u001b[0m in \u001b[0;36m<module>\u001b[1;34m\u001b[0m\n\u001b[0;32m      1\u001b[0m \u001b[0mplt\u001b[0m\u001b[1;33m.\u001b[0m\u001b[0mfigure\u001b[0m\u001b[1;33m(\u001b[0m\u001b[0mfigsize\u001b[0m\u001b[1;33m=\u001b[0m\u001b[1;33m[\u001b[0m\u001b[1;36m5\u001b[0m\u001b[1;33m,\u001b[0m\u001b[1;36m4\u001b[0m\u001b[1;33m]\u001b[0m\u001b[1;33m)\u001b[0m\u001b[1;33m\u001b[0m\u001b[1;33m\u001b[0m\u001b[0m\n\u001b[1;32m----> 2\u001b[1;33m \u001b[0msns\u001b[0m\u001b[1;33m.\u001b[0m\u001b[0mregplot\u001b[0m\u001b[1;33m(\u001b[0m\u001b[0mresiduals\u001b[0m\u001b[1;33m,\u001b[0m \u001b[0mtrain_predictions\u001b[0m\u001b[1;33m)\u001b[0m\u001b[1;33m\u001b[0m\u001b[1;33m\u001b[0m\u001b[0m\n\u001b[0m\u001b[0;32m      3\u001b[0m \u001b[0mplt\u001b[0m\u001b[1;33m.\u001b[0m\u001b[0mxlabel\u001b[0m\u001b[1;33m(\u001b[0m\u001b[1;34m'Residuals'\u001b[0m\u001b[1;33m)\u001b[0m\u001b[1;33m\u001b[0m\u001b[1;33m\u001b[0m\u001b[0m\n\u001b[0;32m      4\u001b[0m \u001b[0mplt\u001b[0m\u001b[1;33m.\u001b[0m\u001b[0mylabel\u001b[0m\u001b[1;33m(\u001b[0m\u001b[1;34m'Predictions'\u001b[0m\u001b[1;33m)\u001b[0m\u001b[1;33m\u001b[0m\u001b[1;33m\u001b[0m\u001b[0m\n\u001b[0;32m      5\u001b[0m \u001b[0mplt\u001b[0m\u001b[1;33m.\u001b[0m\u001b[0mtitle\u001b[0m\u001b[1;33m(\u001b[0m\u001b[1;34m'Graph of Variance of Residuals'\u001b[0m\u001b[1;33m)\u001b[0m\u001b[1;33m;\u001b[0m\u001b[1;33m\u001b[0m\u001b[1;33m\u001b[0m\u001b[0m\n",
      "\u001b[1;31mTypeError\u001b[0m: regplot() takes from 0 to 1 positional arguments but 2 were given"
     ]
    },
    {
     "data": {
      "text/plain": [
       "<Figure size 500x400 with 0 Axes>"
      ]
     },
     "metadata": {},
     "output_type": "display_data"
    }
   ],
   "source": [
    "plt.figure(figsize=[5,4])\n",
    "sns.regplot(residuals, train_predictions)\n",
    "plt.xlabel('Residuals')\n",
    "plt.ylabel('Predictions')\n",
    "plt.title('Graph of Variance of Residuals');"
   ]
  },
  {
   "cell_type": "code",
   "execution_count": null,
   "id": "4950dfa0",
   "metadata": {},
   "outputs": [],
   "source": [
    "plt.figure(figsize=[5,4])\n",
    "sns.regplot(residuals_test, test_predictions)\n",
    "plt.xlabel('Residuals')\n",
    "plt.ylabel('Predictions')\n",
    "plt.title('Graph of Variance of Residuals');"
   ]
  },
  {
   "cell_type": "code",
   "execution_count": null,
   "id": "e12c66c2",
   "metadata": {},
   "outputs": [],
   "source": [
    "df['res_train']=residuals\n",
    "df['res_test']=residuals_test\n",
    "sns.histplot(data=df, x='res_train', kde=True)\n",
    "plt.xlabel('Train Residuals')\n",
    "plt.title('Distribution of Train Errors or say errors')"
   ]
  },
  {
   "cell_type": "code",
   "execution_count": null,
   "id": "1ecf0bc4",
   "metadata": {},
   "outputs": [],
   "source": [
    "sns.histplot(data=df, x='res_test', kde=True)\n",
    "plt.xlabel('Test Residuals')\n",
    "plt.title('Distribution of Test Residuals');"
   ]
  },
  {
   "cell_type": "markdown",
   "id": "cfe272b0",
   "metadata": {},
   "source": [
    "<a id='modeva'> </a>\n",
    "## Model Evaluation"
   ]
  },
  {
   "cell_type": "code",
   "execution_count": null,
   "id": "7642e0f0",
   "metadata": {},
   "outputs": [],
   "source": [
    "#evaluate the model using r2_score, score, and the mean_squared_error\n",
    "\n",
    "train_score=model.score(x_train_scaled, y_train)\n",
    "test_score=model.score(x_test_scaled, y_test)\n",
    "\n",
    "print(train_score, test_score)"
   ]
  },
  {
   "cell_type": "code",
   "execution_count": null,
   "id": "961f79c4",
   "metadata": {},
   "outputs": [],
   "source": [
    "Rmean_squared_error_train=mean_squared_error(y_train, train_predictions, squared=False)\n",
    "Rmean_squared_error_test=mean_squared_error(y_test, test_predictions, squared=False)"
   ]
  },
  {
   "cell_type": "code",
   "execution_count": null,
   "id": "08a10db8",
   "metadata": {},
   "outputs": [],
   "source": [
    "print(Rmean_squared_error_train)\n",
    "print(Rmean_squared_error_test)"
   ]
  },
  {
   "cell_type": "markdown",
   "id": "6a0d6e20",
   "metadata": {},
   "source": [
    "<a id='hyp'></a>\n",
    "## Hyperparameter Optimization"
   ]
  },
  {
   "cell_type": "code",
   "execution_count": null,
   "id": "b8cef439",
   "metadata": {},
   "outputs": [],
   "source": [
    "from sklearn.linear_model import Ridge\n",
    "ridge_model= Ridge()\n",
    "ridge_model.fit(x_train_scaled, y_train)\n",
    "ridge_pred= ridge_model.predict(x_test_scaled)\n",
    "ridge_pred_train= ridge_model.predict(x_train_scaled)"
   ]
  },
  {
   "cell_type": "code",
   "execution_count": null,
   "id": "d495c636",
   "metadata": {},
   "outputs": [],
   "source": [
    "#train score\n",
    "train_score= ridge_model.score(x_train_scaled, y_train)\n",
    "test_score= ridge_model.score(x_test_scaled, y_test)\n",
    "rmse= mean_squared_error(y_test, ridge_pred, squared=False)\n",
    "\n",
    "print(train_score)\n",
    "print(test_score)\n",
    "print(rmse)"
   ]
  },
  {
   "cell_type": "code",
   "execution_count": null,
   "id": "a5978cc2",
   "metadata": {},
   "outputs": [],
   "source": [
    "residuals_train=y_train-ridge_pred_train\n",
    "residuals_test-= y_test-ridge_pred"
   ]
  },
  {
   "cell_type": "code",
   "execution_count": null,
   "id": "1b587851",
   "metadata": {},
   "outputs": [],
   "source": [
    "mean_train_residuals=np.mean(residuals_train)\n",
    "mean_test_residuals=np.mean(residuals_test)\n",
    "var_train_residuals=np.var(residuals_train)\n",
    "var_test_residuals=np.var(residuals_test)\n",
    "\n",
    "print('average train residuals is:' + str(mean_train_residuals))\n",
    "print('average test residuals is:' + str(mean_test_residuals))\n",
    "print('variance of train residuals is:' + str(var_train_residuals))\n",
    "print('variance of test residuals is:' + str(var_test_residuals))"
   ]
  },
  {
   "cell_type": "code",
   "execution_count": null,
   "id": "a7563b04",
   "metadata": {
    "scrolled": true
   },
   "outputs": [],
   "source": [
    "sns.regplot(residuals_train, ridge_pred_train)\n",
    "plt.xlabel('Train Residuals')\n",
    "plt.ylabel('Predictions')\n",
    "plt.title('Graph of variance of Train Residuals');"
   ]
  },
  {
   "cell_type": "code",
   "execution_count": null,
   "id": "4bf4ef7a",
   "metadata": {},
   "outputs": [],
   "source": [
    "sns.regplot(residuals_test, ridge_pred)\n",
    "plt.xlabel('Test Residuals')\n",
    "plt.ylabel('Test Predictions')\n",
    "plt.title('Variance of Test Residuals');"
   ]
  },
  {
   "cell_type": "code",
   "execution_count": null,
   "id": "9ba1933a",
   "metadata": {},
   "outputs": [],
   "source": [
    "df['test_residuals']=residuals_test\n",
    "df['train_residuals']=residuals_train\n",
    "\n",
    "sns.histplot(data=df, x='test_residuals', kde=True)\n",
    "plt.title('Distribution of Test Residuals');"
   ]
  },
  {
   "cell_type": "code",
   "execution_count": null,
   "id": "6399ab13",
   "metadata": {},
   "outputs": [],
   "source": [
    "sns.histplot(data=df, x='train_residuals', kde=True)\n",
    "plt.title('Distribution of Train Residuals');"
   ]
  },
  {
   "cell_type": "markdown",
   "id": "152ecceb",
   "metadata": {},
   "source": [
    "### Decision Tree Model"
   ]
  },
  {
   "cell_type": "code",
   "execution_count": null,
   "id": "6e9c2bb9",
   "metadata": {},
   "outputs": [],
   "source": [
    "tree_model= DecisionTreeRegressor()\n",
    "tree_model.fit(x_train_scaled, y_train)\n",
    "pred_tree= tree_model.predict(x_test_scaled)\n",
    "#train score\n",
    "train_score= tree_model.score(x_train_scaled, y_train)\n",
    "test_score= tree_model.score(x_test_scaled, y_test)\n",
    "rmse= mean_squared_error(y_test, pred_tree, squared=False )\n",
    "print(train_score)\n",
    "print(test_score)\n",
    "print(rmse)"
   ]
  },
  {
   "cell_type": "markdown",
   "id": "7fb40842",
   "metadata": {},
   "source": [
    "### Hyperparameter optimization"
   ]
  },
  {
   "cell_type": "code",
   "execution_count": null,
   "id": "7deff648",
   "metadata": {},
   "outputs": [],
   "source": [
    "tree_model= DecisionTreeRegressor(max_depth=10, max_features=15, max_leaf_nodes=350)\n",
    "tree_model.fit(x_train_scaled, y_train)\n",
    "pred_tree= tree_model.predict(x_test_scaled)\n",
    "pred_train= tree_model.predict(x_train_scaled)\n",
    "#train score\n",
    "train_score= tree_model.score(x_train_scaled, y_train)\n",
    "test_score= tree_model.score(x_test_scaled, y_test)\n",
    "rmse= mean_squared_error(y_test, pred_tree, squared=False )\n",
    "print(train_score)\n",
    "print(test_score)\n",
    "print(rmse)"
   ]
  },
  {
   "cell_type": "code",
   "execution_count": null,
   "id": "948f6068",
   "metadata": {},
   "outputs": [],
   "source": [
    "residuals_train=y_train-pred_train\n",
    "residuals_test-= y_test-pred_tree\n",
    "\n",
    "mean_train_residuals=np.mean(residuals_train)\n",
    "mean_test_residuals=np.mean(residuals_test)\n",
    "var_train_residuals=np.var(residuals_train)\n",
    "var_test_residuals=np.var(residuals_test)\n",
    "\n",
    "print('average train residuals is:' + str(mean_train_residuals))\n",
    "print('average test residuals is:' + str(mean_test_residuals))\n",
    "print('variance of train residuals is:' + str(var_train_residuals))\n",
    "print('variance of test residuals is:' + str(var_test_residuals))"
   ]
  },
  {
   "cell_type": "code",
   "execution_count": null,
   "id": "032c823c",
   "metadata": {},
   "outputs": [],
   "source": [
    "sns.regplot(residuals_train, pred_train)\n",
    "plt.xlabel('Train Residuals')\n",
    "plt.ylabel('Predictions')\n",
    "plt.title('Graph of variance of Train Residuals');"
   ]
  },
  {
   "cell_type": "code",
   "execution_count": null,
   "id": "eefb1c06",
   "metadata": {},
   "outputs": [],
   "source": [
    "sns.regplot(residuals_test, pred_tree)\n",
    "plt.xlabel('Test Residuals')\n",
    "plt.ylabel('Test Predictions')\n",
    "plt.title('Variance of Test Residuals');"
   ]
  },
  {
   "cell_type": "code",
   "execution_count": null,
   "id": "de0aa38b",
   "metadata": {},
   "outputs": [],
   "source": [
    "df['test_residuals']=residuals_test\n",
    "df['train_residuals']=residuals_train\n",
    "\n",
    "sns.histplot(data=df, x='test_residuals', kde=True)\n",
    "plt.title('Distribution of Test Residuals');"
   ]
  },
  {
   "cell_type": "code",
   "execution_count": null,
   "id": "b875d363",
   "metadata": {},
   "outputs": [],
   "source": [
    "sns.histplot(data=df, x='train_residuals', kde=True)\n",
    "plt.title('Distribution of Train Residuals');"
   ]
  },
  {
   "cell_type": "markdown",
   "id": "b0339141",
   "metadata": {},
   "source": [
    "### Random forest model"
   ]
  },
  {
   "cell_type": "code",
   "execution_count": null,
   "id": "4fab8d79",
   "metadata": {},
   "outputs": [],
   "source": [
    "rf_model= RandomForestRegressor()\n",
    "rf_model.fit(x_train_scaled, y_train)\n",
    "pred_tree= rf_model.predict(x_test_scaled)\n",
    "pred_rf_train= rf_model.predict(x_train_scaled)\n",
    "#train score\n",
    "train_score= rf_model.score(x_train_scaled, y_train)\n",
    "test_score= rf_model.score(x_test_scaled, y_test)\n",
    "rmse= mean_squared_error(y_test, pred_tree, squared=False )\n",
    "print(train_score)\n",
    "print(test_score)\n",
    "print(rmse)"
   ]
  },
  {
   "cell_type": "code",
   "execution_count": null,
   "id": "c558c8f1",
   "metadata": {},
   "outputs": [],
   "source": [
    "residuals_train=y_train-pred_rf_train\n",
    "residuals_test-= y_test-pred_tree\n",
    "\n",
    "mean_train_residuals=np.mean(residuals_train)\n",
    "mean_test_residuals=np.mean(residuals_test)\n",
    "var_train_residuals=np.var(residuals_train)\n",
    "var_test_residuals=np.var(residuals_test)\n",
    "\n",
    "print('average train residuals is:' + str(mean_train_residuals))\n",
    "print('average test residuals is:' + str(mean_test_residuals))\n",
    "print('variance of train residuals is:' + str(var_train_residuals))\n",
    "print('variance of test residuals is:' + str(var_test_residuals))"
   ]
  },
  {
   "cell_type": "code",
   "execution_count": null,
   "id": "8e641d94",
   "metadata": {},
   "outputs": [],
   "source": [
    "plt.figure(figsize=[5,4])\n",
    "sns.regplot(residuals_train, pred_rf_train)\n",
    "plt.xlabel('Residuals')\n",
    "plt.ylabel('Predictions')\n",
    "plt.title('Graph of variance of residuals');"
   ]
  },
  {
   "cell_type": "code",
   "execution_count": null,
   "id": "77c8c088",
   "metadata": {},
   "outputs": [],
   "source": [
    "plt.figure(figsize=[5,4])\n",
    "sns.regplot(residuals_test, pred_tree)\n",
    "plt.xlabel('Residuals')\n",
    "plt.ylabel('Predictions')\n",
    "plt.title('Graph of variance of Test Residuals');"
   ]
  },
  {
   "cell_type": "code",
   "execution_count": null,
   "id": "fb8d2352",
   "metadata": {},
   "outputs": [],
   "source": [
    "df['test_residuals']=residuals_test\n",
    "df['train_residuals']=residuals_train\n",
    "\n",
    "sns.histplot(data=df, x='test_residuals', kde=True)\n",
    "plt.title('Distribution of Test Residuals');"
   ]
  },
  {
   "cell_type": "code",
   "execution_count": null,
   "id": "a6a28a63",
   "metadata": {},
   "outputs": [],
   "source": [
    "sns.histplot(data=df, x='train_residuals', kde=True)\n",
    "plt.title('Distribution of Train Residuals');"
   ]
  },
  {
   "cell_type": "code",
   "execution_count": null,
   "id": "0be4ee4d",
   "metadata": {},
   "outputs": [],
   "source": [
    "x_train.head(2)"
   ]
  },
  {
   "cell_type": "code",
   "execution_count": null,
   "id": "23b0fae8",
   "metadata": {},
   "outputs": [],
   "source": [
    "#build a predictive system\n",
    "\n",
    "data= (56,32.110,1,0,1,1,0,1)\n",
    "\n",
    "data_array= np.asarray(data)\n",
    "\n",
    "data_reshaped= data_array.reshape(1,-1)\n",
    "\n",
    "prediction= rf_model.predict(data_reshaped)\n",
    "\n"
   ]
  },
  {
   "cell_type": "code",
   "execution_count": null,
   "id": "dec53766",
   "metadata": {},
   "outputs": [],
   "source": [
    "#predict the medical charges\n",
    "prediction"
   ]
  },
  {
   "cell_type": "code",
   "execution_count": null,
   "id": "d2d5817f",
   "metadata": {},
   "outputs": [],
   "source": [
    "import pickle\n",
    "\n",
    "filename= 'Medicalcharge_predictor.sav'\n",
    "pickle.dump(rf_model, open(filename, 'wb'))"
   ]
  },
  {
   "cell_type": "code",
   "execution_count": null,
   "id": "90edc986",
   "metadata": {},
   "outputs": [],
   "source": [
    "#build a predictive system\n",
    "\n",
    "data= (56,32.110,1,0,1,1,0,1)\n",
    "\n",
    "data_array= np.asarray(data)\n",
    "\n",
    "data_reshaped= data_array.reshape(1,-1)\n",
    "\n",
    "model= pickle.load(open(filename, 'rb'))\n",
    "\n",
    "prediction= model.predict(data_reshaped)\n",
    "print(prediction)\n"
   ]
  },
  {
   "cell_type": "code",
   "execution_count": null,
   "id": "006d0945",
   "metadata": {},
   "outputs": [],
   "source": []
  }
 ],
 "metadata": {
  "kernelspec": {
   "display_name": "Python 3 (ipykernel)",
   "language": "python",
   "name": "python3"
  },
  "language_info": {
   "codemirror_mode": {
    "name": "ipython",
    "version": 3
   },
   "file_extension": ".py",
   "mimetype": "text/x-python",
   "name": "python",
   "nbconvert_exporter": "python",
   "pygments_lexer": "ipython3",
   "version": "3.9.13"
  }
 },
 "nbformat": 4,
 "nbformat_minor": 5
}
