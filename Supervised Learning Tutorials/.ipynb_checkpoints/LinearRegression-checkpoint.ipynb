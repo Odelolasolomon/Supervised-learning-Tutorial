{
 "cells": [
  {
   "cell_type": "markdown",
   "id": "8444ccb6",
   "metadata": {},
   "source": [
    "## Introduction to Linear Regression\n",
    "\n",
    "Welcome to Introduction To Linear Regression! This is the first of four lessons in the Linear Regression Modeling in Python course. Now that we've learned about the main types of machine learning (ML), it's time to explore specific models. Along the way, we'll learn different ML concepts by observing their use in fundamental models.\n",
    "\n",
    "As the course title suggests, the focus of this entire course will be linear regression. Linear regression is a fantastic model to start from because it's one of the \"workhorse\" models used in a wide variety of fields, including business, science, and medicine. No matter how far you go in your ML journey with more complex models, the simplicity and usefulness of linear regression will always be valuable. Linear regressions are often the first model we turn to for an understanding of how two different phenomena relate.\n",
    "\n",
    "<img src='lr.svg' width=400 height=400>"
   ]
  },
  {
   "cell_type": "code",
   "execution_count": 1,
   "id": "79e5d090",
   "metadata": {},
   "outputs": [],
   "source": [
    "import matplotlib.pyplot as plt\n",
    "import seaborn as sns\n",
    "import numpy as np\n",
    "import pandas as pd"
   ]
  },
  {
   "cell_type": "markdown",
   "id": "3e55fb34",
   "metadata": {},
   "source": [
    "In this lesson, we'll focus on learning the main concepts and terms of linear regression. We'll also introduce the dataset and do some light programming to examine the data. At the end of the lesson, we'll make our first linear regression model"
   ]
  },
  {
   "cell_type": "code",
   "execution_count": 2,
   "id": "9d9c9877",
   "metadata": {},
   "outputs": [],
   "source": [
    "import pandas as pd\n",
    "import numpy as np"
   ]
  },
  {
   "cell_type": "code",
   "execution_count": 3,
   "id": "b085bca2",
   "metadata": {},
   "outputs": [],
   "source": [
    "auto=pd.read_csv('automobiles.csv')"
   ]
  },
  {
   "cell_type": "code",
   "execution_count": 4,
   "id": "1295de97",
   "metadata": {},
   "outputs": [
    {
     "data": {
      "text/html": [
       "<div>\n",
       "<style scoped>\n",
       "    .dataframe tbody tr th:only-of-type {\n",
       "        vertical-align: middle;\n",
       "    }\n",
       "\n",
       "    .dataframe tbody tr th {\n",
       "        vertical-align: top;\n",
       "    }\n",
       "\n",
       "    .dataframe thead th {\n",
       "        text-align: right;\n",
       "    }\n",
       "</style>\n",
       "<table border=\"1\" class=\"dataframe\">\n",
       "  <thead>\n",
       "    <tr style=\"text-align: right;\">\n",
       "      <th></th>\n",
       "      <th>symboling</th>\n",
       "      <th>normalized_losses</th>\n",
       "      <th>make</th>\n",
       "      <th>fuel_type</th>\n",
       "      <th>aspiration</th>\n",
       "      <th>num_of_doors</th>\n",
       "      <th>body_style</th>\n",
       "      <th>drive_wheels</th>\n",
       "      <th>engine_location</th>\n",
       "      <th>wheel_base</th>\n",
       "      <th>...</th>\n",
       "      <th>engine_size</th>\n",
       "      <th>fuel_system</th>\n",
       "      <th>bore</th>\n",
       "      <th>stroke</th>\n",
       "      <th>compression_ratio</th>\n",
       "      <th>horsepower</th>\n",
       "      <th>peak_rpm</th>\n",
       "      <th>city_mpg</th>\n",
       "      <th>highway_mpg</th>\n",
       "      <th>price</th>\n",
       "    </tr>\n",
       "  </thead>\n",
       "  <tbody>\n",
       "    <tr>\n",
       "      <th>0</th>\n",
       "      <td>2</td>\n",
       "      <td>164</td>\n",
       "      <td>audi</td>\n",
       "      <td>gas</td>\n",
       "      <td>std</td>\n",
       "      <td>four</td>\n",
       "      <td>sedan</td>\n",
       "      <td>fwd</td>\n",
       "      <td>front</td>\n",
       "      <td>99.8</td>\n",
       "      <td>...</td>\n",
       "      <td>109</td>\n",
       "      <td>mpfi</td>\n",
       "      <td>3.19</td>\n",
       "      <td>3.4</td>\n",
       "      <td>10.0</td>\n",
       "      <td>102</td>\n",
       "      <td>5500</td>\n",
       "      <td>24</td>\n",
       "      <td>30</td>\n",
       "      <td>13950</td>\n",
       "    </tr>\n",
       "    <tr>\n",
       "      <th>1</th>\n",
       "      <td>2</td>\n",
       "      <td>164</td>\n",
       "      <td>audi</td>\n",
       "      <td>gas</td>\n",
       "      <td>std</td>\n",
       "      <td>four</td>\n",
       "      <td>sedan</td>\n",
       "      <td>4wd</td>\n",
       "      <td>front</td>\n",
       "      <td>99.4</td>\n",
       "      <td>...</td>\n",
       "      <td>136</td>\n",
       "      <td>mpfi</td>\n",
       "      <td>3.19</td>\n",
       "      <td>3.4</td>\n",
       "      <td>8.0</td>\n",
       "      <td>115</td>\n",
       "      <td>5500</td>\n",
       "      <td>18</td>\n",
       "      <td>22</td>\n",
       "      <td>17450</td>\n",
       "    </tr>\n",
       "    <tr>\n",
       "      <th>2</th>\n",
       "      <td>1</td>\n",
       "      <td>158</td>\n",
       "      <td>audi</td>\n",
       "      <td>gas</td>\n",
       "      <td>std</td>\n",
       "      <td>four</td>\n",
       "      <td>sedan</td>\n",
       "      <td>fwd</td>\n",
       "      <td>front</td>\n",
       "      <td>105.8</td>\n",
       "      <td>...</td>\n",
       "      <td>136</td>\n",
       "      <td>mpfi</td>\n",
       "      <td>3.19</td>\n",
       "      <td>3.4</td>\n",
       "      <td>8.5</td>\n",
       "      <td>110</td>\n",
       "      <td>5500</td>\n",
       "      <td>19</td>\n",
       "      <td>25</td>\n",
       "      <td>17710</td>\n",
       "    </tr>\n",
       "    <tr>\n",
       "      <th>3</th>\n",
       "      <td>1</td>\n",
       "      <td>158</td>\n",
       "      <td>audi</td>\n",
       "      <td>gas</td>\n",
       "      <td>turbo</td>\n",
       "      <td>four</td>\n",
       "      <td>sedan</td>\n",
       "      <td>fwd</td>\n",
       "      <td>front</td>\n",
       "      <td>105.8</td>\n",
       "      <td>...</td>\n",
       "      <td>131</td>\n",
       "      <td>mpfi</td>\n",
       "      <td>3.13</td>\n",
       "      <td>3.4</td>\n",
       "      <td>8.3</td>\n",
       "      <td>140</td>\n",
       "      <td>5500</td>\n",
       "      <td>17</td>\n",
       "      <td>20</td>\n",
       "      <td>23875</td>\n",
       "    </tr>\n",
       "    <tr>\n",
       "      <th>4</th>\n",
       "      <td>2</td>\n",
       "      <td>192</td>\n",
       "      <td>bmw</td>\n",
       "      <td>gas</td>\n",
       "      <td>std</td>\n",
       "      <td>two</td>\n",
       "      <td>sedan</td>\n",
       "      <td>rwd</td>\n",
       "      <td>front</td>\n",
       "      <td>101.2</td>\n",
       "      <td>...</td>\n",
       "      <td>108</td>\n",
       "      <td>mpfi</td>\n",
       "      <td>3.50</td>\n",
       "      <td>2.8</td>\n",
       "      <td>8.8</td>\n",
       "      <td>101</td>\n",
       "      <td>5800</td>\n",
       "      <td>23</td>\n",
       "      <td>29</td>\n",
       "      <td>16430</td>\n",
       "    </tr>\n",
       "  </tbody>\n",
       "</table>\n",
       "<p>5 rows × 26 columns</p>\n",
       "</div>"
      ],
      "text/plain": [
       "   symboling  normalized_losses  make fuel_type aspiration num_of_doors  \\\n",
       "0          2                164  audi       gas        std         four   \n",
       "1          2                164  audi       gas        std         four   \n",
       "2          1                158  audi       gas        std         four   \n",
       "3          1                158  audi       gas      turbo         four   \n",
       "4          2                192   bmw       gas        std          two   \n",
       "\n",
       "  body_style drive_wheels engine_location  wheel_base  ...  engine_size  \\\n",
       "0      sedan          fwd           front        99.8  ...          109   \n",
       "1      sedan          4wd           front        99.4  ...          136   \n",
       "2      sedan          fwd           front       105.8  ...          136   \n",
       "3      sedan          fwd           front       105.8  ...          131   \n",
       "4      sedan          rwd           front       101.2  ...          108   \n",
       "\n",
       "   fuel_system  bore  stroke compression_ratio horsepower  peak_rpm city_mpg  \\\n",
       "0         mpfi  3.19     3.4              10.0        102      5500       24   \n",
       "1         mpfi  3.19     3.4               8.0        115      5500       18   \n",
       "2         mpfi  3.19     3.4               8.5        110      5500       19   \n",
       "3         mpfi  3.13     3.4               8.3        140      5500       17   \n",
       "4         mpfi  3.50     2.8               8.8        101      5800       23   \n",
       "\n",
       "   highway_mpg  price  \n",
       "0           30  13950  \n",
       "1           22  17450  \n",
       "2           25  17710  \n",
       "3           20  23875  \n",
       "4           29  16430  \n",
       "\n",
       "[5 rows x 26 columns]"
      ]
     },
     "execution_count": 4,
     "metadata": {},
     "output_type": "execute_result"
    }
   ],
   "source": [
    "auto.head()"
   ]
  },
  {
   "cell_type": "markdown",
   "id": "e59c5312",
   "metadata": {},
   "source": [
    "### Examining The Data\n",
    "Linear regression gets its name from the fact that the outcome is a linear combination of predictors. Since we have the auto dataset loaded in, let's take some time to understand it better.\n",
    "\n",
    "The auto dataset has 26 columns and 159 rows. Each row contains various pieces of information on a particular car. For example, there's information on the fuel the car uses, the number of doors, and its horsepower. For a full description of the dataset, please refer to the UCI Machine Learning Repository's page https://archive.ics.uci.edu/ml/datasets/Automobile.\n",
    "For this and the rest of the lessons in the Linear Regression course, we'll examine how the characteristics of the car relate to the normalized_losses column, which will be our outcome. This column represents the average payment that an insurance company pays when a car of that particular row has an accident. We want to predict this payment for other cars, so we'll use linear regression for this task.\n",
    "\n",
    "We'll use this screen to familiarize ourselves with the data and divide it up into a training and test set. Next, we'll discuss the idea of regres"
   ]
  },
  {
   "cell_type": "code",
   "execution_count": 5,
   "id": "bfbc502a",
   "metadata": {},
   "outputs": [],
   "source": [
    "from sklearn.model_selection import train_test_split\n",
    "\n",
    "#separate the features and target\n",
    "x=auto.drop(columns=['normalized_losses'],axis=1)\n",
    "y=auto['normalized_losses']\n",
    "\n",
    "#split the data\n",
    "x_train,x_test,y_train,y_test=train_test_split(x,y, test_size=0.2, random_state=726)"
   ]
  },
  {
   "cell_type": "markdown",
   "id": "586ec592",
   "metadata": {},
   "source": [
    "### Defining Regression\n",
    "A great place to start with linear regression is the concept of regression itself. A regression (or regression analysis) is a technique that attempts to model the relationship between two sets of variables. One set of variables, called **predictors**, includes variables that we think influence the value of other variables of interest, which we refer to as the outcome. **(We also call predictors \"features\" or \"covariates.\")** A regression analysis tries to determine just how these predictors relate to the outcome, and we think of this mathematically as a function:\n",
    "\n",
    "<img src='lrfunction.png' width=400 height=400>\n",
    "\n",
    "\n",
    "The function **f** is what we call the regression. By using a regression, we're assuming that the value of **Y** can be split into two components:\n",
    "The first part, f(X) describes how the predictors contribute to the outcome. The second part, ϵ, is called **error or noise.**The ϵ is there to essentially fill in the gap between f(X) and Y**.\n",
    "(We will see later that this error is important for evaluating our models. The focus of this lesson is to understand **f(X)** which is the regression.\n",
    "We also assume that the outcome Y is a numerical variable, as opposed to binary or categorical. For example, let's say that **Y** represents a risk score for a particular car. A higher risk score means that insurance premiums are higher. Let's also say that **X** represents the engine power. We might be interested in determining how the engine size relates to the risk score of the car. We can use regression to examine this association.\n",
    "\n",
    "The \"linear\" in linear regression suggests that **f(X)** has a particular form. It assumes that the outcome **Y** can be described as a linear combination of the predictors, as shown below:\n",
    "\n",
    "<img src='linear_combination.png' width=400 height=400>\n",
    "\n"
   ]
  },
  {
   "cell_type": "markdown",
   "id": "6c16a869",
   "metadata": {},
   "source": [
    "<img src='exp.png' width=800 height=800>"
   ]
  },
  {
   "cell_type": "markdown",
   "id": "ef910053",
   "metadata": {},
   "source": [
    "<img src='llinear_regression.svg' width=400 height=400>"
   ]
  },
  {
   "cell_type": "markdown",
   "id": "6246556e",
   "metadata": {},
   "source": [
    "Together,β0 and β1 are known as the parameters of the model. Parameters are values that need to be learned from the data, and we use them to calculate the relationship between the predictors and outcome. When there is only a single predictor in the regression, we refer to this as simple linear regression. Nothing stops us from adding multiple predictors into a model, which turns it into a multiple linear regression.\n",
    "\n",
    "<img src='relationship.png' width=600 height=600>"
   ]
  },
  {
   "cell_type": "markdown",
   "id": "ccc2d498",
   "metadata": {},
   "source": [
    "### Types of Predictors\n",
    "Now that we know what our outcome **Y** is for the linear regression, it's time to consider the nature of predictors **X**\n",
    "\n",
    "There are two categories of variables: **numerical and categorical**. As their name suggests, numerical variables contain numbers. These numbers can be discrete, taking on just a few values, or continuous, taking on any value in an interval. The height variable is a classic example of this.\n",
    "The body_style column is an example of a categorical variable. Categorical variables indicate that the car belongs to a particular group. Categorical variables also include binary (i.e., \"yes or no\", 0 or 1) variables to indicate that a car either does or does not belong to a particular group.\n",
    "The nature of the predictors can affect how they appear in the regression. Numerical predictors, such as length or height, can be included directly into a linear regression. We can't say the same for categorical variables.\n",
    "If a categorical predictor contains three or more groups, then the categories need to be split up into separate dummy variables to be added into a linear regression. Each dummy variable will be 1 or 0, depending on whether or not the car is in a particular group. Furthermore, if a categorical predictor contains k predictors, then k−1 dummy variable will be used in the linear regression. The remaining category will be used as a \"reference.\" We will explain the precise reason behind this in detail later. For now, it's crucial to understand how categorical variables are handled.\n",
    "For example, let's say we want to include drive_wheels in a linear regression. drive_wheels has three categories (\"4wd\", \"fwd\" and \"rwd\"). If \"4wd\" is the reference, then the regression would have two new predictors corresponding to binary variables. One will correspond to if the car is \"fwd\" or not, while the other will do the same for \"rwd.\" If both of these columns are 0, then the car is \"4wd.\"\n"
   ]
  },
  {
   "cell_type": "code",
   "execution_count": 6,
   "id": "644af286",
   "metadata": {},
   "outputs": [
    {
     "data": {
      "text/plain": [
       "symboling              int64\n",
       "normalized_losses      int64\n",
       "make                  object\n",
       "fuel_type             object\n",
       "aspiration            object\n",
       "num_of_doors          object\n",
       "body_style            object\n",
       "drive_wheels          object\n",
       "engine_location       object\n",
       "wheel_base           float64\n",
       "length               float64\n",
       "width                float64\n",
       "height               float64\n",
       "curb_weight            int64\n",
       "engine_type           object\n",
       "num_of_cylinders      object\n",
       "engine_size            int64\n",
       "fuel_system           object\n",
       "bore                 float64\n",
       "stroke               float64\n",
       "compression_ratio    float64\n",
       "horsepower             int64\n",
       "peak_rpm               int64\n",
       "city_mpg               int64\n",
       "highway_mpg            int64\n",
       "price                  int64\n",
       "dtype: object"
      ]
     },
     "execution_count": 6,
     "metadata": {},
     "output_type": "execute_result"
    }
   ],
   "source": [
    "auto.dtypes"
   ]
  },
  {
   "cell_type": "code",
   "execution_count": 7,
   "id": "274b8a9f",
   "metadata": {},
   "outputs": [
    {
     "data": {
      "text/plain": [
       "sedan          79\n",
       "hatchback      56\n",
       "wagon          17\n",
       "hardtop         5\n",
       "convertible     2\n",
       "Name: body_style, dtype: int64"
      ]
     },
     "execution_count": 7,
     "metadata": {},
     "output_type": "execute_result"
    }
   ],
   "source": [
    "auto['body_style'].value_counts()"
   ]
  },
  {
   "cell_type": "code",
   "execution_count": 8,
   "id": "0ae6fff2",
   "metadata": {},
   "outputs": [
    {
     "data": {
      "text/plain": [
       "fwd    105\n",
       "rwd     46\n",
       "4wd      8\n",
       "Name: drive_wheels, dtype: int64"
      ]
     },
     "execution_count": 8,
     "metadata": {},
     "output_type": "execute_result"
    }
   ],
   "source": [
    "auto['drive_wheels'].value_counts()"
   ]
  },
  {
   "cell_type": "code",
   "execution_count": 9,
   "id": "9d53169e",
   "metadata": {},
   "outputs": [],
   "source": [
    "auto_with_dummies=pd.get_dummies(auto['drive_wheels'])"
   ]
  },
  {
   "cell_type": "code",
   "execution_count": 10,
   "id": "8606c49d",
   "metadata": {},
   "outputs": [
    {
     "data": {
      "text/html": [
       "<div>\n",
       "<style scoped>\n",
       "    .dataframe tbody tr th:only-of-type {\n",
       "        vertical-align: middle;\n",
       "    }\n",
       "\n",
       "    .dataframe tbody tr th {\n",
       "        vertical-align: top;\n",
       "    }\n",
       "\n",
       "    .dataframe thead th {\n",
       "        text-align: right;\n",
       "    }\n",
       "</style>\n",
       "<table border=\"1\" class=\"dataframe\">\n",
       "  <thead>\n",
       "    <tr style=\"text-align: right;\">\n",
       "      <th></th>\n",
       "      <th>4wd</th>\n",
       "      <th>fwd</th>\n",
       "      <th>rwd</th>\n",
       "    </tr>\n",
       "  </thead>\n",
       "  <tbody>\n",
       "    <tr>\n",
       "      <th>0</th>\n",
       "      <td>0</td>\n",
       "      <td>1</td>\n",
       "      <td>0</td>\n",
       "    </tr>\n",
       "    <tr>\n",
       "      <th>1</th>\n",
       "      <td>1</td>\n",
       "      <td>0</td>\n",
       "      <td>0</td>\n",
       "    </tr>\n",
       "    <tr>\n",
       "      <th>2</th>\n",
       "      <td>0</td>\n",
       "      <td>1</td>\n",
       "      <td>0</td>\n",
       "    </tr>\n",
       "    <tr>\n",
       "      <th>3</th>\n",
       "      <td>0</td>\n",
       "      <td>1</td>\n",
       "      <td>0</td>\n",
       "    </tr>\n",
       "    <tr>\n",
       "      <th>4</th>\n",
       "      <td>0</td>\n",
       "      <td>0</td>\n",
       "      <td>1</td>\n",
       "    </tr>\n",
       "  </tbody>\n",
       "</table>\n",
       "</div>"
      ],
      "text/plain": [
       "   4wd  fwd  rwd\n",
       "0    0    1    0\n",
       "1    1    0    0\n",
       "2    0    1    0\n",
       "3    0    1    0\n",
       "4    0    0    1"
      ]
     },
     "execution_count": 10,
     "metadata": {},
     "output_type": "execute_result"
    }
   ],
   "source": [
    "auto_with_dummies.head()"
   ]
  },
  {
   "cell_type": "markdown",
   "id": "a531e521",
   "metadata": {},
   "source": [
    "### The Cost Function\n",
    "Recall that for a multiple linear regression, the outcome is expressed as a linear combination of the predictors, plus some error:\n",
    "\n",
    "<img src='lc.png' width=400 height=400>"
   ]
  },
  {
   "cell_type": "markdown",
   "id": "e55dcc58",
   "metadata": {},
   "source": [
    "Once the coefficients are learned, we'll have a working linear regression that we can use for prediction. But given only the data, we don't know what they should be. We should ask ourselves **How do we get the coefficient βi for each predictor?** We should not pick these coefficients arbitrarily; rather, the data that we've collected should determine the selection. We'll dedicate this screen and the next to understanding how the βi are calculated. \n",
    "The first step in this process is to understand how we quantify the predictive ability of a linear regression. For each outcome Y, a linear regression will make its best guess in the form of β0+β1X1+...+βpXp. The difference is captured by the ϵ. Intuitively, the smaller these errors ϵ are, the \"better\" the linear regression predicts the outcome. To visualize this in the case of a single predictor, the errors are represented by the vertical red bars:\n",
    "\n",
    "<img src='error.svg' width=500 height=500>"
   ]
  },
  {
   "cell_type": "markdown",
   "id": "47044535",
   "metadata": {},
   "source": [
    "The β is what adjusts the slope, so we should try to pick the **βi that minimizes the error (i.e. minimizing the size of the red bars).** Even though we can't visualize more than 3 dimensions, the intuition in the graph remains the same when we have multiple coefficients. This is also known as the **method of least squares**. Following this principle will give us the best βi, given the data we collected.\n",
    "Each observation has its own error, so we should try to summarize the total error across the entire dataset and optimize the β based on this sum. However, instead of optimizing on the sum of the errors, we should use the sum of squared errors (SSE) instead:\n",
    "<img src='sse.png' width=500 height=500>"
   ]
  },
  {
   "cell_type": "markdown",
   "id": "df791019",
   "metadata": {},
   "source": [
    "This function, L, has a special name: the cost function, sometimes referred to as \"loss.\" So, we choose the coefficients that minimize the cost function. This is a general concept that will come up in various machine learning models, so it's worth taking the time to learn these terms. Different models may use different cost functions, but the motivation stays the same: finding the best parameters based on the data.\n",
    "This function, **L**, has a special name: **the cost function**, sometimes referred to as **\"loss.\"** So, we choose the coefficients that minimize the cost function. This is a general concept that will come up in various machine learning models, so it's worth taking the time to learn these terms. Different models may use different cost functions, but the motivation stays the same: **finding the best parameters based on the data.**"
   ]
  },
  {
   "cell_type": "code",
   "execution_count": 11,
   "id": "999a9517",
   "metadata": {},
   "outputs": [
    {
     "data": {
      "text/plain": [
       "53688428.790000014"
      ]
     },
     "execution_count": 11,
     "metadata": {},
     "output_type": "execute_result"
    }
   ],
   "source": [
    "#We've given three beta parameters in the code editor. Using length as the first \n",
    "#predictor and engine_size as the second predictor, calculate the squared error \n",
    "#for each observation in the training data. Assign the result to the variable se.\n",
    "#@Calculate the SSE based on these squared errors. Assign this value to the variable sse.\n",
    "\n",
    "beta0 = 5\n",
    "beta1 = 3\n",
    "beta2 = 2\n",
    "\n",
    "se= (y_train - (beta0 + x_train['length']*beta1 + x_train['engine_size']*beta2))**2\n",
    "se=sum(se)\n",
    "se"
   ]
  },
  {
   "cell_type": "markdown",
   "id": "09e24087",
   "metadata": {},
   "source": [
    "### Estimating the Best Coefficients\n",
    "We can express the outcome, predictors, and errors in matrix format.\n",
    "<img src='matrix.png' width=400 width=400>"
   ]
  },
  {
   "cell_type": "markdown",
   "id": "07161f5c",
   "metadata": {},
   "source": [
    "Rather than express things in terms of the individual observations, we can store all of the information in matrices. Above, ϵ\n",
    " is the column vector containing the errors ϵi. Y is the column vector containing the outcomes Finally, X is a matrix of the predictors. The expression of the cost function in terms of a sum of observations and the matrices is equivalent.\n",
    " By choosing the best β, we mean the β that minimizes the cost function. Using calculus, we know that the β that minimizes L(β0,β1,..βp) are those that make its derivative zero. Using mathematical notation, we write this as follows.\n",
    "<img src='dydx_lossfunction.png' width=500 height=500>"
   ]
  },
  {
   "cell_type": "markdown",
   "id": "538727b4",
   "metadata": {},
   "source": [
    "<img src='a.png' width=600 height=600>"
   ]
  },
  {
   "cell_type": "markdown",
   "id": "4a4a8d0c",
   "metadata": {},
   "source": [
    "Calculating the derivative of the cost function is out of scope for this lesson. Understanding the derivation requires some familiarity with matrix calculus, which is a specific notation for applying calculus concepts to matrices. If you're interested in the derivation, we recommend that you read Eli Bendersky's wonderful walkthrough of the derivation on his blog http://eli.thegreenplace.net/2015/the-normal-equation-and-matrix-calculus/\n",
    "\n",
    "<img src='cf.png' width=400 height=400>"
   ]
  },
  {
   "cell_type": "markdown",
   "id": "18a309cf",
   "metadata": {},
   "source": [
    "Notice that \n",
    "^\n",
    "β\n",
    " can be calculated purely in terms of the observed data. This means that we can derive the linear regression coefficients for a given set of predictors and outcomes with some linear algebra. This equation will work for both simple and multiple linear regression.\n",
    "\n",
    "This calculation requires three matrix operations: taking an inverse, and multiplying two matrices together. The corresponding functions in **numpy** that allow us to do this are:\n",
    "- the np.matmul() function: It takes two matrices (DataFrames) and multiplies them together.\n",
    "- the np.transpose() function. It takes a single matrix and outputs its transpose.\n",
    "- the np.linalg.inv() function. It takes a single matrix and outputs its inverse."
   ]
  },
  {
   "cell_type": "code",
   "execution_count": 12,
   "id": "5589d323",
   "metadata": {},
   "outputs": [
    {
     "data": {
      "text/html": [
       "<div>\n",
       "<style scoped>\n",
       "    .dataframe tbody tr th:only-of-type {\n",
       "        vertical-align: middle;\n",
       "    }\n",
       "\n",
       "    .dataframe tbody tr th {\n",
       "        vertical-align: top;\n",
       "    }\n",
       "\n",
       "    .dataframe thead th {\n",
       "        text-align: right;\n",
       "    }\n",
       "</style>\n",
       "<table border=\"1\" class=\"dataframe\">\n",
       "  <thead>\n",
       "    <tr style=\"text-align: right;\">\n",
       "      <th></th>\n",
       "      <th>symboling</th>\n",
       "      <th>make</th>\n",
       "      <th>fuel_type</th>\n",
       "      <th>aspiration</th>\n",
       "      <th>num_of_doors</th>\n",
       "      <th>body_style</th>\n",
       "      <th>drive_wheels</th>\n",
       "      <th>engine_location</th>\n",
       "      <th>wheel_base</th>\n",
       "      <th>length</th>\n",
       "      <th>...</th>\n",
       "      <th>engine_size</th>\n",
       "      <th>fuel_system</th>\n",
       "      <th>bore</th>\n",
       "      <th>stroke</th>\n",
       "      <th>compression_ratio</th>\n",
       "      <th>horsepower</th>\n",
       "      <th>peak_rpm</th>\n",
       "      <th>city_mpg</th>\n",
       "      <th>highway_mpg</th>\n",
       "      <th>price</th>\n",
       "    </tr>\n",
       "  </thead>\n",
       "  <tbody>\n",
       "    <tr>\n",
       "      <th>105</th>\n",
       "      <td>0</td>\n",
       "      <td>subaru</td>\n",
       "      <td>gas</td>\n",
       "      <td>std</td>\n",
       "      <td>four</td>\n",
       "      <td>wagon</td>\n",
       "      <td>fwd</td>\n",
       "      <td>front</td>\n",
       "      <td>97.0</td>\n",
       "      <td>173.5</td>\n",
       "      <td>...</td>\n",
       "      <td>108</td>\n",
       "      <td>2bbl</td>\n",
       "      <td>3.62</td>\n",
       "      <td>2.64</td>\n",
       "      <td>9.0</td>\n",
       "      <td>82</td>\n",
       "      <td>4800</td>\n",
       "      <td>28</td>\n",
       "      <td>32</td>\n",
       "      <td>7463</td>\n",
       "    </tr>\n",
       "    <tr>\n",
       "      <th>116</th>\n",
       "      <td>0</td>\n",
       "      <td>toyota</td>\n",
       "      <td>gas</td>\n",
       "      <td>std</td>\n",
       "      <td>four</td>\n",
       "      <td>hatchback</td>\n",
       "      <td>fwd</td>\n",
       "      <td>front</td>\n",
       "      <td>95.7</td>\n",
       "      <td>166.3</td>\n",
       "      <td>...</td>\n",
       "      <td>98</td>\n",
       "      <td>2bbl</td>\n",
       "      <td>3.19</td>\n",
       "      <td>3.03</td>\n",
       "      <td>9.0</td>\n",
       "      <td>70</td>\n",
       "      <td>4800</td>\n",
       "      <td>30</td>\n",
       "      <td>37</td>\n",
       "      <td>7198</td>\n",
       "    </tr>\n",
       "    <tr>\n",
       "      <th>12</th>\n",
       "      <td>1</td>\n",
       "      <td>dodge</td>\n",
       "      <td>gas</td>\n",
       "      <td>std</td>\n",
       "      <td>two</td>\n",
       "      <td>hatchback</td>\n",
       "      <td>fwd</td>\n",
       "      <td>front</td>\n",
       "      <td>93.7</td>\n",
       "      <td>157.3</td>\n",
       "      <td>...</td>\n",
       "      <td>90</td>\n",
       "      <td>2bbl</td>\n",
       "      <td>2.97</td>\n",
       "      <td>3.23</td>\n",
       "      <td>9.4</td>\n",
       "      <td>68</td>\n",
       "      <td>5500</td>\n",
       "      <td>31</td>\n",
       "      <td>38</td>\n",
       "      <td>6377</td>\n",
       "    </tr>\n",
       "    <tr>\n",
       "      <th>127</th>\n",
       "      <td>2</td>\n",
       "      <td>toyota</td>\n",
       "      <td>gas</td>\n",
       "      <td>std</td>\n",
       "      <td>two</td>\n",
       "      <td>hardtop</td>\n",
       "      <td>rwd</td>\n",
       "      <td>front</td>\n",
       "      <td>98.4</td>\n",
       "      <td>176.2</td>\n",
       "      <td>...</td>\n",
       "      <td>146</td>\n",
       "      <td>mpfi</td>\n",
       "      <td>3.62</td>\n",
       "      <td>3.50</td>\n",
       "      <td>9.3</td>\n",
       "      <td>116</td>\n",
       "      <td>4800</td>\n",
       "      <td>24</td>\n",
       "      <td>30</td>\n",
       "      <td>9639</td>\n",
       "    </tr>\n",
       "    <tr>\n",
       "      <th>89</th>\n",
       "      <td>-1</td>\n",
       "      <td>plymouth</td>\n",
       "      <td>gas</td>\n",
       "      <td>std</td>\n",
       "      <td>four</td>\n",
       "      <td>wagon</td>\n",
       "      <td>fwd</td>\n",
       "      <td>front</td>\n",
       "      <td>103.3</td>\n",
       "      <td>174.6</td>\n",
       "      <td>...</td>\n",
       "      <td>122</td>\n",
       "      <td>2bbl</td>\n",
       "      <td>3.35</td>\n",
       "      <td>3.46</td>\n",
       "      <td>8.5</td>\n",
       "      <td>88</td>\n",
       "      <td>5000</td>\n",
       "      <td>24</td>\n",
       "      <td>30</td>\n",
       "      <td>8921</td>\n",
       "    </tr>\n",
       "  </tbody>\n",
       "</table>\n",
       "<p>5 rows × 25 columns</p>\n",
       "</div>"
      ],
      "text/plain": [
       "     symboling      make fuel_type aspiration num_of_doors body_style  \\\n",
       "105          0    subaru       gas        std         four      wagon   \n",
       "116          0    toyota       gas        std         four  hatchback   \n",
       "12           1     dodge       gas        std          two  hatchback   \n",
       "127          2    toyota       gas        std          two    hardtop   \n",
       "89          -1  plymouth       gas        std         four      wagon   \n",
       "\n",
       "    drive_wheels engine_location  wheel_base  length  ...  engine_size  \\\n",
       "105          fwd           front        97.0   173.5  ...          108   \n",
       "116          fwd           front        95.7   166.3  ...           98   \n",
       "12           fwd           front        93.7   157.3  ...           90   \n",
       "127          rwd           front        98.4   176.2  ...          146   \n",
       "89           fwd           front       103.3   174.6  ...          122   \n",
       "\n",
       "     fuel_system  bore stroke compression_ratio  horsepower peak_rpm  \\\n",
       "105         2bbl  3.62   2.64               9.0          82     4800   \n",
       "116         2bbl  3.19   3.03               9.0          70     4800   \n",
       "12          2bbl  2.97   3.23               9.4          68     5500   \n",
       "127         mpfi  3.62   3.50               9.3         116     4800   \n",
       "89          2bbl  3.35   3.46               8.5          88     5000   \n",
       "\n",
       "     city_mpg  highway_mpg  price  \n",
       "105        28           32   7463  \n",
       "116        30           37   7198  \n",
       "12         31           38   6377  \n",
       "127        24           30   9639  \n",
       "89         24           30   8921  \n",
       "\n",
       "[5 rows x 25 columns]"
      ]
     },
     "execution_count": 12,
     "metadata": {},
     "output_type": "execute_result"
    }
   ],
   "source": [
    "x_train.head()"
   ]
  },
  {
   "cell_type": "code",
   "execution_count": 13,
   "id": "c55eccbe",
   "metadata": {},
   "outputs": [
    {
     "name": "stderr",
     "output_type": "stream",
     "text": [
      "C:\\Users\\512GB\\AppData\\Local\\Temp\\ipykernel_6452\\3730318009.py:5: SettingWithCopyWarning: \n",
      "A value is trying to be set on a copy of a slice from a DataFrame.\n",
      "Try using .loc[row_indexer,col_indexer] = value instead\n",
      "\n",
      "See the caveats in the documentation: https://pandas.pydata.org/pandas-docs/stable/user_guide/indexing.html#returning-a-view-versus-a-copy\n",
      "  x_train_subset['intercept']=1\n",
      "C:\\Users\\512GB\\AppData\\Local\\Temp\\ipykernel_6452\\3730318009.py:7: FutureWarning: Calling a ufunc on non-aligned DataFrames (or DataFrame/Series combination). Currently, the indices are ignored and the result takes the index/columns of the first DataFrame. In the future , the DataFrames/Series will be aligned before applying the ufunc.\n",
      "Convert one of the arguments to a NumPy array (eg 'ufunc(df1, np.asarray(df2)') to keep the current behaviour, or align manually (eg 'df1, df2 = df1.align(df2)') before passing to the ufunc to obtain the future behaviour and silence this warning.\n",
      "  xx_inv= np.linalg.inv(np.matmul(np.transpose(x_train_subset),x_train_subset))\n"
     ]
    }
   ],
   "source": [
    "import numpy as np\n",
    "\n",
    "x_train_subset=x_train[['length','engine_size']]\n",
    "\n",
    "x_train_subset['intercept']=1\n",
    "\n",
    "xx_inv= np.linalg.inv(np.matmul(np.transpose(x_train_subset),x_train_subset))\n",
    "xy= np.matmul(np.transpose(x_train_subset),y_train)\n",
    "\n",
    "beta_hat= np.matmul(xx_inv, xy)"
   ]
  },
  {
   "cell_type": "code",
   "execution_count": 14,
   "id": "43b89cd1",
   "metadata": {},
   "outputs": [
    {
     "data": {
      "text/plain": [
       "array([ -0.54875428,   0.41198617, 164.68686429])"
      ]
     },
     "execution_count": 14,
     "metadata": {},
     "output_type": "execute_result"
    }
   ],
   "source": [
    "beta_hat"
   ]
  },
  {
   "cell_type": "markdown",
   "id": "cbf2f767",
   "metadata": {},
   "source": [
    "## Review\n",
    "Congratulations on finishing the first lesson in the Linear Regression Modeling in Python course! In this lesson, we learned about the components of a linear regression model — and how to calculate the regression parameters. We learned that the regression coefficients derive from minimizing the sum of squared errors, which we refer to as the cost function.\n",
    "\n",
    "In later lessons, we won't need to perform all of the bulky matrix multiplication by hand in order to calculate the coefficients. Instead, we'll use the scikit-learn library, which takes all of that hand calculation and abstracts it away into a useful function. Before we do so, it's important to know why and how scikit-learn does what it does, which we learned in this lesson.\n",
    "In the next lesson, we'll learn how to interpret a linear regression model."
   ]
  },
  {
   "cell_type": "markdown",
   "id": "5380e6cf",
   "metadata": {},
   "source": [
    "## Interpreting Regression Parameters\n",
    "Welcome to the second lesson in the Linear Regression Modeling in Python course. In the previous lesson, we learned about the **linear regression model**, and we derived how to calculate the coefficients using only the data. However, doing all of this every time can slow us down from actually using our models to make predictions. This is why Python libraries like scikit-learn are important: these libraries provide functions that abstract away the calculations so we can get straight to the modeling.\n",
    "In this lesson, we'll learn how to create a linear regression model using the scikit-learn library to estimate the coefficients. To create the model, we'll also learn a general strategy for choosing potential predictors. Finally, we'll look more in-depth at the coefficients of a linear regression model. One of the main strengths of linear regression is that it lends itself well to meaningful interpretations. That means the coefficients tell us how the predictor associates with the outcome.\n"
   ]
  },
  {
   "cell_type": "code",
   "execution_count": 15,
   "id": "a46ad139",
   "metadata": {},
   "outputs": [
    {
     "data": {
      "text/html": [
       "<div>\n",
       "<style scoped>\n",
       "    .dataframe tbody tr th:only-of-type {\n",
       "        vertical-align: middle;\n",
       "    }\n",
       "\n",
       "    .dataframe tbody tr th {\n",
       "        vertical-align: top;\n",
       "    }\n",
       "\n",
       "    .dataframe thead th {\n",
       "        text-align: right;\n",
       "    }\n",
       "</style>\n",
       "<table border=\"1\" class=\"dataframe\">\n",
       "  <thead>\n",
       "    <tr style=\"text-align: right;\">\n",
       "      <th></th>\n",
       "      <th>symboling</th>\n",
       "      <th>normalized_losses</th>\n",
       "      <th>make</th>\n",
       "      <th>fuel_type</th>\n",
       "      <th>aspiration</th>\n",
       "      <th>num_of_doors</th>\n",
       "      <th>body_style</th>\n",
       "      <th>drive_wheels</th>\n",
       "      <th>engine_location</th>\n",
       "      <th>wheel_base</th>\n",
       "      <th>...</th>\n",
       "      <th>engine_size</th>\n",
       "      <th>fuel_system</th>\n",
       "      <th>bore</th>\n",
       "      <th>stroke</th>\n",
       "      <th>compression_ratio</th>\n",
       "      <th>horsepower</th>\n",
       "      <th>peak_rpm</th>\n",
       "      <th>city_mpg</th>\n",
       "      <th>highway_mpg</th>\n",
       "      <th>price</th>\n",
       "    </tr>\n",
       "  </thead>\n",
       "  <tbody>\n",
       "    <tr>\n",
       "      <th>0</th>\n",
       "      <td>2</td>\n",
       "      <td>164</td>\n",
       "      <td>audi</td>\n",
       "      <td>gas</td>\n",
       "      <td>std</td>\n",
       "      <td>four</td>\n",
       "      <td>sedan</td>\n",
       "      <td>fwd</td>\n",
       "      <td>front</td>\n",
       "      <td>99.8</td>\n",
       "      <td>...</td>\n",
       "      <td>109</td>\n",
       "      <td>mpfi</td>\n",
       "      <td>3.19</td>\n",
       "      <td>3.4</td>\n",
       "      <td>10.0</td>\n",
       "      <td>102</td>\n",
       "      <td>5500</td>\n",
       "      <td>24</td>\n",
       "      <td>30</td>\n",
       "      <td>13950</td>\n",
       "    </tr>\n",
       "    <tr>\n",
       "      <th>1</th>\n",
       "      <td>2</td>\n",
       "      <td>164</td>\n",
       "      <td>audi</td>\n",
       "      <td>gas</td>\n",
       "      <td>std</td>\n",
       "      <td>four</td>\n",
       "      <td>sedan</td>\n",
       "      <td>4wd</td>\n",
       "      <td>front</td>\n",
       "      <td>99.4</td>\n",
       "      <td>...</td>\n",
       "      <td>136</td>\n",
       "      <td>mpfi</td>\n",
       "      <td>3.19</td>\n",
       "      <td>3.4</td>\n",
       "      <td>8.0</td>\n",
       "      <td>115</td>\n",
       "      <td>5500</td>\n",
       "      <td>18</td>\n",
       "      <td>22</td>\n",
       "      <td>17450</td>\n",
       "    </tr>\n",
       "    <tr>\n",
       "      <th>2</th>\n",
       "      <td>1</td>\n",
       "      <td>158</td>\n",
       "      <td>audi</td>\n",
       "      <td>gas</td>\n",
       "      <td>std</td>\n",
       "      <td>four</td>\n",
       "      <td>sedan</td>\n",
       "      <td>fwd</td>\n",
       "      <td>front</td>\n",
       "      <td>105.8</td>\n",
       "      <td>...</td>\n",
       "      <td>136</td>\n",
       "      <td>mpfi</td>\n",
       "      <td>3.19</td>\n",
       "      <td>3.4</td>\n",
       "      <td>8.5</td>\n",
       "      <td>110</td>\n",
       "      <td>5500</td>\n",
       "      <td>19</td>\n",
       "      <td>25</td>\n",
       "      <td>17710</td>\n",
       "    </tr>\n",
       "    <tr>\n",
       "      <th>3</th>\n",
       "      <td>1</td>\n",
       "      <td>158</td>\n",
       "      <td>audi</td>\n",
       "      <td>gas</td>\n",
       "      <td>turbo</td>\n",
       "      <td>four</td>\n",
       "      <td>sedan</td>\n",
       "      <td>fwd</td>\n",
       "      <td>front</td>\n",
       "      <td>105.8</td>\n",
       "      <td>...</td>\n",
       "      <td>131</td>\n",
       "      <td>mpfi</td>\n",
       "      <td>3.13</td>\n",
       "      <td>3.4</td>\n",
       "      <td>8.3</td>\n",
       "      <td>140</td>\n",
       "      <td>5500</td>\n",
       "      <td>17</td>\n",
       "      <td>20</td>\n",
       "      <td>23875</td>\n",
       "    </tr>\n",
       "    <tr>\n",
       "      <th>4</th>\n",
       "      <td>2</td>\n",
       "      <td>192</td>\n",
       "      <td>bmw</td>\n",
       "      <td>gas</td>\n",
       "      <td>std</td>\n",
       "      <td>two</td>\n",
       "      <td>sedan</td>\n",
       "      <td>rwd</td>\n",
       "      <td>front</td>\n",
       "      <td>101.2</td>\n",
       "      <td>...</td>\n",
       "      <td>108</td>\n",
       "      <td>mpfi</td>\n",
       "      <td>3.50</td>\n",
       "      <td>2.8</td>\n",
       "      <td>8.8</td>\n",
       "      <td>101</td>\n",
       "      <td>5800</td>\n",
       "      <td>23</td>\n",
       "      <td>29</td>\n",
       "      <td>16430</td>\n",
       "    </tr>\n",
       "  </tbody>\n",
       "</table>\n",
       "<p>5 rows × 26 columns</p>\n",
       "</div>"
      ],
      "text/plain": [
       "   symboling  normalized_losses  make fuel_type aspiration num_of_doors  \\\n",
       "0          2                164  audi       gas        std         four   \n",
       "1          2                164  audi       gas        std         four   \n",
       "2          1                158  audi       gas        std         four   \n",
       "3          1                158  audi       gas      turbo         four   \n",
       "4          2                192   bmw       gas        std          two   \n",
       "\n",
       "  body_style drive_wheels engine_location  wheel_base  ...  engine_size  \\\n",
       "0      sedan          fwd           front        99.8  ...          109   \n",
       "1      sedan          4wd           front        99.4  ...          136   \n",
       "2      sedan          fwd           front       105.8  ...          136   \n",
       "3      sedan          fwd           front       105.8  ...          131   \n",
       "4      sedan          rwd           front       101.2  ...          108   \n",
       "\n",
       "   fuel_system  bore  stroke compression_ratio horsepower  peak_rpm city_mpg  \\\n",
       "0         mpfi  3.19     3.4              10.0        102      5500       24   \n",
       "1         mpfi  3.19     3.4               8.0        115      5500       18   \n",
       "2         mpfi  3.19     3.4               8.5        110      5500       19   \n",
       "3         mpfi  3.13     3.4               8.3        140      5500       17   \n",
       "4         mpfi  3.50     2.8               8.8        101      5800       23   \n",
       "\n",
       "   highway_mpg  price  \n",
       "0           30  13950  \n",
       "1           22  17450  \n",
       "2           25  17710  \n",
       "3           20  23875  \n",
       "4           29  16430  \n",
       "\n",
       "[5 rows x 26 columns]"
      ]
     },
     "execution_count": 15,
     "metadata": {},
     "output_type": "execute_result"
    }
   ],
   "source": [
    "auto.head()"
   ]
  },
  {
   "cell_type": "code",
   "execution_count": 16,
   "id": "976f0f37",
   "metadata": {},
   "outputs": [],
   "source": [
    "from sklearn.model_selection import train_test_split\n",
    "\n",
    "x=auto.drop(columns=['normalized_losses'], axis=1)\n",
    "y=auto['normalized_losses']\n",
    "\n",
    "x_train,x_test,y_train,y_test=train_test_split(x,y, test_size=0.2, random_state=727)"
   ]
  },
  {
   "cell_type": "markdown",
   "id": "79dd5503",
   "metadata": {},
   "source": [
    "### The LinearRegression Object\n",
    "On this screen, we'll learn how to begin the process of creating a linear model. The scikit-learn library dedicates an entire module to various types of linear models, including linear regression. (This module is aptly called linear_model.) Within this module is a class called LinearRegression, which we'll use for our linear regressions. In order to use the LinearRegression class, we need to import it, just like we've done with pandas and numpy. We can do this as follows:\n",
    "The code above indicates that we want to extract the code for the LinearRegression class from the sklearn.linear_model module.\n",
    "\n",
    "However, since we've only imported a class, we still don't have a linear regression model. The LinearRegression class is only the \"blueprint\" for the model, so we actually have to create, or instantiate it, as an object. We can do this by calling the class and assigning it to a variable, as follows:\n",
    "By assigning the class to a variable and using the parentheses, we're creating a new LinearRegression() object. This new object hasn't been fit to any data yet, so there's not much we can do with it. As we've learned previously, fitting a model involves using data to learn the specific parameters for the model. In the case of \"fitting\" a linear regression, we mean to say we are learning or estimating the coefficients."
   ]
  },
  {
   "cell_type": "code",
   "execution_count": 17,
   "id": "5dd17528",
   "metadata": {},
   "outputs": [],
   "source": [
    "from sklearn.linear_model import LinearRegression\n",
    "\n",
    "#instantiate the class\n",
    "model=LinearRegression()"
   ]
  },
  {
   "cell_type": "markdown",
   "id": "22d78f35",
   "metadata": {},
   "source": [
    "### Fitting a LinearRegression Object\n",
    "On the previous screen, we learned how to create an instance of the LinearRegression() object so we can create a linear regression model. For our first use case of this object, we'll fit the same model that we used at the end of the first lesson in the course. In that model, we used the length and engine_size columns as predictors. We'll repeat the same process here.\n",
    "\n",
    "We have our model variable, which holds our linear regression model. In order to calculate the coefficients, the model needs the data. The LinearRegression class has a method for calculating the regression coefficients called fit(). The fit() method takes two arguments:\n",
    "\n",
    "- The predictors that we want to use in the model\n",
    "- The outcome\n",
    "Once a LinearRegression() object is created, the fit() method should be called with the arguments above. There's no need to assign any new variable. An example of how we might do this is below.\n",
    "\n",
    "Recall from the previous lesson that calculating the regression coefficients required multiple lines due to all of the matrix calculations. Here, it only requires two lines! However, we must always be aware of how the coefficients are being calculated. If something goes wrong, knowing about the derivation can help diagnose our problems. This is a general mindset that we should carry forward as we learn more sophisticated models.\n",
    "\n",
    "Now that we know how to fit the model, let's do so! On the following screens, we'll examine the regression coefficients more closely in two key situations."
   ]
  },
  {
   "cell_type": "code",
   "execution_count": 18,
   "id": "ddb5c51d",
   "metadata": {},
   "outputs": [
    {
     "data": {
      "text/plain": [
       "LinearRegression()"
      ]
     },
     "execution_count": 18,
     "metadata": {},
     "output_type": "execute_result"
    }
   ],
   "source": [
    "#create a subset of the x_train set\n",
    "x=x_train[['length','engine_size']]\n",
    "\n",
    "#fit the model\n",
    "\n",
    "model.fit(x, y_train)"
   ]
  },
  {
   "cell_type": "markdown",
   "id": "90bc9831",
   "metadata": {},
   "source": [
    "### Interpreting The Intercept\n",
    "Now that we know about the fit() method, we can quickly create linear regression models. For the sake of this screen, we've changed the model from the previous screen to only have a single predictor, length.\n",
    "\n",
    "Linear regression models are among the simplest supervised ML algorithms. They are often considered the \"workhorse\" model in many fields because linear trends are common and often act as good first approximations. Another benefit is that they have an intuitive interpretation. That means that the regression coefficients support direct interpretation so we can understand how the predictor associates with the outcome.\n",
    "<img src='simple.png' width=400 height=400>"
   ]
  },
  {
   "cell_type": "markdown",
   "id": "a486d6da",
   "metadata": {},
   "source": [
    "To understand how to interpret β0 and β1, we need to understand what needs to happen for these terms to be isolated. Above, we've added an  i subscript to denote that it is for a single observation. Then, we need to take the expectation, or average, on both sides of the equation.\n",
    "\n",
    "<img src='expected.png' width=400 height=400>\n",
    "\n",
    "Notice that the ϵi has disappeared. We'll cover this more in a later lesson, but the reason that the error term disappears is that we assume that, altogether, the errors average out to zero. Another way to interpret this is that the positive and negative errors cancel each other out; there is no bias in the model predictions. Then, we can isolate the β0 by setting X = 0, which leaves us with the following:\n",
    "\n",
    "<img src='intercept.png' width=400 height=400>"
   ]
  },
  {
   "cell_type": "markdown",
   "id": "c660d152",
   "metadata": {},
   "source": [
    "That is, β0 represents the average outcome when X1 =0. This may seem trivial now, but this interpretation can vary greatly depending on the predictor. It may even be the case that it's not directly interpretable; in the case, that X1 = 0 isn't meaningful itself.\n",
    "\n",
    "<img src='graph_intercept.svg' width=400 height=400>"
   ]
  },
  {
   "cell_type": "code",
   "execution_count": 19,
   "id": "f4a867f3",
   "metadata": {},
   "outputs": [
    {
     "data": {
      "text/plain": [
       "array([-0.92639199,  0.5981233 ])"
      ]
     },
     "execution_count": 19,
     "metadata": {},
     "output_type": "execute_result"
    }
   ],
   "source": [
    "#display the coefficients\n",
    "coef=model.coef_\n",
    "coef"
   ]
  },
  {
   "cell_type": "markdown",
   "id": "dbee32ef",
   "metadata": {},
   "source": [
    "### Interpreting The Slope\n",
    "On the previous screen, we learned how to isolate the intercept in a linear regression model. Going through this process allowed us to see how we should interpret it: the mean of the outcome when all the predictors are 0. We'll go through this same process with the slope.\n",
    "\n",
    "We return to the linear model, after taking the expectation again\n",
    "<img src='slope.png' width= 400 height=400>\n"
   ]
  },
  {
   "cell_type": "markdown",
   "id": "45b4e84c",
   "metadata": {},
   "source": [
    "How do we isolate β1 in this case? We'll have to contend with the predictor that accompanies the coefficient.\n",
    "\n",
    "To handle this, we need to consider two situations: one wherein we use the predictor X1\n",
    " and another wherein we increment it by 1:\n",
    " <img src='b1.png' width=600 height=600>"
   ]
  },
  {
   "cell_type": "markdown",
   "id": "6b2341ba",
   "metadata": {},
   "source": [
    "<img src='slop.svg' width= 400 height=400>"
   ]
  },
  {
   "cell_type": "markdown",
   "id": "5713d34f",
   "metadata": {},
   "source": [
    "### Interpreting Coefficients from Multiple Linear Regression\n",
    "We've learned how to interpret both of the coefficients in a simple linear regression. However, as their name suggests, simple linear regressions aren't great predictive models. When using linear regressions, we most often use multiple linear regression since it allows us to incorporate more predictors that might better explain the outcome.\n",
    "\n",
    "Interpreting the coefficients in a multiple linear regression isn't much different than doing so in a simple linear regression. It requires a small additional detail that we'll go over below.\n",
    "We'll begin with a multiple linear regression involving two predictors, much like we did before.\n",
    "\n",
    "<img src='multiple.png' width=500 height=500>"
   ]
  },
  {
   "cell_type": "markdown",
   "id": "e9770979",
   "metadata": {},
   "source": [
    "Now, here's the question: When will β1 be isolated on one side of the equation? This will only happen if the value of X2 is the same in both equations, or as we will say, \"X2 is controlled for.\"\n",
    "\n",
    "So, the correct way to interpret any coefficient in a multiple linear regression is that it is also change in the expected value of the outcome for a unit increase in the predictor, controlling for the other predictors.\n",
    "Another way to think about the coefficients in a multiple linear regression is that they represent the change due to a single predictor, after accounting for other predictors in the model. If you ever hear about the effect of some intervention, after \"adjusting\" for variables like race, gender, or education, then we know the analysis was using a multiple linear regression"
   ]
  },
  {
   "cell_type": "markdown",
   "id": "bf45946c",
   "metadata": {},
   "source": [
    "### Interpreting Coefficients of Categorical Predictors\n",
    "To complete our discussion of regression coefficients, we'll turn to the matter of categorical predictors. As of now, we've assumed that the predictors that we use in the model are continuous. That means that \"unit increases have intuitive interpretations, such as a one-foot increase in length or a unit increase in engine size.\n",
    "How would this work for binary variables, such as fuel_type in the auto dataset, which only takes values of \"gas\" or \"diesel\"? As we've learned previously, if a categorical variable with K categories is used in a model, then K − 1 binary variables are used. Each of these columns would take on values of either 0 or 1.\n",
    "Let's look at a linear model that uses fuel_type below. Assuming that the value \"gas\" is 0, then we have the following:Yi = β0 + β1Xi1 Where X1\n",
    " will be 1 if fuel_type is \"diesel.\" Using this model, let's consider how to interpret each of the coefficients here.\n",
    " We know that β0 is the expected value of the outcome when all of the predictors for the dummy variables are 0. What this means for any model using a categorical variable is that the interpretation for the intercept always involves the reference group. So, for the model above, the **intercept is the average outcome for \"gas\" cars.**\n",
    "What about the coefficient β1? We know that in any case, it represents the change in the outcome for a unit increase in X1. In the case of categorical variables, a unit change represents the change in the outcome for being in the non-reference category. Notice it's not the average for being in the non-reference; it's the change in the average. Thus, **β1  represents the change in the average outcome if the car were diesel instead of fuel**"
   ]
  },
  {
   "cell_type": "code",
   "execution_count": 20,
   "id": "c1dbcde9",
   "metadata": {},
   "outputs": [
    {
     "data": {
      "text/plain": [
       "gas       144\n",
       "diesel     15\n",
       "Name: fuel_type, dtype: int64"
      ]
     },
     "execution_count": 20,
     "metadata": {},
     "output_type": "execute_result"
    }
   ],
   "source": [
    "auto['fuel_type'].value_counts()"
   ]
  },
  {
   "cell_type": "code",
   "execution_count": 21,
   "id": "0c574289",
   "metadata": {},
   "outputs": [
    {
     "data": {
      "text/html": [
       "<div>\n",
       "<style scoped>\n",
       "    .dataframe tbody tr th:only-of-type {\n",
       "        vertical-align: middle;\n",
       "    }\n",
       "\n",
       "    .dataframe tbody tr th {\n",
       "        vertical-align: top;\n",
       "    }\n",
       "\n",
       "    .dataframe thead th {\n",
       "        text-align: right;\n",
       "    }\n",
       "</style>\n",
       "<table border=\"1\" class=\"dataframe\">\n",
       "  <thead>\n",
       "    <tr style=\"text-align: right;\">\n",
       "      <th></th>\n",
       "      <th>symboling</th>\n",
       "      <th>normalized_losses</th>\n",
       "      <th>make</th>\n",
       "      <th>fuel_type</th>\n",
       "      <th>aspiration</th>\n",
       "      <th>num_of_doors</th>\n",
       "      <th>body_style</th>\n",
       "      <th>drive_wheels</th>\n",
       "      <th>engine_location</th>\n",
       "      <th>wheel_base</th>\n",
       "      <th>...</th>\n",
       "      <th>engine_size</th>\n",
       "      <th>fuel_system</th>\n",
       "      <th>bore</th>\n",
       "      <th>stroke</th>\n",
       "      <th>compression_ratio</th>\n",
       "      <th>horsepower</th>\n",
       "      <th>peak_rpm</th>\n",
       "      <th>city_mpg</th>\n",
       "      <th>highway_mpg</th>\n",
       "      <th>price</th>\n",
       "    </tr>\n",
       "  </thead>\n",
       "  <tbody>\n",
       "    <tr>\n",
       "      <th>0</th>\n",
       "      <td>2</td>\n",
       "      <td>164</td>\n",
       "      <td>audi</td>\n",
       "      <td>gas</td>\n",
       "      <td>std</td>\n",
       "      <td>four</td>\n",
       "      <td>sedan</td>\n",
       "      <td>fwd</td>\n",
       "      <td>front</td>\n",
       "      <td>99.8</td>\n",
       "      <td>...</td>\n",
       "      <td>109</td>\n",
       "      <td>mpfi</td>\n",
       "      <td>3.19</td>\n",
       "      <td>3.4</td>\n",
       "      <td>10.0</td>\n",
       "      <td>102</td>\n",
       "      <td>5500</td>\n",
       "      <td>24</td>\n",
       "      <td>30</td>\n",
       "      <td>13950</td>\n",
       "    </tr>\n",
       "    <tr>\n",
       "      <th>1</th>\n",
       "      <td>2</td>\n",
       "      <td>164</td>\n",
       "      <td>audi</td>\n",
       "      <td>gas</td>\n",
       "      <td>std</td>\n",
       "      <td>four</td>\n",
       "      <td>sedan</td>\n",
       "      <td>4wd</td>\n",
       "      <td>front</td>\n",
       "      <td>99.4</td>\n",
       "      <td>...</td>\n",
       "      <td>136</td>\n",
       "      <td>mpfi</td>\n",
       "      <td>3.19</td>\n",
       "      <td>3.4</td>\n",
       "      <td>8.0</td>\n",
       "      <td>115</td>\n",
       "      <td>5500</td>\n",
       "      <td>18</td>\n",
       "      <td>22</td>\n",
       "      <td>17450</td>\n",
       "    </tr>\n",
       "    <tr>\n",
       "      <th>2</th>\n",
       "      <td>1</td>\n",
       "      <td>158</td>\n",
       "      <td>audi</td>\n",
       "      <td>gas</td>\n",
       "      <td>std</td>\n",
       "      <td>four</td>\n",
       "      <td>sedan</td>\n",
       "      <td>fwd</td>\n",
       "      <td>front</td>\n",
       "      <td>105.8</td>\n",
       "      <td>...</td>\n",
       "      <td>136</td>\n",
       "      <td>mpfi</td>\n",
       "      <td>3.19</td>\n",
       "      <td>3.4</td>\n",
       "      <td>8.5</td>\n",
       "      <td>110</td>\n",
       "      <td>5500</td>\n",
       "      <td>19</td>\n",
       "      <td>25</td>\n",
       "      <td>17710</td>\n",
       "    </tr>\n",
       "    <tr>\n",
       "      <th>3</th>\n",
       "      <td>1</td>\n",
       "      <td>158</td>\n",
       "      <td>audi</td>\n",
       "      <td>gas</td>\n",
       "      <td>turbo</td>\n",
       "      <td>four</td>\n",
       "      <td>sedan</td>\n",
       "      <td>fwd</td>\n",
       "      <td>front</td>\n",
       "      <td>105.8</td>\n",
       "      <td>...</td>\n",
       "      <td>131</td>\n",
       "      <td>mpfi</td>\n",
       "      <td>3.13</td>\n",
       "      <td>3.4</td>\n",
       "      <td>8.3</td>\n",
       "      <td>140</td>\n",
       "      <td>5500</td>\n",
       "      <td>17</td>\n",
       "      <td>20</td>\n",
       "      <td>23875</td>\n",
       "    </tr>\n",
       "    <tr>\n",
       "      <th>4</th>\n",
       "      <td>2</td>\n",
       "      <td>192</td>\n",
       "      <td>bmw</td>\n",
       "      <td>gas</td>\n",
       "      <td>std</td>\n",
       "      <td>two</td>\n",
       "      <td>sedan</td>\n",
       "      <td>rwd</td>\n",
       "      <td>front</td>\n",
       "      <td>101.2</td>\n",
       "      <td>...</td>\n",
       "      <td>108</td>\n",
       "      <td>mpfi</td>\n",
       "      <td>3.50</td>\n",
       "      <td>2.8</td>\n",
       "      <td>8.8</td>\n",
       "      <td>101</td>\n",
       "      <td>5800</td>\n",
       "      <td>23</td>\n",
       "      <td>29</td>\n",
       "      <td>16430</td>\n",
       "    </tr>\n",
       "  </tbody>\n",
       "</table>\n",
       "<p>5 rows × 26 columns</p>\n",
       "</div>"
      ],
      "text/plain": [
       "   symboling  normalized_losses  make fuel_type aspiration num_of_doors  \\\n",
       "0          2                164  audi       gas        std         four   \n",
       "1          2                164  audi       gas        std         four   \n",
       "2          1                158  audi       gas        std         four   \n",
       "3          1                158  audi       gas      turbo         four   \n",
       "4          2                192   bmw       gas        std          two   \n",
       "\n",
       "  body_style drive_wheels engine_location  wheel_base  ...  engine_size  \\\n",
       "0      sedan          fwd           front        99.8  ...          109   \n",
       "1      sedan          4wd           front        99.4  ...          136   \n",
       "2      sedan          fwd           front       105.8  ...          136   \n",
       "3      sedan          fwd           front       105.8  ...          131   \n",
       "4      sedan          rwd           front       101.2  ...          108   \n",
       "\n",
       "   fuel_system  bore  stroke compression_ratio horsepower  peak_rpm city_mpg  \\\n",
       "0         mpfi  3.19     3.4              10.0        102      5500       24   \n",
       "1         mpfi  3.19     3.4               8.0        115      5500       18   \n",
       "2         mpfi  3.19     3.4               8.5        110      5500       19   \n",
       "3         mpfi  3.13     3.4               8.3        140      5500       17   \n",
       "4         mpfi  3.50     2.8               8.8        101      5800       23   \n",
       "\n",
       "   highway_mpg  price  \n",
       "0           30  13950  \n",
       "1           22  17450  \n",
       "2           25  17710  \n",
       "3           20  23875  \n",
       "4           29  16430  \n",
       "\n",
       "[5 rows x 26 columns]"
      ]
     },
     "execution_count": 21,
     "metadata": {},
     "output_type": "execute_result"
    }
   ],
   "source": [
    "auto.head()"
   ]
  },
  {
   "cell_type": "code",
   "execution_count": 22,
   "id": "1f6e3bd3",
   "metadata": {},
   "outputs": [],
   "source": [
    "x_train_dummies=pd.get_dummies(x_train['fuel_type'])"
   ]
  },
  {
   "cell_type": "code",
   "execution_count": 23,
   "id": "90b62f29",
   "metadata": {},
   "outputs": [
    {
     "data": {
      "text/plain": [
       "0    117\n",
       "1     10\n",
       "Name: diesel, dtype: int64"
      ]
     },
     "execution_count": 23,
     "metadata": {},
     "output_type": "execute_result"
    }
   ],
   "source": [
    "x_train_dummies['diesel'].value_counts()"
   ]
  },
  {
   "cell_type": "code",
   "execution_count": 24,
   "id": "b943b25a",
   "metadata": {},
   "outputs": [
    {
     "data": {
      "text/plain": [
       "1    117\n",
       "0     10\n",
       "Name: gas, dtype: int64"
      ]
     },
     "execution_count": 24,
     "metadata": {},
     "output_type": "execute_result"
    }
   ],
   "source": [
    "x_train_dummies['gas'].value_counts()"
   ]
  },
  {
   "cell_type": "code",
   "execution_count": 25,
   "id": "9801fec7",
   "metadata": {},
   "outputs": [
    {
     "name": "stdout",
     "output_type": "stream",
     "text": [
      "122.31623931623932 [-4.91623932]\n"
     ]
    }
   ],
   "source": [
    "x_diesel=x_train_dummies[['diesel']]\n",
    "\n",
    "model.fit(x_diesel, y_train)\n",
    "\n",
    "intercept=model.intercept_\n",
    "coef=model.coef_\n",
    "\n",
    "print(intercept, coef)"
   ]
  },
  {
   "cell_type": "code",
   "execution_count": 26,
   "id": "0a306aa5",
   "metadata": {},
   "outputs": [
    {
     "name": "stdout",
     "output_type": "stream",
     "text": [
      "122.31623931623932 [-4.91623932]\n"
     ]
    }
   ],
   "source": [
    "x_gas=x_train_dummies[['gas']]\n",
    "\n",
    "model.fit(x_diesel, y_train)\n",
    "\n",
    "intercept=model.intercept_\n",
    "coef=model.coef_\n",
    "\n",
    "print(intercept, coef)"
   ]
  },
  {
   "cell_type": "markdown",
   "id": "1aec640a",
   "metadata": {},
   "source": [
    "### Review\n",
    "In this lesson, we learned how to fit a linear regression using the scikit-learn library instead of doing it ourselves. Libraries make it easier to produce models, and they eliminate the need to worry about the calculation. From there, we learned how to interpret each of the coefficients, both in simple and multiple linear regressions. We can get to these interpretations by figuring out how to isolate each one. The intercept represents the average outcome when all of the predictors are 0, while the slopes represent changes in the average outcome for unit increases in the predictor. \"Unit changes\" have different interpretations in the context of categorical predictors, so keep this in mind.\n",
    "In the next lesson, we'll learn how to check the fit of our models."
   ]
  },
  {
   "cell_type": "markdown",
   "id": "86af419c",
   "metadata": {},
   "source": [
    "# Checking Linear Regression Fit\n",
    "### Introduction\n",
    "Welcome to the third lesson in the Linear Regression Modeling in Python course. So far, we've learned how to calculate the regression parameters and interpret them. In this lesson, we'll turn our attention to evaluating a linear regression model to determine if it's suitable for the data. As we've mentioned before, while linear regression enjoys widespread use and interpretability, it comes with a fairly strong assumption: linearity.\n",
    "In order to determine if a linear regression is suitable for a given dataset, we examine the **residuals** that the model produces.\n",
    "What are these residuals? Recall that a linear regression is formulated as follows:\n",
    "<img src='linear.png' width=500 height=500>"
   ]
  },
  {
   "cell_type": "markdown",
   "id": "21375111",
   "metadata": {},
   "source": [
    "In reality, we don't actually know the true values of each of the errors ϵ\n",
    ".We indirectly estimate them by choosing coefficients that minimize the sum of squared errors:\n",
    "\n",
    "<img src='cost.png' width=500 height=500>"
   ]
  },
  {
   "cell_type": "markdown",
   "id": "210eff82",
   "metadata": {},
   "source": [
    "After we've calculated the coefficients, we can go back and calculate the residuals as follows:\n",
    "<img src='residual.png' width=500 height=500>"
   ]
  },
  {
   "cell_type": "markdown",
   "id": "717a6014",
   "metadata": {},
   "source": [
    "<img src='lrcurve.svg' width=400 height=400>"
   ]
  },
  {
   "cell_type": "markdown",
   "id": "823bfad2",
   "metadata": {},
   "source": [
    "The residuals ri, therefore, are what are left over after we subtract the model's prediction from the observed outcome. We assume that these residuals have certain mathematical properties. Whether or not these assumptions hold up can help us decide if a linear regression is appropriate."
   ]
  },
  {
   "cell_type": "code",
   "execution_count": 27,
   "id": "8d9109bb",
   "metadata": {},
   "outputs": [],
   "source": [
    "from sklearn.model_selection import train_test_split\n",
    "from sklearn.linear_model import LinearRegression\n",
    "\n",
    "model= LinearRegression()\n",
    "\n",
    "x=auto.drop(columns=['normalized_losses'], axis=1)\n",
    "y=auto['normalized_losses']\n",
    "\n",
    "x_train,x_test,y_train,y_test= train_test_split(x,y, test_size=0.2, random_state=728)"
   ]
  },
  {
   "cell_type": "markdown",
   "id": "01841c84",
   "metadata": {},
   "source": [
    "###  Calculating Residuals\n",
    "In order to evaluate a linear regression model, we need to examine the residuals, which are supposed to approximate the true error ϵ for each observation.\n",
    "With linear regression, we often assume that the true errors ϵ have certain characteristics. If we can show that the residuals also have similar characteristics, we can presume that the model assumptions aren't violated. If they are violated, we might want to reconsider the predictors we use — or even consider an altogether different model:\n",
    "\n",
    "<img src='error.png' width= 500 height=500>"
   ]
  },
  {
   "cell_type": "markdown",
   "id": "a44dedd1",
   "metadata": {},
   "source": [
    "While we only have the residuals r, we can check if they have the two characteristics above.\n",
    "In order to calculate the residuals, we need to produce the model predictions first. We could calculate these by hand by using the calculated coefficients from the model, but we can actually get the predictions directly using the predict() method.\n",
    "\n",
    "Given a set of predictors, the predict() method will return the predicted values of the model,\n",
    "Note that the predict() method is associated with the LinearRegression class, so keep that in mind when using it."
   ]
  },
  {
   "cell_type": "code",
   "execution_count": 28,
   "id": "0a949350",
   "metadata": {},
   "outputs": [
    {
     "data": {
      "text/plain": [
       "Index(['symboling', 'normalized_losses', 'make', 'fuel_type', 'aspiration',\n",
       "       'num_of_doors', 'body_style', 'drive_wheels', 'engine_location',\n",
       "       'wheel_base', 'length', 'width', 'height', 'curb_weight', 'engine_type',\n",
       "       'num_of_cylinders', 'engine_size', 'fuel_system', 'bore', 'stroke',\n",
       "       'compression_ratio', 'horsepower', 'peak_rpm', 'city_mpg',\n",
       "       'highway_mpg', 'price'],\n",
       "      dtype='object')"
      ]
     },
     "execution_count": 28,
     "metadata": {},
     "output_type": "execute_result"
    }
   ],
   "source": [
    "auto.columns"
   ]
  },
  {
   "cell_type": "code",
   "execution_count": 29,
   "id": "300e2de2",
   "metadata": {},
   "outputs": [
    {
     "data": {
      "text/plain": [
       "67     -12.358752\n",
       "151    -45.560874\n",
       "99     -38.996899\n",
       "68      48.627485\n",
       "21     -25.563570\n",
       "          ...    \n",
       "92     -13.857260\n",
       "76     103.303199\n",
       "72     -10.886430\n",
       "26     -16.419533\n",
       "5       75.986508\n",
       "Name: normalized_losses, Length: 127, dtype: float64"
      ]
     },
     "execution_count": 29,
     "metadata": {},
     "output_type": "execute_result"
    }
   ],
   "source": [
    "x_train_subset=x_train[['length','width']]\n",
    "x_test_subset= x_test[['length','width']]\n",
    "\n",
    "#fit the model\n",
    "\n",
    "model.fit(x_train_subset, y_train)\n",
    "\n",
    "#make predictions\n",
    "predictions= model.predict(x_train_subset)\n",
    "\n",
    "residuals= y_train - predictions\n",
    "residuals"
   ]
  },
  {
   "cell_type": "code",
   "execution_count": 30,
   "id": "5339457a",
   "metadata": {},
   "outputs": [
    {
     "data": {
      "text/plain": [
       "(-4.117790972593967e-14, 1121.588241496088)"
      ]
     },
     "execution_count": 30,
     "metadata": {},
     "output_type": "execute_result"
    }
   ],
   "source": [
    "#get the mean of the residuals and the variance\n",
    "residual_mean = np.mean(residuals)\n",
    "residual_variance = np.var(residuals)\n",
    "residual_mean,residual_variance"
   ]
  },
  {
   "cell_type": "markdown",
   "id": "4a906da1",
   "metadata": {},
   "source": [
    "We'll check that the mean of the residuals is 0 here (or very, very close).\n",
    "\n",
    "What's the significance of the residuals or true errors being 0? The idea here comes from the fact that linear regression assumes that the outcome can be decomposed into only two parts: the part predicted by the model and the error."
   ]
  },
  {
   "cell_type": "markdown",
   "id": "cf918280",
   "metadata": {},
   "source": [
    "### Checking The Residual Mean\n",
    "<img src='err.png' width=500 height=500>"
   ]
  },
  {
   "cell_type": "markdown",
   "id": "1d4042af",
   "metadata": {},
   "source": [
    "What's the significance of the residuals or true errors being 0? The idea here comes from the fact that linear regression assumes that the outcome can be decomposed into **only two parts**: the part predicted by the model and the error.\n",
    "Once we observe the data, only the \n",
    "ϵ\n",
    " are left to fill in what's left over (unexplained) by the predictors. By assuming that the errors have zero mean, we are essentially assuming that the predictions are unbiased. That is, the number of times that the predictions are above zero roughly equals the number of times they are below zero — not only that but also that the magnitude of the positive and negative errors are roughly the same.\n",
    "\n",
    "A non-zero error suggests that the model systematically under- or over-estimates the outcome. If we were to find that the errors have some kind of trend, it might merit rethinking using the linear model.\n",
    "\n",
    "It's always a good practice to know the assumptions and limitations of your predictive models, in case they aren't appropriate for the data"
   ]
  },
  {
   "cell_type": "markdown",
   "id": "fd69ba50",
   "metadata": {},
   "source": [
    "### Creating a Residuals Plot\n",
    "We've seen that the average of the model residuals was essentially zero. What's left now is to check the variance assumption.\n",
    "Unlike the first mean assumption, we cannot simply calculate the variance of the residuals. We have to check if they trend, or have a particular pattern, with the model predictions. Model predictions may have zero mean, but it's still possible for a model to perform poorly for a certain set of predictions.\n",
    "The best way to check the variance assumption is to create a residuals plot. A residuals plot is a scatter plot of the model predictions (x-axis) against their associated residuals (y-axis). This is the tool that we'll use to check the constant variance.\n",
    "<img src='residuals.svg' width=500 height=500>"
   ]
  },
  {
   "cell_type": "code",
   "execution_count": 31,
   "id": "7b5b5825",
   "metadata": {},
   "outputs": [
    {
     "data": {
      "text/plain": [
       "Text(0.5, 1.0, 'Graph of Variance of Residuals')"
      ]
     },
     "execution_count": 31,
     "metadata": {},
     "output_type": "execute_result"
    },
    {
     "data": {
      "image/png": "[encoded data removed]",
      "text/plain": [
       "<Figure size 500x400 with 1 Axes>"
      ]
     },
     "metadata": {},
     "output_type": "display_data"
    }
   ],
   "source": [
    "plt.figure(figsize=[5,4])\n",
    "\n",
    "plt.scatter(predictions, residuals)\n",
    "plt.xlabel('predictions')\n",
    "plt.ylabel('Residuals')\n",
    "plt.title('Graph of Variance of Residuals')"
   ]
  },
  {
   "cell_type": "code",
   "execution_count": 32,
   "id": "c601018d",
   "metadata": {},
   "outputs": [
    {
     "name": "stderr",
     "output_type": "stream",
     "text": [
      "C:\\Users\\512GB\\anaconda3\\lib\\site-packages\\seaborn\\_decorators.py:36: FutureWarning: Pass the following variables as keyword args: x, y. From version 0.12, the only valid positional argument will be `data`, and passing other arguments without an explicit keyword will result in an error or misinterpretation.\n",
      "  warnings.warn(\n"
     ]
    },
    {
     "data": {
      "image/png": "[encoded data removed]",
      "text/plain": [
       "<Figure size 500x400 with 1 Axes>"
      ]
     },
     "metadata": {},
     "output_type": "display_data"
    }
   ],
   "source": [
    "plt.figure(figsize=[5,4])\n",
    "\n",
    "sns.regplot(predictions, residuals)\n",
    "plt.xlabel('predictions')\n",
    "plt.ylabel('Residuals')\n",
    "plt.title('Graph of Variance of Residuals');"
   ]
  },
  {
   "cell_type": "markdown",
   "id": "aac154d4",
   "metadata": {},
   "source": [
    "### Checking Constant Variance\n",
    "The idea behind the residual plot is that we can look at how spread out the residuals are over the predicted values. If the constant variance assumption holds, then we should see a band of constant width. Below, the first plot shows what we should see, along with two examples of what would violate the assumption.\n",
    "<img src='variance.svg' width=600 height=600>\n"
   ]
  },
  {
   "cell_type": "markdown",
   "id": "52650114",
   "metadata": {},
   "source": [
    "Note that this check will be more of a qualitative one, rather than a quantitative one. We are really trying to make sure that we don't have the two latter situations shown in the picture. The second picture describes a situation wherein variance increases as the predicted values get higher. The third is a situation wherein there seems to be a polynomial trend in the residuals.\n",
    "\n",
    "With this plot in mind, what do we observe in our residual plot?\n",
    "\n",
    "- Does there seem to be an even band of dots around 0?\n",
    "- Are there points that seem to have higher residual than the others? These are signs of poor predictive ability."
   ]
  },
  {
   "cell_type": "markdown",
   "id": "cae51635",
   "metadata": {},
   "source": [
    "### Checking The Sum of Squared Errors\n",
    "It's worth noting here why we bother inspecting the residual assumptions. Checking the residuals is a quick way to determine whether or not a linear regression is appropriate for the data. If there is a clear quadratic or cubic relationship between the outcome and predictors, then a linear model isn't a great choice for prediction — or it may need some more complex predictors.\n",
    "\n",
    "Now that we've examined the assumptions of the residuals, we'll spend the last few screens checking some other model diagnostics.\n",
    "\n",
    "Recall that the coefficients minimize the sum of squared error, also known as our cost function:\n",
    "<img src='lossf.png' width=500 height=500>"
   ]
  },
  {
   "cell_type": "markdown",
   "id": "d84f798d",
   "metadata": {},
   "source": [
    "We've only discussed the sum of squared errors in the context of calculating coefficients. We can also use a similar score as a rough measure of how accurate the model is. Instead of taking the sum, we can use the **mean squared error (MSE) of the data**. As the name suggests, the MSE represents the average squared error of the model. The higher this is, the less accurate we would consider the model.\n",
    "\n",
    "If we were to calculate this on the training data, we would call it the training MSE. By itself, the **training MS**E won't tell us much besides the general magnitude of the errors. However, we **cannot** use the training MSE as our judge of the model's predictive ability. The model is optimized on the training data, so by definition the model will minimize the training MSE. We will judge the predictive ability later in the course; the focus here should just be the use of MSE as a metric for model accuracy."
   ]
  },
  {
   "cell_type": "code",
   "execution_count": 33,
   "id": "986c33fb",
   "metadata": {},
   "outputs": [
    {
     "name": "stdout",
     "output_type": "stream",
     "text": [
      "training mse is: 1121.588241496088\n",
      "training rmse is 33.490121550930326\n"
     ]
    }
   ],
   "source": [
    "from sklearn.metrics import mean_squared_error\n",
    "\n",
    "train_mse= mean_squared_error(y_train, predictions)\n",
    "train_rmse= mean_squared_error(y_train, predictions, squared=False)\n",
    "\n",
    "print('training mse is:', train_mse)\n",
    "print('training rmse is', train_rmse)"
   ]
  },
  {
   "cell_type": "markdown",
   "id": "6c1b0543",
   "metadata": {},
   "source": [
    "### The Coefficient of Determination\n",
    "We'll finish this lesson with one last metric for evaluating the quality of a linear regression model. This error metric is denoted as R2(R squared), and we call it the **coefficient of determination.**\n",
    "\n",
    "Whereas the MSE looks at the squared errors as a way to judge the model, the R2(R squared) examines how well the model accounts for the variance in the outcome. According to the linear regression model, we get the following:\n",
    "\n",
    "<img src='lre.png' width=500 height=500>\n",
    "\n",
    "The relationship between Y and X suggests that there is also a relationship between the variance of the two sides.\n",
    "\n",
    "However, no models are perfect, so there is almost always a degree of error. These errors also have a variance, which is described by the sum of squared errors! Something that may be of interest to us might be **the proportion of variance that is explained by the model.** This proportion also represents how well the model approximates the data.\n",
    "Thanks to some mathematical quirks, we can express the variance of the outcome as . .\n",
    "\n",
    "<img src='var.png' width=500 height=500>"
   ]
  },
  {
   "cell_type": "markdown",
   "id": "f0ad7e81",
   "metadata": {},
   "source": [
    "If the linear regression predicts the outcome perfectly, there would be no need for an error, and the above value would be equal to **1.** Otherwise, it's less.\n",
    "\n",
    "If we have multiple candidate models, we might prefer the model that has the highest R2\n",
    " since it indicates that it best approximates the data. As before, we must be wary of judging a model based on metrics derived from training data. We are simply getting a general idea of how well the model fits the data it's learned from.\n",
    " \n",
    " To calculate R2\n",
    ", we need to use the r2_score() function from the metrics module in scikit-learn. Its arguments are similar to those of mean_squared_error."
   ]
  },
  {
   "cell_type": "code",
   "execution_count": 34,
   "id": "34cf64ec",
   "metadata": {},
   "outputs": [
    {
     "data": {
      "text/plain": [
       "0.016067721423534076"
      ]
     },
     "execution_count": 34,
     "metadata": {},
     "output_type": "execute_result"
    }
   ],
   "source": [
    "#get the coefficcient of determination\n",
    "\n",
    "from sklearn.metrics import r2_score\n",
    "\n",
    "coefficient_of_determination=r2_score(y_train, predictions)\n",
    "coefficient_of_determination"
   ]
  },
  {
   "cell_type": "markdown",
   "id": "5a71f139",
   "metadata": {},
   "source": [
    "This means that 0.016 of variance is explained by the model.\n",
    "\n",
    "### Review\n",
    "In this lesson, we learned how to evaluate the linear regression model based on a few diagnostic measures. The first set of measures looked at the assumptions on the residuals, which are supposed to have zero mean and constant variance. Violations to the constant variance assumption look like deviations from a \"constant band\" on the residual plot, such as a fanning out or a polynomial trend.\n",
    "\n",
    "We also saw that the sum of squared errors could be described as an average instead (called the mean squared error). The MSE describes the general size of the error, but this value by itself isn't very informative. Finally, we learned about the coefficient of determination \n",
    "R2, which tells us about the proportion of variance explained by the model. The higher this value is, the better the predictions that the model makes"
   ]
  },
  {
   "cell_type": "markdown",
   "id": "981c7547",
   "metadata": {},
   "source": [
    "## Applying Linear Regression Models\n",
    "### Introduction\n",
    "\n",
    "Welcome to the final lesson in the Linear Regression Modeling in Python course. We've learned how to create a model and how to evaluate it using various metrics. like residuals,. mse,rmse and coefficient of determination.Equipped with these metrics, we can finally evaluate the predictive ability of a linear regression model. So far, we've only checked some metrics using the training data to get a general sense of the magnitude of the error. Since the parameters are optimized on the training data, we should consider the training metrics to be overly optimistic.\n",
    "The solution is to calculate the metrics on the test dataset. The test dataset is data that the model hasn't seen yet, so we would expect performance to be worse here. Our hope is that the test error isn't too far from the training error. What we mean by \"error\" can depend on the model, data and cost function we are using. In the case of linear regression, the error will be the mean squared error (MSE).\n",
    "\n",
    "Finally, once we understand how well a model works, we may seek to improve it. These improvements can take the form of different predictors or more complex predictors in the model. We'll explore this feature selection in this lesson"
   ]
  },
  {
   "cell_type": "code",
   "execution_count": 35,
   "id": "a44aa744",
   "metadata": {},
   "outputs": [],
   "source": [
    "from sklearn.model_selection import train_test_split\n",
    "from sklearn.linear_model import LinearRegression\n",
    "\n",
    "model= LinearRegression()\n",
    "\n",
    "x=auto.drop(columns=['normalized_losses'], axis=1)\n",
    "y=auto['normalized_losses']\n",
    "\n",
    "x_train,x_test,y_train,y_test= train_test_split(x,y, test_size=0.2, random_state=728)"
   ]
  },
  {
   "cell_type": "markdown",
   "id": "c705ba13",
   "metadata": {},
   "source": [
    "### Test Error\n",
    "In a supervised machine learning problem, we want to create a model that produces the most accurate predictions possible. We don't use the training error to judge the predictive ability of a model because it's too optimistic.\n",
    "\n",
    "When we compare candidate models to use, we'll ultimately judge them based on their test error. The smaller the error, the better.\n",
    "Computing the test error is the same process as computing the training error, except we use the test dataset instead. Since the test error is also an MSE, we can also take its square root to derive the root mean squared error (RMSE), which is on the same scale as the outcome.\n",
    "\n",
    "We hope that the test error will be close to or smaller than the training error. This will be the case if the model is adequately general. We might be tempted to create a more complex model using polynomials or splines in order to further push down the training error.\n",
    "The danger that comes with more complex models is that they might simply be learning the structure of the training data. When we apply this more complex model to the test data, our test error will be much higher than the training error. This is the issue of **overfitting**.\n",
    "\n",
    "Let's check the test error of a model that we created in the first lesson"
   ]
  },
  {
   "cell_type": "code",
   "execution_count": 36,
   "id": "a4935d3e",
   "metadata": {},
   "outputs": [
    {
     "name": "stdout",
     "output_type": "stream",
     "text": [
      "1047.1176945037557 32.35919798919244 1675.4868744730984 40.93271154557316\n"
     ]
    }
   ],
   "source": [
    "x_train_subset=x_train[['length','engine_size']]\n",
    "x_test_subset= x_test[['length','engine_size']]\n",
    "\n",
    "#fit the model\n",
    "\n",
    "model.fit(x_train_subset, y_train)\n",
    "\n",
    "#make predictions\n",
    "train_pred= model.predict(x_train_subset)\n",
    "test_pred = model.predict(x_test_subset)\n",
    "\n",
    "\n",
    "train_mse= mean_squared_error(y_train, train_pred)\n",
    "train_rmse= mean_squared_error(y_train, train_pred, squared=False)\n",
    "test_mse= mean_squared_error(y_test, test_pred)\n",
    "test_rmse= mean_squared_error(y_test, test_pred, squared=False)\n",
    "\n",
    "print(train_mse, train_rmse, test_mse,test_rmse)"
   ]
  },
  {
   "cell_type": "markdown",
   "id": "8a9eb41f",
   "metadata": {},
   "source": [
    "### Feature Selection And Correlation\n",
    "The process of creating a predictive model should not be viewed as an open-and-closed process. Once we know the test MSE, we have an idea of how the model might predict on unseen data. If we feel that the test error was reasonable, then we might want to use it on future datasets. If not, we might want to iterate on our linear model and try to push down the test MSE even further.\n",
    "There are several ways that we can do this. We might want to consider another class of models entirely or use different predictors. We'll focus on the latter here in the context of linear regression. The process of choosing predictors to include in a model is called feature selection. \"Predictors\" have many alternative names, and \"feature\" is one of them. We'll explore this idea over the next few screens.One of the ideas behind feature selection is that we can improve a model's predictive ability if we can choose predictors that are highly correlated with the outcome. High correlation between a predictor and the outcome implies that changes in the predictor will also come with predictable changes to the outcome. If a predictor wasn't correlated with the outcome, then changes in the predictor would be uninformative.\n",
    "Correlation is applicable only to continuous predictors and outcomes, but we can extend a similar idea to categorical variables. Recall that when categorical variables are used in linear regression models, they represent changes in the average outcome when the observation is a non-reference category. Using this idea, if we plot the histograms of the outcome stratified by different categories, we can check if using the categories might be useful.\n",
    "<img src='categorical.svg' width=500 height=500>"
   ]
  },
  {
   "cell_type": "markdown",
   "id": "f591487f",
   "metadata": {},
   "source": [
    "If there seems to be a significant change in the outcome, then it might be worth including that particular categorical variable.\n"
   ]
  },
  {
   "cell_type": "code",
   "execution_count": 37,
   "id": "e209d044",
   "metadata": {},
   "outputs": [
    {
     "data": {
      "text/html": [
       "<div>\n",
       "<style scoped>\n",
       "    .dataframe tbody tr th:only-of-type {\n",
       "        vertical-align: middle;\n",
       "    }\n",
       "\n",
       "    .dataframe tbody tr th {\n",
       "        vertical-align: top;\n",
       "    }\n",
       "\n",
       "    .dataframe thead th {\n",
       "        text-align: right;\n",
       "    }\n",
       "</style>\n",
       "<table border=\"1\" class=\"dataframe\">\n",
       "  <thead>\n",
       "    <tr style=\"text-align: right;\">\n",
       "      <th></th>\n",
       "      <th>symboling</th>\n",
       "      <th>normalized_losses</th>\n",
       "      <th>wheel_base</th>\n",
       "      <th>length</th>\n",
       "      <th>width</th>\n",
       "      <th>height</th>\n",
       "      <th>curb_weight</th>\n",
       "      <th>engine_size</th>\n",
       "      <th>bore</th>\n",
       "      <th>stroke</th>\n",
       "      <th>compression_ratio</th>\n",
       "      <th>horsepower</th>\n",
       "      <th>peak_rpm</th>\n",
       "      <th>city_mpg</th>\n",
       "      <th>highway_mpg</th>\n",
       "      <th>price</th>\n",
       "    </tr>\n",
       "  </thead>\n",
       "  <tbody>\n",
       "    <tr>\n",
       "      <th>symboling</th>\n",
       "      <td>1.000000</td>\n",
       "      <td>0.518344</td>\n",
       "      <td>-0.520591</td>\n",
       "      <td>-0.336257</td>\n",
       "      <td>-0.219186</td>\n",
       "      <td>-0.475185</td>\n",
       "      <td>-0.251880</td>\n",
       "      <td>-0.109453</td>\n",
       "      <td>-0.256469</td>\n",
       "      <td>-0.021285</td>\n",
       "      <td>-0.138316</td>\n",
       "      <td>-0.003949</td>\n",
       "      <td>0.199106</td>\n",
       "      <td>0.089550</td>\n",
       "      <td>0.149830</td>\n",
       "      <td>-0.162794</td>\n",
       "    </tr>\n",
       "    <tr>\n",
       "      <th>normalized_losses</th>\n",
       "      <td>0.518344</td>\n",
       "      <td>1.000000</td>\n",
       "      <td>-0.060086</td>\n",
       "      <td>0.035541</td>\n",
       "      <td>0.109726</td>\n",
       "      <td>-0.413702</td>\n",
       "      <td>0.125858</td>\n",
       "      <td>0.207820</td>\n",
       "      <td>-0.031558</td>\n",
       "      <td>0.063330</td>\n",
       "      <td>-0.127259</td>\n",
       "      <td>0.290511</td>\n",
       "      <td>0.237697</td>\n",
       "      <td>-0.235523</td>\n",
       "      <td>-0.188564</td>\n",
       "      <td>0.202761</td>\n",
       "    </tr>\n",
       "    <tr>\n",
       "      <th>wheel_base</th>\n",
       "      <td>-0.520591</td>\n",
       "      <td>-0.060086</td>\n",
       "      <td>1.000000</td>\n",
       "      <td>0.871534</td>\n",
       "      <td>0.814991</td>\n",
       "      <td>0.555767</td>\n",
       "      <td>0.810181</td>\n",
       "      <td>0.649206</td>\n",
       "      <td>0.578159</td>\n",
       "      <td>0.167449</td>\n",
       "      <td>0.291431</td>\n",
       "      <td>0.516948</td>\n",
       "      <td>-0.289234</td>\n",
       "      <td>-0.580657</td>\n",
       "      <td>-0.611750</td>\n",
       "      <td>0.734419</td>\n",
       "    </tr>\n",
       "    <tr>\n",
       "      <th>length</th>\n",
       "      <td>-0.336257</td>\n",
       "      <td>0.035541</td>\n",
       "      <td>0.871534</td>\n",
       "      <td>1.000000</td>\n",
       "      <td>0.838338</td>\n",
       "      <td>0.499251</td>\n",
       "      <td>0.871291</td>\n",
       "      <td>0.725953</td>\n",
       "      <td>0.646318</td>\n",
       "      <td>0.121073</td>\n",
       "      <td>0.184814</td>\n",
       "      <td>0.672063</td>\n",
       "      <td>-0.234074</td>\n",
       "      <td>-0.724544</td>\n",
       "      <td>-0.724599</td>\n",
       "      <td>0.760952</td>\n",
       "    </tr>\n",
       "    <tr>\n",
       "      <th>width</th>\n",
       "      <td>-0.219186</td>\n",
       "      <td>0.109726</td>\n",
       "      <td>0.814991</td>\n",
       "      <td>0.838338</td>\n",
       "      <td>1.000000</td>\n",
       "      <td>0.292706</td>\n",
       "      <td>0.870595</td>\n",
       "      <td>0.779253</td>\n",
       "      <td>0.572554</td>\n",
       "      <td>0.196619</td>\n",
       "      <td>0.258752</td>\n",
       "      <td>0.681872</td>\n",
       "      <td>-0.232216</td>\n",
       "      <td>-0.666684</td>\n",
       "      <td>-0.693339</td>\n",
       "      <td>0.843371</td>\n",
       "    </tr>\n",
       "    <tr>\n",
       "      <th>height</th>\n",
       "      <td>-0.475185</td>\n",
       "      <td>-0.413702</td>\n",
       "      <td>0.555767</td>\n",
       "      <td>0.499251</td>\n",
       "      <td>0.292706</td>\n",
       "      <td>1.000000</td>\n",
       "      <td>0.367052</td>\n",
       "      <td>0.111083</td>\n",
       "      <td>0.254836</td>\n",
       "      <td>-0.091313</td>\n",
       "      <td>0.233308</td>\n",
       "      <td>0.034317</td>\n",
       "      <td>-0.245864</td>\n",
       "      <td>-0.199737</td>\n",
       "      <td>-0.226136</td>\n",
       "      <td>0.244836</td>\n",
       "    </tr>\n",
       "    <tr>\n",
       "      <th>curb_weight</th>\n",
       "      <td>-0.251880</td>\n",
       "      <td>0.125858</td>\n",
       "      <td>0.810181</td>\n",
       "      <td>0.871291</td>\n",
       "      <td>0.870595</td>\n",
       "      <td>0.367052</td>\n",
       "      <td>1.000000</td>\n",
       "      <td>0.888626</td>\n",
       "      <td>0.645792</td>\n",
       "      <td>0.173844</td>\n",
       "      <td>0.224724</td>\n",
       "      <td>0.790095</td>\n",
       "      <td>-0.259988</td>\n",
       "      <td>-0.762155</td>\n",
       "      <td>-0.789338</td>\n",
       "      <td>0.893639</td>\n",
       "    </tr>\n",
       "    <tr>\n",
       "      <th>engine_size</th>\n",
       "      <td>-0.109453</td>\n",
       "      <td>0.207820</td>\n",
       "      <td>0.649206</td>\n",
       "      <td>0.725953</td>\n",
       "      <td>0.779253</td>\n",
       "      <td>0.111083</td>\n",
       "      <td>0.888626</td>\n",
       "      <td>1.000000</td>\n",
       "      <td>0.595737</td>\n",
       "      <td>0.299683</td>\n",
       "      <td>0.141097</td>\n",
       "      <td>0.812073</td>\n",
       "      <td>-0.284686</td>\n",
       "      <td>-0.699139</td>\n",
       "      <td>-0.714095</td>\n",
       "      <td>0.841496</td>\n",
       "    </tr>\n",
       "    <tr>\n",
       "      <th>bore</th>\n",
       "      <td>-0.256469</td>\n",
       "      <td>-0.031558</td>\n",
       "      <td>0.578159</td>\n",
       "      <td>0.646318</td>\n",
       "      <td>0.572554</td>\n",
       "      <td>0.254836</td>\n",
       "      <td>0.645792</td>\n",
       "      <td>0.595737</td>\n",
       "      <td>1.000000</td>\n",
       "      <td>-0.102581</td>\n",
       "      <td>0.015119</td>\n",
       "      <td>0.560239</td>\n",
       "      <td>-0.312269</td>\n",
       "      <td>-0.590440</td>\n",
       "      <td>-0.590850</td>\n",
       "      <td>0.533890</td>\n",
       "    </tr>\n",
       "    <tr>\n",
       "      <th>stroke</th>\n",
       "      <td>-0.021285</td>\n",
       "      <td>0.063330</td>\n",
       "      <td>0.167449</td>\n",
       "      <td>0.121073</td>\n",
       "      <td>0.196619</td>\n",
       "      <td>-0.091313</td>\n",
       "      <td>0.173844</td>\n",
       "      <td>0.299683</td>\n",
       "      <td>-0.102581</td>\n",
       "      <td>1.000000</td>\n",
       "      <td>0.243587</td>\n",
       "      <td>0.148804</td>\n",
       "      <td>-0.011312</td>\n",
       "      <td>-0.020055</td>\n",
       "      <td>-0.012934</td>\n",
       "      <td>0.160664</td>\n",
       "    </tr>\n",
       "    <tr>\n",
       "      <th>compression_ratio</th>\n",
       "      <td>-0.138316</td>\n",
       "      <td>-0.127259</td>\n",
       "      <td>0.291431</td>\n",
       "      <td>0.184814</td>\n",
       "      <td>0.258752</td>\n",
       "      <td>0.233308</td>\n",
       "      <td>0.224724</td>\n",
       "      <td>0.141097</td>\n",
       "      <td>0.015119</td>\n",
       "      <td>0.243587</td>\n",
       "      <td>1.000000</td>\n",
       "      <td>-0.162305</td>\n",
       "      <td>-0.416769</td>\n",
       "      <td>0.278332</td>\n",
       "      <td>0.221483</td>\n",
       "      <td>0.209361</td>\n",
       "    </tr>\n",
       "    <tr>\n",
       "      <th>horsepower</th>\n",
       "      <td>-0.003949</td>\n",
       "      <td>0.290511</td>\n",
       "      <td>0.516948</td>\n",
       "      <td>0.672063</td>\n",
       "      <td>0.681872</td>\n",
       "      <td>0.034317</td>\n",
       "      <td>0.790095</td>\n",
       "      <td>0.812073</td>\n",
       "      <td>0.560239</td>\n",
       "      <td>0.148804</td>\n",
       "      <td>-0.162305</td>\n",
       "      <td>1.000000</td>\n",
       "      <td>0.074057</td>\n",
       "      <td>-0.837214</td>\n",
       "      <td>-0.827941</td>\n",
       "      <td>0.759874</td>\n",
       "    </tr>\n",
       "    <tr>\n",
       "      <th>peak_rpm</th>\n",
       "      <td>0.199106</td>\n",
       "      <td>0.237697</td>\n",
       "      <td>-0.289234</td>\n",
       "      <td>-0.234074</td>\n",
       "      <td>-0.232216</td>\n",
       "      <td>-0.245864</td>\n",
       "      <td>-0.259988</td>\n",
       "      <td>-0.284686</td>\n",
       "      <td>-0.312269</td>\n",
       "      <td>-0.011312</td>\n",
       "      <td>-0.416769</td>\n",
       "      <td>0.074057</td>\n",
       "      <td>1.000000</td>\n",
       "      <td>-0.052929</td>\n",
       "      <td>-0.032777</td>\n",
       "      <td>-0.171916</td>\n",
       "    </tr>\n",
       "    <tr>\n",
       "      <th>city_mpg</th>\n",
       "      <td>0.089550</td>\n",
       "      <td>-0.235523</td>\n",
       "      <td>-0.580657</td>\n",
       "      <td>-0.724544</td>\n",
       "      <td>-0.666684</td>\n",
       "      <td>-0.199737</td>\n",
       "      <td>-0.762155</td>\n",
       "      <td>-0.699139</td>\n",
       "      <td>-0.590440</td>\n",
       "      <td>-0.020055</td>\n",
       "      <td>0.278332</td>\n",
       "      <td>-0.837214</td>\n",
       "      <td>-0.052929</td>\n",
       "      <td>1.000000</td>\n",
       "      <td>0.971999</td>\n",
       "      <td>-0.692273</td>\n",
       "    </tr>\n",
       "    <tr>\n",
       "      <th>highway_mpg</th>\n",
       "      <td>0.149830</td>\n",
       "      <td>-0.188564</td>\n",
       "      <td>-0.611750</td>\n",
       "      <td>-0.724599</td>\n",
       "      <td>-0.693339</td>\n",
       "      <td>-0.226136</td>\n",
       "      <td>-0.789338</td>\n",
       "      <td>-0.714095</td>\n",
       "      <td>-0.590850</td>\n",
       "      <td>-0.012934</td>\n",
       "      <td>0.221483</td>\n",
       "      <td>-0.827941</td>\n",
       "      <td>-0.032777</td>\n",
       "      <td>0.971999</td>\n",
       "      <td>1.000000</td>\n",
       "      <td>-0.720090</td>\n",
       "    </tr>\n",
       "    <tr>\n",
       "      <th>price</th>\n",
       "      <td>-0.162794</td>\n",
       "      <td>0.202761</td>\n",
       "      <td>0.734419</td>\n",
       "      <td>0.760952</td>\n",
       "      <td>0.843371</td>\n",
       "      <td>0.244836</td>\n",
       "      <td>0.893639</td>\n",
       "      <td>0.841496</td>\n",
       "      <td>0.533890</td>\n",
       "      <td>0.160664</td>\n",
       "      <td>0.209361</td>\n",
       "      <td>0.759874</td>\n",
       "      <td>-0.171916</td>\n",
       "      <td>-0.692273</td>\n",
       "      <td>-0.720090</td>\n",
       "      <td>1.000000</td>\n",
       "    </tr>\n",
       "  </tbody>\n",
       "</table>\n",
       "</div>"
      ],
      "text/plain": [
       "                   symboling  normalized_losses  wheel_base    length  \\\n",
       "symboling           1.000000           0.518344   -0.520591 -0.336257   \n",
       "normalized_losses   0.518344           1.000000   -0.060086  0.035541   \n",
       "wheel_base         -0.520591          -0.060086    1.000000  0.871534   \n",
       "length             -0.336257           0.035541    0.871534  1.000000   \n",
       "width              -0.219186           0.109726    0.814991  0.838338   \n",
       "height             -0.475185          -0.413702    0.555767  0.499251   \n",
       "curb_weight        -0.251880           0.125858    0.810181  0.871291   \n",
       "engine_size        -0.109453           0.207820    0.649206  0.725953   \n",
       "bore               -0.256469          -0.031558    0.578159  0.646318   \n",
       "stroke             -0.021285           0.063330    0.167449  0.121073   \n",
       "compression_ratio  -0.138316          -0.127259    0.291431  0.184814   \n",
       "horsepower         -0.003949           0.290511    0.516948  0.672063   \n",
       "peak_rpm            0.199106           0.237697   -0.289234 -0.234074   \n",
       "city_mpg            0.089550          -0.235523   -0.580657 -0.724544   \n",
       "highway_mpg         0.149830          -0.188564   -0.611750 -0.724599   \n",
       "price              -0.162794           0.202761    0.734419  0.760952   \n",
       "\n",
       "                      width    height  curb_weight  engine_size      bore  \\\n",
       "symboling         -0.219186 -0.475185    -0.251880    -0.109453 -0.256469   \n",
       "normalized_losses  0.109726 -0.413702     0.125858     0.207820 -0.031558   \n",
       "wheel_base         0.814991  0.555767     0.810181     0.649206  0.578159   \n",
       "length             0.838338  0.499251     0.871291     0.725953  0.646318   \n",
       "width              1.000000  0.292706     0.870595     0.779253  0.572554   \n",
       "height             0.292706  1.000000     0.367052     0.111083  0.254836   \n",
       "curb_weight        0.870595  0.367052     1.000000     0.888626  0.645792   \n",
       "engine_size        0.779253  0.111083     0.888626     1.000000  0.595737   \n",
       "bore               0.572554  0.254836     0.645792     0.595737  1.000000   \n",
       "stroke             0.196619 -0.091313     0.173844     0.299683 -0.102581   \n",
       "compression_ratio  0.258752  0.233308     0.224724     0.141097  0.015119   \n",
       "horsepower         0.681872  0.034317     0.790095     0.812073  0.560239   \n",
       "peak_rpm          -0.232216 -0.245864    -0.259988    -0.284686 -0.312269   \n",
       "city_mpg          -0.666684 -0.199737    -0.762155    -0.699139 -0.590440   \n",
       "highway_mpg       -0.693339 -0.226136    -0.789338    -0.714095 -0.590850   \n",
       "price              0.843371  0.244836     0.893639     0.841496  0.533890   \n",
       "\n",
       "                     stroke  compression_ratio  horsepower  peak_rpm  \\\n",
       "symboling         -0.021285          -0.138316   -0.003949  0.199106   \n",
       "normalized_losses  0.063330          -0.127259    0.290511  0.237697   \n",
       "wheel_base         0.167449           0.291431    0.516948 -0.289234   \n",
       "length             0.121073           0.184814    0.672063 -0.234074   \n",
       "width              0.196619           0.258752    0.681872 -0.232216   \n",
       "height            -0.091313           0.233308    0.034317 -0.245864   \n",
       "curb_weight        0.173844           0.224724    0.790095 -0.259988   \n",
       "engine_size        0.299683           0.141097    0.812073 -0.284686   \n",
       "bore              -0.102581           0.015119    0.560239 -0.312269   \n",
       "stroke             1.000000           0.243587    0.148804 -0.011312   \n",
       "compression_ratio  0.243587           1.000000   -0.162305 -0.416769   \n",
       "horsepower         0.148804          -0.162305    1.000000  0.074057   \n",
       "peak_rpm          -0.011312          -0.416769    0.074057  1.000000   \n",
       "city_mpg          -0.020055           0.278332   -0.837214 -0.052929   \n",
       "highway_mpg       -0.012934           0.221483   -0.827941 -0.032777   \n",
       "price              0.160664           0.209361    0.759874 -0.171916   \n",
       "\n",
       "                   city_mpg  highway_mpg     price  \n",
       "symboling          0.089550     0.149830 -0.162794  \n",
       "normalized_losses -0.235523    -0.188564  0.202761  \n",
       "wheel_base        -0.580657    -0.611750  0.734419  \n",
       "length            -0.724544    -0.724599  0.760952  \n",
       "width             -0.666684    -0.693339  0.843371  \n",
       "height            -0.199737    -0.226136  0.244836  \n",
       "curb_weight       -0.762155    -0.789338  0.893639  \n",
       "engine_size       -0.699139    -0.714095  0.841496  \n",
       "bore              -0.590440    -0.590850  0.533890  \n",
       "stroke            -0.020055    -0.012934  0.160664  \n",
       "compression_ratio  0.278332     0.221483  0.209361  \n",
       "horsepower        -0.837214    -0.827941  0.759874  \n",
       "peak_rpm          -0.052929    -0.032777 -0.171916  \n",
       "city_mpg           1.000000     0.971999 -0.692273  \n",
       "highway_mpg        0.971999     1.000000 -0.720090  \n",
       "price             -0.692273    -0.720090  1.000000  "
      ]
     },
     "execution_count": 37,
     "metadata": {},
     "output_type": "execute_result"
    }
   ],
   "source": [
    "corr_coef=auto.corr()\n",
    "corr_coef"
   ]
  },
  {
   "cell_type": "code",
   "execution_count": 38,
   "id": "78942607",
   "metadata": {},
   "outputs": [
    {
     "data": {
      "text/plain": [
       "normalized_losses    1.000000\n",
       "symboling            0.518344\n",
       "horsepower           0.290511\n",
       "peak_rpm             0.237697\n",
       "engine_size          0.207820\n",
       "price                0.202761\n",
       "curb_weight          0.125858\n",
       "width                0.109726\n",
       "stroke               0.063330\n",
       "length               0.035541\n",
       "bore                -0.031558\n",
       "wheel_base          -0.060086\n",
       "compression_ratio   -0.127259\n",
       "highway_mpg         -0.188564\n",
       "city_mpg            -0.235523\n",
       "height              -0.413702\n",
       "Name: normalized_losses, dtype: float64"
      ]
     },
     "execution_count": 38,
     "metadata": {},
     "output_type": "execute_result"
    }
   ],
   "source": [
    "corr_coef['normalized_losses'].sort_values(ascending=False)"
   ]
  },
  {
   "cell_type": "markdown",
   "id": "82d97fd2",
   "metadata": {},
   "source": [
    "### More Complex Predictors\n",
    "<img src='complex.png' width=400 height=400>"
   ]
  },
  {
   "cell_type": "markdown",
   "id": "1fb46938",
   "metadata": {},
   "source": [
    "Polynomial predictors might be useful if the initial visualization indicates a non-linear relationship. Polynomial predictors might also be indicated if the residual plot from an initial model indicates that the residuals themselves have a polynomial trend to them.\n",
    "Polynomial predictors are often the next step, but there are many other examples of complex predictors that we might want to include. These are outside the scope of this course, but it's worth knowing about for further research. These include the following:\n",
    "\n",
    "- Logarithmic predictors (log(X1))\n",
    "- Splines\n",
    "- Interaction terms (βX1 × X2)\n",
    "- Principal Components"
   ]
  },
  {
   "cell_type": "code",
   "execution_count": 39,
   "id": "6f63ae54",
   "metadata": {},
   "outputs": [
    {
     "name": "stdout",
     "output_type": "stream",
     "text": [
      "33.702701607571846 41.94637867576827\n"
     ]
    }
   ],
   "source": [
    "x_train[\"length_squared\"]=x_train[\"length\"]**2\n",
    "x_test[\"length_squared\"]=x_test[\"length\"]**2\n",
    "\n",
    "x_train_subset=x_train[['length','length_squared']]\n",
    "x_test_subset=x_test[['length', 'length_squared']]\n",
    "\n",
    "model= LinearRegression()\n",
    "\n",
    "model.fit(x_train_subset, y_train)\n",
    "\n",
    "train_predictions= model.predict(x_train_subset)\n",
    "test_predictions=  model.predict(x_test_subset)\n",
    "\n",
    "train_rmse= mean_squared_error(y_train, train_predictions, squared=False)\n",
    "test_rmse= mean_squared_error(y_test, test_predictions, squared=False)\n",
    "\n",
    "print(train_rmse, test_rmse)\n",
    "\n"
   ]
  },
  {
   "cell_type": "markdown",
   "id": "9f7832ac",
   "metadata": {},
   "source": [
    "### Outcome Transformations\n",
    "On the past two screens, we've discussed more complex predictors that could be included to improve predictive power. On this screen, we'll shift focus to transformations of the outcome.\n",
    "Transforming the outcome serves a different purpose than transforming a predictor. Recall from our lesson on checking model fit that the residuals of a model should form an even band around zero when checked against the predicted values. That is, they should have constant variance. In some cases, the outcome itself might have several extreme values at either the low or high end. These extreme values can influence the estimated coefficients and cause the residuals to deviate from constant variance.\n",
    "In these cases, it might be useful to transform the outcome so that extreme values are less pronounced. One of the most common ways to do this is the **log-transformation**. Using this transformation means **we're trying to predict the log of the outcome instead of the outcome itself:**\n",
    "<img src='log_outcome.png' width=400 height=400>\n"
   ]
  },
  {
   "cell_type": "markdown",
   "id": "a646f62d",
   "metadata": {},
   "source": [
    "The log transformation is useful when the outcome spans several magnitudes (i.e., from tens to ten-thousands) or has extreme values. By reducing the \"extremeness\" of outcomes, we are trying to ensure the model has constant variance in the residuals. It's not guaranteed, but it can help sometimes.\n",
    "Note that calculating the MSE on the transformed outcome causes the RMSE to also be in terms of the transformation. In order to understand the RMSE in terms of the original outcome scale, we need to inverse the original transformation. For example if we calculate the MSE on log(Y), we'll need to use e raised to power RMSE to get it back on the original scale.\n",
    "Even though the normalized_losses column doesn't have the problem of extreme values, we'll practice using an outcome transformation below."
   ]
  },
  {
   "cell_type": "code",
   "execution_count": 40,
   "id": "d3e5796f",
   "metadata": {},
   "outputs": [
    {
     "name": "stdout",
     "output_type": "stream",
     "text": [
      "train_rmse 0.1513886323653695\n",
      "test_rmse 0.23465672212479835\n"
     ]
    }
   ],
   "source": [
    "x_train_subset=x_train[['length']]\n",
    "x_test_subset= x_test[['length']]\n",
    "\n",
    "y_train_log=np.log2(y_train)\n",
    "y_test_log=np.log2(y_test)\n",
    "\n",
    "model=LinearRegression()\n",
    "\n",
    "model.fit(x_train_subset, y_train_log)\n",
    "\n",
    "train_predictions = model.predict(x_train_subset)\n",
    "test_predictions= model.predict(x_test_subset)\n",
    "\n",
    "train_rmse= mean_squared_error(y_train_log, train_predictions)\n",
    "test_rmse= mean_squared_error(y_test_log, test_predictions)\n",
    "\n",
    "print('train_rmse', train_rmse)\n",
    "print('test_rmse',  test_rmse)\n",
    "\n"
   ]
  },
  {
   "cell_type": "markdown",
   "id": "ceb4a6ff",
   "metadata": {},
   "source": [
    "### The Box-Cox Transformation\n",
    "Another transformation worth knowing is the **Box-Cox transformation.** The idea behind this transformation is to try to have the outcome have a similar **distribution to a Gaussian, or bell, shape.** This bell shape also makes it more likely that the residuals will have constant variance. This transformation is located in the **scipy library,** as shown below:\n",
    "\n",
    "`from scipy.stats import boxcox\n",
    "boxcox(y)`\n",
    "\n",
    "The Box-Cox transformation is given by the following:\n",
    "<img src='box_cox.png' width=400 height=400>\n",
    "\n",
    "\n"
   ]
  },
  {
   "cell_type": "markdown",
   "id": "b978b77a",
   "metadata": {},
   "source": [
    "where λ is a value that we can change. In the boxcox() implementation in scipy, λ\n",
    " is calculated automatically such that the input will be as close to bell-shaped as possible.\n",
    "\n",
    "Note that the Box-Cox transformation reduces to the logarithm transform for lamda =0\n",
    ". The Box-Cox transformation is limited by the fact that the values used in the transformation must be positive, so keep this in mind if you think about using it.\n",
    "\n"
   ]
  },
  {
   "cell_type": "code",
   "execution_count": 41,
   "id": "f8de46b3",
   "metadata": {},
   "outputs": [],
   "source": [
    "from scipy.stats import boxcox"
   ]
  },
  {
   "cell_type": "code",
   "execution_count": 43,
   "id": "514a92b9",
   "metadata": {},
   "outputs": [
    {
     "data": {
      "image/png": "[encoded data removed]",
      "text/plain": [
       "<Figure size 640x480 with 1 Axes>"
      ]
     },
     "metadata": {},
     "output_type": "display_data"
    }
   ],
   "source": [
    "sns.histplot(data=auto, x='normalized_losses');"
   ]
  },
  {
   "cell_type": "code",
   "execution_count": 51,
   "id": "9f835a5a",
   "metadata": {},
   "outputs": [
    {
     "data": {
      "image/png": "[encoded data removed]",
      "text/plain": [
       "<Figure size 640x480 with 1 Axes>"
      ]
     },
     "metadata": {},
     "output_type": "display_data"
    }
   ],
   "source": [
    "auto[\"log_norm_losses\"] = boxcox(auto[\"normalized_losses\"], lmbda = 0)\n",
    "auto.hist(\"log_norm_losses\")\n",
    "plt.show()"
   ]
  },
  {
   "cell_type": "code",
   "execution_count": 52,
   "id": "6d14a4eb",
   "metadata": {},
   "outputs": [
    {
     "data": {
      "image/png": "[encoded data removed]",
      "text/plain": [
       "<Figure size 640x480 with 1 Axes>"
      ]
     },
     "metadata": {},
     "output_type": "display_data"
    }
   ],
   "source": [
    "#use the first lmbda argument\n",
    "auto[\"boxcox_norm_losses\"] = boxcox(auto[\"normalized_losses\"])[0]\n",
    "auto.hist(\"boxcox_norm_losses\")\n",
    "plt.show()"
   ]
  },
  {
   "cell_type": "markdown",
   "id": "36512a26",
   "metadata": {},
   "source": [
    "### Communicating Results\n",
    "\n",
    "As we finish this course, let's look back to the process we've learned. We've examined the auto dataset to understand how to best predict the normalized_losses column, using different characteristics of each car. Since we know the values of the normalized losses, this is a supervised learning problem. To approach this problem, we studied the linear regression model and how to evaluate and use it.\n",
    "\n",
    "Now that we've constructed a few of these models, we should consider how to communicate our findings to other people. Often, these other people might be collaborators, non-technical coworkers, or even a general audience. It might be too dense to include every detail of our analysis, so we should reduce it to the essential details.\n",
    "When dealing with machine learning, we should be transparent about the data and the process we used to select a final model. Here's a non-exhaustive list of questions we should consider when summarizing our model.\n",
    "\n",
    "- How much data was used for training? What about the test set?\n",
    "- Did we have to make any transformations to the outcome or predictors? If so, what justification did we make to do so?\n",
    "- What predictors did we include in the model? Were there any particular reasons they were included?\n",
    "- How well does our model predict unseen data? Is the level of error acceptable for its application?\n",
    "- Ideally, these observations would be made as we perform each step of the machine learning workflow, culminating in a final summary at the end."
   ]
  },
  {
   "cell_type": "markdown",
   "id": "0d505291",
   "metadata": {},
   "source": [
    "### Review\n",
    "Congratulations on finishing the Linear Regression Modeling in Python course! In this lesson, we learned about linear regression and how to complete the process of creating, interpreting, and evaluating the model. Linear regressions are a simple model, but they are often a good starting point before advancing to more complex algorithms. Despite the simplicity of linear models, working with them is a good way to understand how and why to evaluate a model. Even the most complex supervised models need evaluation against some cost function.\n",
    "\n",
    "Linear regressions can also be much more complex than we've covered here — take these lessons as an introduction. For example, models like the LASSO and Ridge regression are examples of linear models — but with the extra consideration of regularization.\n",
    "\n",
    "We're now ready to complete the guided project, where we will see a new dataset."
   ]
  },
  {
   "cell_type": "code",
   "execution_count": null,
   "id": "2040a093",
   "metadata": {},
   "outputs": [],
   "source": []
  }
 ],
 "metadata": {
  "kernelspec": {
   "display_name": "Python 3 (ipykernel)",
   "language": "python",
   "name": "python3"
  },
  "language_info": {
   "codemirror_mode": {
    "name": "ipython",
    "version": 3
   },
   "file_extension": ".py",
   "mimetype": "text/x-python",
   "name": "python",
   "nbconvert_exporter": "python",
   "pygments_lexer": "ipython3",
   "version": "3.9.13"
  }
 },
 "nbformat": 4,
 "nbformat_minor": 5
}
