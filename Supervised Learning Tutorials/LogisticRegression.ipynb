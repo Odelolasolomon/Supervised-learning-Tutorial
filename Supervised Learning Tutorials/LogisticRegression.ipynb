{
 "cells": [
  {
   "cell_type": "markdown",
   "id": "aacbf99a",
   "metadata": {},
   "source": [
    "## Introduction to Logistic Regression\n",
    "Welcome to the first lesson in the **Logistic Regression Modeling in Python course!** Logistic regression is similar to linear regression, but the two are for similar-but-slightly-different tasks.\n",
    "In a somewhat confusing crossing of terms, linear regressions are used for regression tasks, referring to continuous outcomes. In linear regression, we try to predict losses in insurance claims. In logistic regression, we're trying to predict categorical outcomes, otherwise known as classification. Even though the word \"regression\" is also used in \"logistic regression,\" it refers to the fact that we also use a linear model.\n",
    "<img src='lilo.svg' width=500 height=500>"
   ]
  },
  {
   "cell_type": "markdown",
   "id": "686dcc22",
   "metadata": {},
   "source": [
    "The important thing to know is that logistic regression is the classification-based equivalent of linear regression. Classification problems are widespread in industry and academia. For example, we can ask questions like \"Does an MRI image contain an image of a tumor?\" or \"What kind of customer is this new shopper?\" These are examples of classification tasks.Logistic regression is our first foray into classification, so this lesson is dedicated to understanding how these problems differ from regression tasks. We'll learn how going from a continuous outcome to a categorical outcome changes the different aspects of the machine learning workflow."
   ]
  },
  {
   "cell_type": "code",
   "execution_count": 1,
   "id": "9204ebd9",
   "metadata": {},
   "outputs": [],
   "source": [
    "import numpy as np\n",
    "import pandas as pd\n",
    "import matplotlib.pyplot as plt\n",
    "import seaborn as sns\n",
    "%matplotlib inline\n",
    "#from sklearn.model_selection import Confusion_Matrix,classification_report\n",
    "from sklearn.linear_model import LogisticRegression\n",
    "from sklearn.model_selection import train_test_split"
   ]
  },
  {
   "cell_type": "code",
   "execution_count": 2,
   "id": "608295c1",
   "metadata": {},
   "outputs": [
    {
     "data": {
      "text/html": [
       "<div>\n",
       "<style scoped>\n",
       "    .dataframe tbody tr th:only-of-type {\n",
       "        vertical-align: middle;\n",
       "    }\n",
       "\n",
       "    .dataframe tbody tr th {\n",
       "        vertical-align: top;\n",
       "    }\n",
       "\n",
       "    .dataframe thead th {\n",
       "        text-align: right;\n",
       "    }\n",
       "</style>\n",
       "<table border=\"1\" class=\"dataframe\">\n",
       "  <thead>\n",
       "    <tr style=\"text-align: right;\">\n",
       "      <th></th>\n",
       "      <th>symboling</th>\n",
       "      <th>normalized_losses</th>\n",
       "      <th>make</th>\n",
       "      <th>fuel_type</th>\n",
       "      <th>aspiration</th>\n",
       "      <th>num_of_doors</th>\n",
       "      <th>body_style</th>\n",
       "      <th>drive_wheels</th>\n",
       "      <th>engine_location</th>\n",
       "      <th>wheel_base</th>\n",
       "      <th>...</th>\n",
       "      <th>engine_size</th>\n",
       "      <th>fuel_system</th>\n",
       "      <th>bore</th>\n",
       "      <th>stroke</th>\n",
       "      <th>compression_ratio</th>\n",
       "      <th>horsepower</th>\n",
       "      <th>peak_rpm</th>\n",
       "      <th>city_mpg</th>\n",
       "      <th>highway_mpg</th>\n",
       "      <th>price</th>\n",
       "    </tr>\n",
       "  </thead>\n",
       "  <tbody>\n",
       "    <tr>\n",
       "      <th>0</th>\n",
       "      <td>2</td>\n",
       "      <td>164</td>\n",
       "      <td>audi</td>\n",
       "      <td>gas</td>\n",
       "      <td>std</td>\n",
       "      <td>four</td>\n",
       "      <td>sedan</td>\n",
       "      <td>fwd</td>\n",
       "      <td>front</td>\n",
       "      <td>99.8</td>\n",
       "      <td>...</td>\n",
       "      <td>109</td>\n",
       "      <td>mpfi</td>\n",
       "      <td>3.19</td>\n",
       "      <td>3.4</td>\n",
       "      <td>10.0</td>\n",
       "      <td>102</td>\n",
       "      <td>5500</td>\n",
       "      <td>24</td>\n",
       "      <td>30</td>\n",
       "      <td>13950</td>\n",
       "    </tr>\n",
       "    <tr>\n",
       "      <th>1</th>\n",
       "      <td>2</td>\n",
       "      <td>164</td>\n",
       "      <td>audi</td>\n",
       "      <td>gas</td>\n",
       "      <td>std</td>\n",
       "      <td>four</td>\n",
       "      <td>sedan</td>\n",
       "      <td>4wd</td>\n",
       "      <td>front</td>\n",
       "      <td>99.4</td>\n",
       "      <td>...</td>\n",
       "      <td>136</td>\n",
       "      <td>mpfi</td>\n",
       "      <td>3.19</td>\n",
       "      <td>3.4</td>\n",
       "      <td>8.0</td>\n",
       "      <td>115</td>\n",
       "      <td>5500</td>\n",
       "      <td>18</td>\n",
       "      <td>22</td>\n",
       "      <td>17450</td>\n",
       "    </tr>\n",
       "    <tr>\n",
       "      <th>2</th>\n",
       "      <td>1</td>\n",
       "      <td>158</td>\n",
       "      <td>audi</td>\n",
       "      <td>gas</td>\n",
       "      <td>std</td>\n",
       "      <td>four</td>\n",
       "      <td>sedan</td>\n",
       "      <td>fwd</td>\n",
       "      <td>front</td>\n",
       "      <td>105.8</td>\n",
       "      <td>...</td>\n",
       "      <td>136</td>\n",
       "      <td>mpfi</td>\n",
       "      <td>3.19</td>\n",
       "      <td>3.4</td>\n",
       "      <td>8.5</td>\n",
       "      <td>110</td>\n",
       "      <td>5500</td>\n",
       "      <td>19</td>\n",
       "      <td>25</td>\n",
       "      <td>17710</td>\n",
       "    </tr>\n",
       "    <tr>\n",
       "      <th>3</th>\n",
       "      <td>1</td>\n",
       "      <td>158</td>\n",
       "      <td>audi</td>\n",
       "      <td>gas</td>\n",
       "      <td>turbo</td>\n",
       "      <td>four</td>\n",
       "      <td>sedan</td>\n",
       "      <td>fwd</td>\n",
       "      <td>front</td>\n",
       "      <td>105.8</td>\n",
       "      <td>...</td>\n",
       "      <td>131</td>\n",
       "      <td>mpfi</td>\n",
       "      <td>3.13</td>\n",
       "      <td>3.4</td>\n",
       "      <td>8.3</td>\n",
       "      <td>140</td>\n",
       "      <td>5500</td>\n",
       "      <td>17</td>\n",
       "      <td>20</td>\n",
       "      <td>23875</td>\n",
       "    </tr>\n",
       "    <tr>\n",
       "      <th>4</th>\n",
       "      <td>2</td>\n",
       "      <td>192</td>\n",
       "      <td>bmw</td>\n",
       "      <td>gas</td>\n",
       "      <td>std</td>\n",
       "      <td>two</td>\n",
       "      <td>sedan</td>\n",
       "      <td>rwd</td>\n",
       "      <td>front</td>\n",
       "      <td>101.2</td>\n",
       "      <td>...</td>\n",
       "      <td>108</td>\n",
       "      <td>mpfi</td>\n",
       "      <td>3.50</td>\n",
       "      <td>2.8</td>\n",
       "      <td>8.8</td>\n",
       "      <td>101</td>\n",
       "      <td>5800</td>\n",
       "      <td>23</td>\n",
       "      <td>29</td>\n",
       "      <td>16430</td>\n",
       "    </tr>\n",
       "  </tbody>\n",
       "</table>\n",
       "<p>5 rows × 26 columns</p>\n",
       "</div>"
      ],
      "text/plain": [
       "   symboling  normalized_losses  make fuel_type aspiration num_of_doors  \\\n",
       "0          2                164  audi       gas        std         four   \n",
       "1          2                164  audi       gas        std         four   \n",
       "2          1                158  audi       gas        std         four   \n",
       "3          1                158  audi       gas      turbo         four   \n",
       "4          2                192   bmw       gas        std          two   \n",
       "\n",
       "  body_style drive_wheels engine_location  wheel_base  ...  engine_size  \\\n",
       "0      sedan          fwd           front        99.8  ...          109   \n",
       "1      sedan          4wd           front        99.4  ...          136   \n",
       "2      sedan          fwd           front       105.8  ...          136   \n",
       "3      sedan          fwd           front       105.8  ...          131   \n",
       "4      sedan          rwd           front       101.2  ...          108   \n",
       "\n",
       "   fuel_system  bore  stroke compression_ratio horsepower  peak_rpm city_mpg  \\\n",
       "0         mpfi  3.19     3.4              10.0        102      5500       24   \n",
       "1         mpfi  3.19     3.4               8.0        115      5500       18   \n",
       "2         mpfi  3.19     3.4               8.5        110      5500       19   \n",
       "3         mpfi  3.13     3.4               8.3        140      5500       17   \n",
       "4         mpfi  3.50     2.8               8.8        101      5800       23   \n",
       "\n",
       "   highway_mpg  price  \n",
       "0           30  13950  \n",
       "1           22  17450  \n",
       "2           25  17710  \n",
       "3           20  23875  \n",
       "4           29  16430  \n",
       "\n",
       "[5 rows x 26 columns]"
      ]
     },
     "execution_count": 2,
     "metadata": {},
     "output_type": "execute_result"
    }
   ],
   "source": [
    "#read in the dataset\n",
    "auto=pd.read_csv('automobiles.csv')\n",
    "auto.head()"
   ]
  },
  {
   "cell_type": "code",
   "execution_count": 3,
   "id": "8689d1bd",
   "metadata": {},
   "outputs": [],
   "source": [
    "auto['high_price']=auto['price']"
   ]
  },
  {
   "cell_type": "code",
   "execution_count": 4,
   "id": "81d17a54",
   "metadata": {},
   "outputs": [
    {
     "data": {
      "text/html": [
       "<div>\n",
       "<style scoped>\n",
       "    .dataframe tbody tr th:only-of-type {\n",
       "        vertical-align: middle;\n",
       "    }\n",
       "\n",
       "    .dataframe tbody tr th {\n",
       "        vertical-align: top;\n",
       "    }\n",
       "\n",
       "    .dataframe thead th {\n",
       "        text-align: right;\n",
       "    }\n",
       "</style>\n",
       "<table border=\"1\" class=\"dataframe\">\n",
       "  <thead>\n",
       "    <tr style=\"text-align: right;\">\n",
       "      <th></th>\n",
       "      <th>symboling</th>\n",
       "      <th>normalized_losses</th>\n",
       "      <th>make</th>\n",
       "      <th>fuel_type</th>\n",
       "      <th>aspiration</th>\n",
       "      <th>num_of_doors</th>\n",
       "      <th>body_style</th>\n",
       "      <th>drive_wheels</th>\n",
       "      <th>engine_location</th>\n",
       "      <th>wheel_base</th>\n",
       "      <th>...</th>\n",
       "      <th>fuel_system</th>\n",
       "      <th>bore</th>\n",
       "      <th>stroke</th>\n",
       "      <th>compression_ratio</th>\n",
       "      <th>horsepower</th>\n",
       "      <th>peak_rpm</th>\n",
       "      <th>city_mpg</th>\n",
       "      <th>highway_mpg</th>\n",
       "      <th>price</th>\n",
       "      <th>high_price</th>\n",
       "    </tr>\n",
       "  </thead>\n",
       "  <tbody>\n",
       "    <tr>\n",
       "      <th>0</th>\n",
       "      <td>2</td>\n",
       "      <td>164</td>\n",
       "      <td>audi</td>\n",
       "      <td>gas</td>\n",
       "      <td>std</td>\n",
       "      <td>four</td>\n",
       "      <td>sedan</td>\n",
       "      <td>fwd</td>\n",
       "      <td>front</td>\n",
       "      <td>99.8</td>\n",
       "      <td>...</td>\n",
       "      <td>mpfi</td>\n",
       "      <td>3.19</td>\n",
       "      <td>3.4</td>\n",
       "      <td>10.0</td>\n",
       "      <td>102</td>\n",
       "      <td>5500</td>\n",
       "      <td>24</td>\n",
       "      <td>30</td>\n",
       "      <td>13950</td>\n",
       "      <td>13950</td>\n",
       "    </tr>\n",
       "    <tr>\n",
       "      <th>1</th>\n",
       "      <td>2</td>\n",
       "      <td>164</td>\n",
       "      <td>audi</td>\n",
       "      <td>gas</td>\n",
       "      <td>std</td>\n",
       "      <td>four</td>\n",
       "      <td>sedan</td>\n",
       "      <td>4wd</td>\n",
       "      <td>front</td>\n",
       "      <td>99.4</td>\n",
       "      <td>...</td>\n",
       "      <td>mpfi</td>\n",
       "      <td>3.19</td>\n",
       "      <td>3.4</td>\n",
       "      <td>8.0</td>\n",
       "      <td>115</td>\n",
       "      <td>5500</td>\n",
       "      <td>18</td>\n",
       "      <td>22</td>\n",
       "      <td>17450</td>\n",
       "      <td>17450</td>\n",
       "    </tr>\n",
       "    <tr>\n",
       "      <th>2</th>\n",
       "      <td>1</td>\n",
       "      <td>158</td>\n",
       "      <td>audi</td>\n",
       "      <td>gas</td>\n",
       "      <td>std</td>\n",
       "      <td>four</td>\n",
       "      <td>sedan</td>\n",
       "      <td>fwd</td>\n",
       "      <td>front</td>\n",
       "      <td>105.8</td>\n",
       "      <td>...</td>\n",
       "      <td>mpfi</td>\n",
       "      <td>3.19</td>\n",
       "      <td>3.4</td>\n",
       "      <td>8.5</td>\n",
       "      <td>110</td>\n",
       "      <td>5500</td>\n",
       "      <td>19</td>\n",
       "      <td>25</td>\n",
       "      <td>17710</td>\n",
       "      <td>17710</td>\n",
       "    </tr>\n",
       "    <tr>\n",
       "      <th>3</th>\n",
       "      <td>1</td>\n",
       "      <td>158</td>\n",
       "      <td>audi</td>\n",
       "      <td>gas</td>\n",
       "      <td>turbo</td>\n",
       "      <td>four</td>\n",
       "      <td>sedan</td>\n",
       "      <td>fwd</td>\n",
       "      <td>front</td>\n",
       "      <td>105.8</td>\n",
       "      <td>...</td>\n",
       "      <td>mpfi</td>\n",
       "      <td>3.13</td>\n",
       "      <td>3.4</td>\n",
       "      <td>8.3</td>\n",
       "      <td>140</td>\n",
       "      <td>5500</td>\n",
       "      <td>17</td>\n",
       "      <td>20</td>\n",
       "      <td>23875</td>\n",
       "      <td>23875</td>\n",
       "    </tr>\n",
       "    <tr>\n",
       "      <th>4</th>\n",
       "      <td>2</td>\n",
       "      <td>192</td>\n",
       "      <td>bmw</td>\n",
       "      <td>gas</td>\n",
       "      <td>std</td>\n",
       "      <td>two</td>\n",
       "      <td>sedan</td>\n",
       "      <td>rwd</td>\n",
       "      <td>front</td>\n",
       "      <td>101.2</td>\n",
       "      <td>...</td>\n",
       "      <td>mpfi</td>\n",
       "      <td>3.50</td>\n",
       "      <td>2.8</td>\n",
       "      <td>8.8</td>\n",
       "      <td>101</td>\n",
       "      <td>5800</td>\n",
       "      <td>23</td>\n",
       "      <td>29</td>\n",
       "      <td>16430</td>\n",
       "      <td>16430</td>\n",
       "    </tr>\n",
       "  </tbody>\n",
       "</table>\n",
       "<p>5 rows × 27 columns</p>\n",
       "</div>"
      ],
      "text/plain": [
       "   symboling  normalized_losses  make fuel_type aspiration num_of_doors  \\\n",
       "0          2                164  audi       gas        std         four   \n",
       "1          2                164  audi       gas        std         four   \n",
       "2          1                158  audi       gas        std         four   \n",
       "3          1                158  audi       gas      turbo         four   \n",
       "4          2                192   bmw       gas        std          two   \n",
       "\n",
       "  body_style drive_wheels engine_location  wheel_base  ...  fuel_system  bore  \\\n",
       "0      sedan          fwd           front        99.8  ...         mpfi  3.19   \n",
       "1      sedan          4wd           front        99.4  ...         mpfi  3.19   \n",
       "2      sedan          fwd           front       105.8  ...         mpfi  3.19   \n",
       "3      sedan          fwd           front       105.8  ...         mpfi  3.13   \n",
       "4      sedan          rwd           front       101.2  ...         mpfi  3.50   \n",
       "\n",
       "   stroke  compression_ratio horsepower peak_rpm  city_mpg highway_mpg  price  \\\n",
       "0     3.4               10.0        102     5500        24          30  13950   \n",
       "1     3.4                8.0        115     5500        18          22  17450   \n",
       "2     3.4                8.5        110     5500        19          25  17710   \n",
       "3     3.4                8.3        140     5500        17          20  23875   \n",
       "4     2.8                8.8        101     5800        23          29  16430   \n",
       "\n",
       "   high_price  \n",
       "0       13950  \n",
       "1       17450  \n",
       "2       17710  \n",
       "3       23875  \n",
       "4       16430  \n",
       "\n",
       "[5 rows x 27 columns]"
      ]
     },
     "execution_count": 4,
     "metadata": {},
     "output_type": "execute_result"
    }
   ],
   "source": [
    "auto.head()"
   ]
  },
  {
   "cell_type": "code",
   "execution_count": 5,
   "id": "56632d57",
   "metadata": {},
   "outputs": [
    {
     "name": "stderr",
     "output_type": "stream",
     "text": [
      "C:\\Users\\512GB\\AppData\\Local\\Temp\\ipykernel_5584\\3645285313.py:7: SettingWithCopyWarning: \n",
      "A value is trying to be set on a copy of a slice from a DataFrame\n",
      "\n",
      "See the caveats in the documentation: https://pandas.pydata.org/pandas-docs/stable/user_guide/indexing.html#returning-a-view-versus-a-copy\n",
      "  auto['high_price'][cols]=price\n"
     ]
    }
   ],
   "source": [
    "for cols in  auto.index:\n",
    "    price = auto['high_price'][cols]\n",
    "    if price > 15000:\n",
    "        price=1\n",
    "    else:\n",
    "        price=0\n",
    "    auto['high_price'][cols]=price"
   ]
  },
  {
   "cell_type": "code",
   "execution_count": 6,
   "id": "98c396d9",
   "metadata": {},
   "outputs": [
    {
     "data": {
      "text/html": [
       "<div>\n",
       "<style scoped>\n",
       "    .dataframe tbody tr th:only-of-type {\n",
       "        vertical-align: middle;\n",
       "    }\n",
       "\n",
       "    .dataframe tbody tr th {\n",
       "        vertical-align: top;\n",
       "    }\n",
       "\n",
       "    .dataframe thead th {\n",
       "        text-align: right;\n",
       "    }\n",
       "</style>\n",
       "<table border=\"1\" class=\"dataframe\">\n",
       "  <thead>\n",
       "    <tr style=\"text-align: right;\">\n",
       "      <th></th>\n",
       "      <th>symboling</th>\n",
       "      <th>normalized_losses</th>\n",
       "      <th>make</th>\n",
       "      <th>fuel_type</th>\n",
       "      <th>aspiration</th>\n",
       "      <th>num_of_doors</th>\n",
       "      <th>body_style</th>\n",
       "      <th>drive_wheels</th>\n",
       "      <th>engine_location</th>\n",
       "      <th>wheel_base</th>\n",
       "      <th>...</th>\n",
       "      <th>fuel_system</th>\n",
       "      <th>bore</th>\n",
       "      <th>stroke</th>\n",
       "      <th>compression_ratio</th>\n",
       "      <th>horsepower</th>\n",
       "      <th>peak_rpm</th>\n",
       "      <th>city_mpg</th>\n",
       "      <th>highway_mpg</th>\n",
       "      <th>price</th>\n",
       "      <th>high_price</th>\n",
       "    </tr>\n",
       "  </thead>\n",
       "  <tbody>\n",
       "    <tr>\n",
       "      <th>0</th>\n",
       "      <td>2</td>\n",
       "      <td>164</td>\n",
       "      <td>audi</td>\n",
       "      <td>gas</td>\n",
       "      <td>std</td>\n",
       "      <td>four</td>\n",
       "      <td>sedan</td>\n",
       "      <td>fwd</td>\n",
       "      <td>front</td>\n",
       "      <td>99.8</td>\n",
       "      <td>...</td>\n",
       "      <td>mpfi</td>\n",
       "      <td>3.19</td>\n",
       "      <td>3.4</td>\n",
       "      <td>10.0</td>\n",
       "      <td>102</td>\n",
       "      <td>5500</td>\n",
       "      <td>24</td>\n",
       "      <td>30</td>\n",
       "      <td>13950</td>\n",
       "      <td>0</td>\n",
       "    </tr>\n",
       "    <tr>\n",
       "      <th>1</th>\n",
       "      <td>2</td>\n",
       "      <td>164</td>\n",
       "      <td>audi</td>\n",
       "      <td>gas</td>\n",
       "      <td>std</td>\n",
       "      <td>four</td>\n",
       "      <td>sedan</td>\n",
       "      <td>4wd</td>\n",
       "      <td>front</td>\n",
       "      <td>99.4</td>\n",
       "      <td>...</td>\n",
       "      <td>mpfi</td>\n",
       "      <td>3.19</td>\n",
       "      <td>3.4</td>\n",
       "      <td>8.0</td>\n",
       "      <td>115</td>\n",
       "      <td>5500</td>\n",
       "      <td>18</td>\n",
       "      <td>22</td>\n",
       "      <td>17450</td>\n",
       "      <td>1</td>\n",
       "    </tr>\n",
       "    <tr>\n",
       "      <th>2</th>\n",
       "      <td>1</td>\n",
       "      <td>158</td>\n",
       "      <td>audi</td>\n",
       "      <td>gas</td>\n",
       "      <td>std</td>\n",
       "      <td>four</td>\n",
       "      <td>sedan</td>\n",
       "      <td>fwd</td>\n",
       "      <td>front</td>\n",
       "      <td>105.8</td>\n",
       "      <td>...</td>\n",
       "      <td>mpfi</td>\n",
       "      <td>3.19</td>\n",
       "      <td>3.4</td>\n",
       "      <td>8.5</td>\n",
       "      <td>110</td>\n",
       "      <td>5500</td>\n",
       "      <td>19</td>\n",
       "      <td>25</td>\n",
       "      <td>17710</td>\n",
       "      <td>1</td>\n",
       "    </tr>\n",
       "    <tr>\n",
       "      <th>3</th>\n",
       "      <td>1</td>\n",
       "      <td>158</td>\n",
       "      <td>audi</td>\n",
       "      <td>gas</td>\n",
       "      <td>turbo</td>\n",
       "      <td>four</td>\n",
       "      <td>sedan</td>\n",
       "      <td>fwd</td>\n",
       "      <td>front</td>\n",
       "      <td>105.8</td>\n",
       "      <td>...</td>\n",
       "      <td>mpfi</td>\n",
       "      <td>3.13</td>\n",
       "      <td>3.4</td>\n",
       "      <td>8.3</td>\n",
       "      <td>140</td>\n",
       "      <td>5500</td>\n",
       "      <td>17</td>\n",
       "      <td>20</td>\n",
       "      <td>23875</td>\n",
       "      <td>1</td>\n",
       "    </tr>\n",
       "    <tr>\n",
       "      <th>4</th>\n",
       "      <td>2</td>\n",
       "      <td>192</td>\n",
       "      <td>bmw</td>\n",
       "      <td>gas</td>\n",
       "      <td>std</td>\n",
       "      <td>two</td>\n",
       "      <td>sedan</td>\n",
       "      <td>rwd</td>\n",
       "      <td>front</td>\n",
       "      <td>101.2</td>\n",
       "      <td>...</td>\n",
       "      <td>mpfi</td>\n",
       "      <td>3.50</td>\n",
       "      <td>2.8</td>\n",
       "      <td>8.8</td>\n",
       "      <td>101</td>\n",
       "      <td>5800</td>\n",
       "      <td>23</td>\n",
       "      <td>29</td>\n",
       "      <td>16430</td>\n",
       "      <td>1</td>\n",
       "    </tr>\n",
       "  </tbody>\n",
       "</table>\n",
       "<p>5 rows × 27 columns</p>\n",
       "</div>"
      ],
      "text/plain": [
       "   symboling  normalized_losses  make fuel_type aspiration num_of_doors  \\\n",
       "0          2                164  audi       gas        std         four   \n",
       "1          2                164  audi       gas        std         four   \n",
       "2          1                158  audi       gas        std         four   \n",
       "3          1                158  audi       gas      turbo         four   \n",
       "4          2                192   bmw       gas        std          two   \n",
       "\n",
       "  body_style drive_wheels engine_location  wheel_base  ...  fuel_system  bore  \\\n",
       "0      sedan          fwd           front        99.8  ...         mpfi  3.19   \n",
       "1      sedan          4wd           front        99.4  ...         mpfi  3.19   \n",
       "2      sedan          fwd           front       105.8  ...         mpfi  3.19   \n",
       "3      sedan          fwd           front       105.8  ...         mpfi  3.13   \n",
       "4      sedan          rwd           front       101.2  ...         mpfi  3.50   \n",
       "\n",
       "   stroke  compression_ratio horsepower peak_rpm  city_mpg highway_mpg  price  \\\n",
       "0     3.4               10.0        102     5500        24          30  13950   \n",
       "1     3.4                8.0        115     5500        18          22  17450   \n",
       "2     3.4                8.5        110     5500        19          25  17710   \n",
       "3     3.4                8.3        140     5500        17          20  23875   \n",
       "4     2.8                8.8        101     5800        23          29  16430   \n",
       "\n",
       "   high_price  \n",
       "0           0  \n",
       "1           1  \n",
       "2           1  \n",
       "3           1  \n",
       "4           1  \n",
       "\n",
       "[5 rows x 27 columns]"
      ]
     },
     "execution_count": 6,
     "metadata": {},
     "output_type": "execute_result"
    }
   ],
   "source": [
    "auto.head()"
   ]
  },
  {
   "cell_type": "code",
   "execution_count": 7,
   "id": "2c0856a4",
   "metadata": {},
   "outputs": [
    {
     "data": {
      "text/plain": [
       "((127, 25), (127,))"
      ]
     },
     "execution_count": 7,
     "metadata": {},
     "output_type": "execute_result"
    }
   ],
   "source": [
    "x= auto.drop(columns=['price','high_price'], axis=1)\n",
    "y=auto['high_price']\n",
    "\n",
    "x_train,x_test,y_train,y_test= train_test_split(x,y, test_size=0.20  ,random_state=731)\n",
    "x_train.shape, y_train.shape"
   ]
  },
  {
   "cell_type": "markdown",
   "id": "5050369c",
   "metadata": {},
   "source": [
    "### Binary Classification\n",
    "On the previous screen, we learned about logistic regression and its use as a classification model. We also took the continuous price column and converted it into a binary variable named high_price, which was 1 if price was above $15,000 and 0 otherwise. On this screen, we'll delve a little bit more into why we did this.\n",
    "When we try to classify a categorical variable with only two classes, we are performing **binary classification** If we are trying to classify a variable with multiple classes, we would then be dealing with **multi-class classification**. In general, binary classification is easier than multi-class, so we'll focus on this particular task for this course.\n",
    "\n",
    "<img src='bm.svg' width=500 height=500>"
   ]
  },
  {
   "cell_type": "markdown",
   "id": "e0d0b266",
   "metadata": {},
   "source": [
    "By defining $15,000 as a cutoff for price, we're defining the classes for our classification problem. In this situation, we're converting a continuous variable into a categorical one, but this won't always be the case. We've chosen $15,000 because it's slightly above the average price in the dataset, but there's no special meaning to it. Our task for this lesson will be to create a classification model that can determine which attributes make a \"high price\" car. A high price car is what we refer to as a case, whereas a low-price car is a non-case. Likewise, a case is when the outcome equals 1, and a non-case is when the outcome is 0.\n",
    "<img src='hp.svg' width=500 height=500>"
   ]
  },
  {
   "cell_type": "markdown",
   "id": "c907bf07",
   "metadata": {},
   "source": [
    "Before we can continue, we need to make sure that both the training and test sets contain instances of high price cars and cars that are not high price. If we tried to train a logistic regression on data with only high price cars, there's no information on low price cars, so it couldn't possibly know which predictor values predict one. This is the problem of **complete separation.**\n",
    "\n",
    "Let's confirm that both datasets have both high and low price cars"
   ]
  },
  {
   "cell_type": "code",
   "execution_count": 8,
   "id": "498d1efc",
   "metadata": {},
   "outputs": [
    {
     "data": {
      "text/plain": [
       "0    94\n",
       "1    33\n",
       "Name: high_price, dtype: int64"
      ]
     },
     "execution_count": 8,
     "metadata": {},
     "output_type": "execute_result"
    }
   ],
   "source": [
    "y_train.value_counts()"
   ]
  },
  {
   "cell_type": "code",
   "execution_count": 9,
   "id": "387a85ba",
   "metadata": {},
   "outputs": [
    {
     "data": {
      "text/plain": [
       "0    25\n",
       "1     7\n",
       "Name: high_price, dtype: int64"
      ]
     },
     "execution_count": 9,
     "metadata": {},
     "output_type": "execute_result"
    }
   ],
   "source": [
    "y_test.value_counts()"
   ]
  },
  {
   "cell_type": "markdown",
   "id": "b93cb9fe",
   "metadata": {},
   "source": [
    "### The Logistic Regression Model\n",
    "Now that we've settled the issue of separation, we know that both the training and test sets have examples of both cases and non-cases. A classification model needs to have an example of both so that it can be properly trained. The logistic regression also contains a linear model, where the outcome is a linear combination of the predictors. For simplicity, we'll only include one predictor.\n",
    "<img src='lcg.png' width=400 height=400>"
   ]
  },
  {
   "cell_type": "markdown",
   "id": "dc19035a",
   "metadata": {},
   "source": [
    "In the first equation, we have something that resembles a linear regression. There is an intermediate variable Z that represents the linear combination of the predictors. In the second equation, we see that the outcome Y is the result of a function of this intermediate variable and not just the variable by itself. We'll explain this function more on the next screen, but for now, let's take some time to understand why we need this function, which is integral to logistic regression and classification.\n",
    "In linear regression, we assume that the outcome is continuous and able to take values from −∞ and ∞\n",
    "We also allow the predictors themselves to be either continuous or categorical (via dummy variables). Then, we determine the best values for the regression coefficients that minimize the error. We don't need any function here because both sides can range between −∞ and ∞.\n",
    "In the case of logistic regression, the outcome can only take two values: 0 and 1. The right side of the logistic regression is still allowed to range between the infinities, so we need a function like h(Z) to help us go from this infinite range to the constrained range between 0 and 1.\n",
    "<img src='logr.svg' width=500 height=500>"
   ]
  },
  {
   "cell_type": "code",
   "execution_count": 10,
   "id": "e364bdb2",
   "metadata": {},
   "outputs": [
    {
     "data": {
      "text/html": [
       "<div>\n",
       "<style scoped>\n",
       "    .dataframe tbody tr th:only-of-type {\n",
       "        vertical-align: middle;\n",
       "    }\n",
       "\n",
       "    .dataframe tbody tr th {\n",
       "        vertical-align: top;\n",
       "    }\n",
       "\n",
       "    .dataframe thead th {\n",
       "        text-align: right;\n",
       "    }\n",
       "</style>\n",
       "<table border=\"1\" class=\"dataframe\">\n",
       "  <thead>\n",
       "    <tr style=\"text-align: right;\">\n",
       "      <th></th>\n",
       "      <th>symboling</th>\n",
       "      <th>normalized_losses</th>\n",
       "      <th>make</th>\n",
       "      <th>fuel_type</th>\n",
       "      <th>aspiration</th>\n",
       "      <th>num_of_doors</th>\n",
       "      <th>body_style</th>\n",
       "      <th>drive_wheels</th>\n",
       "      <th>engine_location</th>\n",
       "      <th>wheel_base</th>\n",
       "      <th>...</th>\n",
       "      <th>fuel_system</th>\n",
       "      <th>bore</th>\n",
       "      <th>stroke</th>\n",
       "      <th>compression_ratio</th>\n",
       "      <th>horsepower</th>\n",
       "      <th>peak_rpm</th>\n",
       "      <th>city_mpg</th>\n",
       "      <th>highway_mpg</th>\n",
       "      <th>price</th>\n",
       "      <th>high_price</th>\n",
       "    </tr>\n",
       "  </thead>\n",
       "  <tbody>\n",
       "    <tr>\n",
       "      <th>0</th>\n",
       "      <td>2</td>\n",
       "      <td>164</td>\n",
       "      <td>audi</td>\n",
       "      <td>gas</td>\n",
       "      <td>std</td>\n",
       "      <td>four</td>\n",
       "      <td>sedan</td>\n",
       "      <td>fwd</td>\n",
       "      <td>front</td>\n",
       "      <td>99.8</td>\n",
       "      <td>...</td>\n",
       "      <td>mpfi</td>\n",
       "      <td>3.19</td>\n",
       "      <td>3.4</td>\n",
       "      <td>10.0</td>\n",
       "      <td>102</td>\n",
       "      <td>5500</td>\n",
       "      <td>24</td>\n",
       "      <td>30</td>\n",
       "      <td>13950</td>\n",
       "      <td>0</td>\n",
       "    </tr>\n",
       "    <tr>\n",
       "      <th>1</th>\n",
       "      <td>2</td>\n",
       "      <td>164</td>\n",
       "      <td>audi</td>\n",
       "      <td>gas</td>\n",
       "      <td>std</td>\n",
       "      <td>four</td>\n",
       "      <td>sedan</td>\n",
       "      <td>4wd</td>\n",
       "      <td>front</td>\n",
       "      <td>99.4</td>\n",
       "      <td>...</td>\n",
       "      <td>mpfi</td>\n",
       "      <td>3.19</td>\n",
       "      <td>3.4</td>\n",
       "      <td>8.0</td>\n",
       "      <td>115</td>\n",
       "      <td>5500</td>\n",
       "      <td>18</td>\n",
       "      <td>22</td>\n",
       "      <td>17450</td>\n",
       "      <td>1</td>\n",
       "    </tr>\n",
       "    <tr>\n",
       "      <th>2</th>\n",
       "      <td>1</td>\n",
       "      <td>158</td>\n",
       "      <td>audi</td>\n",
       "      <td>gas</td>\n",
       "      <td>std</td>\n",
       "      <td>four</td>\n",
       "      <td>sedan</td>\n",
       "      <td>fwd</td>\n",
       "      <td>front</td>\n",
       "      <td>105.8</td>\n",
       "      <td>...</td>\n",
       "      <td>mpfi</td>\n",
       "      <td>3.19</td>\n",
       "      <td>3.4</td>\n",
       "      <td>8.5</td>\n",
       "      <td>110</td>\n",
       "      <td>5500</td>\n",
       "      <td>19</td>\n",
       "      <td>25</td>\n",
       "      <td>17710</td>\n",
       "      <td>1</td>\n",
       "    </tr>\n",
       "    <tr>\n",
       "      <th>3</th>\n",
       "      <td>1</td>\n",
       "      <td>158</td>\n",
       "      <td>audi</td>\n",
       "      <td>gas</td>\n",
       "      <td>turbo</td>\n",
       "      <td>four</td>\n",
       "      <td>sedan</td>\n",
       "      <td>fwd</td>\n",
       "      <td>front</td>\n",
       "      <td>105.8</td>\n",
       "      <td>...</td>\n",
       "      <td>mpfi</td>\n",
       "      <td>3.13</td>\n",
       "      <td>3.4</td>\n",
       "      <td>8.3</td>\n",
       "      <td>140</td>\n",
       "      <td>5500</td>\n",
       "      <td>17</td>\n",
       "      <td>20</td>\n",
       "      <td>23875</td>\n",
       "      <td>1</td>\n",
       "    </tr>\n",
       "    <tr>\n",
       "      <th>4</th>\n",
       "      <td>2</td>\n",
       "      <td>192</td>\n",
       "      <td>bmw</td>\n",
       "      <td>gas</td>\n",
       "      <td>std</td>\n",
       "      <td>two</td>\n",
       "      <td>sedan</td>\n",
       "      <td>rwd</td>\n",
       "      <td>front</td>\n",
       "      <td>101.2</td>\n",
       "      <td>...</td>\n",
       "      <td>mpfi</td>\n",
       "      <td>3.50</td>\n",
       "      <td>2.8</td>\n",
       "      <td>8.8</td>\n",
       "      <td>101</td>\n",
       "      <td>5800</td>\n",
       "      <td>23</td>\n",
       "      <td>29</td>\n",
       "      <td>16430</td>\n",
       "      <td>1</td>\n",
       "    </tr>\n",
       "  </tbody>\n",
       "</table>\n",
       "<p>5 rows × 27 columns</p>\n",
       "</div>"
      ],
      "text/plain": [
       "   symboling  normalized_losses  make fuel_type aspiration num_of_doors  \\\n",
       "0          2                164  audi       gas        std         four   \n",
       "1          2                164  audi       gas        std         four   \n",
       "2          1                158  audi       gas        std         four   \n",
       "3          1                158  audi       gas      turbo         four   \n",
       "4          2                192   bmw       gas        std          two   \n",
       "\n",
       "  body_style drive_wheels engine_location  wheel_base  ...  fuel_system  bore  \\\n",
       "0      sedan          fwd           front        99.8  ...         mpfi  3.19   \n",
       "1      sedan          4wd           front        99.4  ...         mpfi  3.19   \n",
       "2      sedan          fwd           front       105.8  ...         mpfi  3.19   \n",
       "3      sedan          fwd           front       105.8  ...         mpfi  3.13   \n",
       "4      sedan          rwd           front       101.2  ...         mpfi  3.50   \n",
       "\n",
       "   stroke  compression_ratio horsepower peak_rpm  city_mpg highway_mpg  price  \\\n",
       "0     3.4               10.0        102     5500        24          30  13950   \n",
       "1     3.4                8.0        115     5500        18          22  17450   \n",
       "2     3.4                8.5        110     5500        19          25  17710   \n",
       "3     3.4                8.3        140     5500        17          20  23875   \n",
       "4     2.8                8.8        101     5800        23          29  16430   \n",
       "\n",
       "   high_price  \n",
       "0           0  \n",
       "1           1  \n",
       "2           1  \n",
       "3           1  \n",
       "4           1  \n",
       "\n",
       "[5 rows x 27 columns]"
      ]
     },
     "execution_count": 10,
     "metadata": {},
     "output_type": "execute_result"
    }
   ],
   "source": [
    "auto.head()"
   ]
  },
  {
   "cell_type": "code",
   "execution_count": 11,
   "id": "9524f261",
   "metadata": {},
   "outputs": [
    {
     "data": {
      "image/png": "[encoded data removed]",
      "text/plain": [
       "<Figure size 640x480 with 1 Axes>"
      ]
     },
     "metadata": {},
     "output_type": "display_data"
    }
   ],
   "source": [
    "sns.scatterplot(data=auto, x='horsepower', y='high_price');"
   ]
  },
  {
   "cell_type": "markdown",
   "id": "3b2901d1",
   "metadata": {},
   "source": [
    "On the previous screen, we saw that higher horsepower is more commonly tied to our definition of high price cars. Here was the result.\n",
    "We also saw that the logistic regression takes the following form:\n",
    "\n",
    "Based on the picture above, the function h(Z) translates small values of Z\n",
    " to be non-cases, while high values will be cases. There needs to be a transition between the two extremes. For our example, this transition might occur at some intermediate value of horsepower that best separates low price and high price cars. The function that we will examine is the sigmoid function, also known as the logistic function. The sigmoid function looks like the following:\n",
    " <img src='sigmod.svg' width=500 height=500>"
   ]
  },
  {
   "cell_type": "markdown",
   "id": "3bd86fb3",
   "metadata": {},
   "source": [
    "We consider the predictors to be fixed, so we control the values of the regression coefficients. As with linear regression, we want to select the coefficients that minimize some cost function. However, unlike linear regression, calculating the logistic regression coefficients is more difficult.\n",
    "\n",
    "Let's see how the sigmoid function might apply to our previous plot on horsepower"
   ]
  },
  {
   "cell_type": "code",
   "execution_count": 12,
   "id": "ebcd3670",
   "metadata": {},
   "outputs": [
    {
     "data": {
      "image/png": "[encoded data removed]",
      "text/plain": [
       "<Figure size 640x480 with 1 Axes>"
      ]
     },
     "metadata": {},
     "output_type": "display_data"
    }
   ],
   "source": [
    "beta0 = -7\n",
    "beta1 = 0.05\n",
    "\n",
    "\n",
    "auto[\"z\"] = beta0 + beta1 * auto[\"horsepower\"]\n",
    "auto[\"hz\"] = 1 / (1 + np.exp(-auto[\"z\"]))\n",
    "\n",
    "auto.plot.scatter(x=\"z\", y=\"hz\")\n",
    "plt.show()"
   ]
  },
  {
   "cell_type": "markdown",
   "id": "c4bc79cb",
   "metadata": {},
   "source": [
    "##  Probability, Odds, and Log-Odds\n",
    "Like linear regression, logistic regression enjoys the benefit of clear interpretability. Before we can understand these interpretations, we need to understand exactly how the predictors influence the outcome itself.\n",
    "\n",
    "Let's look back at the two equations for logistic regression:\n",
    "\n",
    "<img src='2_logequations.png' width=500 height=500>"
   ]
  },
  {
   "cell_type": "markdown",
   "id": "e802e2be",
   "metadata": {},
   "source": [
    "<img src='logit_function.png' width=500 height=500>"
   ]
  },
  {
   "cell_type": "markdown",
   "id": "2ec96424",
   "metadata": {},
   "source": [
    "The above function is important in both statistics and machine learning, so it has a special name: the **logit function.** The logit function is the inverse of the sigmoid function, and it tells us how the predictors change the outcome. Because it \"links\" a function of the outcome to the linear model, we say that the logit function is the **link function** for logistic regression.\n",
    "\n",
    "Recall that the outcome Y is a binary variable in this case, like a coin flip. When we take the average of Y, we get the success probability that y = 1 In our running example, EY would be the probability that the car is a high price.\n",
    "\n",
    "While the probability is easy to interpret, it has the undesirable property of being limited to values between 0 and 1. This limitation makes it difficult to work with, so it's easier to work with a function of the probability. \n",
    "This brings us to the odds. Odds are defined as the ratio of the probability that y = 1\n",
    " over the probability that y = 0\n",
    ". In terms of the probability, it would look like this:\n",
    "\n",
    "EY/1-EY.\n",
    "\n",
    "Odds are nice because they can range from −∞ to ∞ but still tell us about the relative likelihood of a binary outcome. This finally leads us to the **log-odds**, which is the logarithm of the odds. We'll discuss why log-odds are important in the next lesson, but you can get an idea by looking at the equation above. This structure is similar to what we've seen with linear regression, but the left side has changed. What could this mean?\n",
    "\n",
    "To summarize, we can discuss three distinct-but-related outcomes with binary classification: the probability, the odds and the log-odds. Changes in the predictor change the log-odds, which also influence the other two"
   ]
  },
  {
   "cell_type": "code",
   "execution_count": 13,
   "id": "e533af51",
   "metadata": {},
   "outputs": [],
   "source": [
    "#let us calculate the odds\n",
    "\n",
    "prob= np.mean(y_train)\n",
    "odds= prob/(1- prob)"
   ]
  },
  {
   "cell_type": "code",
   "execution_count": 14,
   "id": "0b41d3b7",
   "metadata": {},
   "outputs": [
    {
     "data": {
      "text/plain": [
       "0.351063829787234"
      ]
     },
     "execution_count": 14,
     "metadata": {},
     "output_type": "execute_result"
    }
   ],
   "source": [
    "odds"
   ]
  },
  {
   "cell_type": "markdown",
   "id": "61463d1a",
   "metadata": {},
   "source": [
    "## The Logistic Cost Function\n",
    "Knowing how to differentiate probability, odds, and log-odds will be useful when we know the values of the regression coefficients. But we've only learned about the structure of a logistic regression. We don't know how to derive the coefficients.\n",
    "\n",
    "Unlike linear regression, there is not a **closed form** to the logistic regression coefficients. Having a \"closed form\" means that there is a mathematical expression that we can derive and use to calculate the coefficients. Recall that the linear regression coefficients are calculated by minimizing the sum of squared errors, which results in the following\n",
    "\n",
    "<img src='linreg.png' width=500 height=500>\n",
    "                                           \n",
    "There is no equivalent for logistic regression. So how do we retrieve the coefficients? We must start at the **cost function**. As with linear regression, logistic regression also has a cost function that we must try to minimize, based on the observed data. Instead of dealing with the SSE, the classification aspect of logistic regression requires us to consider a different cost function. This function is the **log-loss**\n",
    "\n",
    "<img src='logloss.png' width=500 height=500>\n",
    "Why does the log-loss function take on two values? The answer lies in the fact that we are trying to predict a binary variable. We are using the sigmoid function to transform the linear combination of predictors into a number between 0 and 1. This explains why h is used in the log-loss"
   ]
  },
  {
   "cell_type": "markdown",
   "id": "765d0991",
   "metadata": {},
   "source": [
    "<img src='loglosscurve.svg' width=500 height=500>\n",
    "\n",
    "We have two components to the log-loss because are there only two outcomes: 0 and 1. We need to make sure that the cost is low or zero when the logistic regression is making good predictions. When the model is wrong, the log-loss will increase exponentially for both cases. Similar to linear regression, we are comparing the observed outcome with the prediction that the model makes in the cost function.\n",
    "\n",
    "Now that we have our cost function where does that leave us? Even though we can't create a closed form, we can still take derivatives on the log-loss cost function. This gives us access to gradient descent! We'll implement this on the next screen."
   ]
  },
  {
   "cell_type": "code",
   "execution_count": 15,
   "id": "659a48d3",
   "metadata": {},
   "outputs": [],
   "source": [
    "\n",
    "auto[\"L\"] = 0\n",
    "\n",
    "auto.loc[auto[\"high_price\"] == 1, \"L\"] = -np.log(auto[\"hz\"])\n",
    "auto.loc[auto[\"high_price\"] == 0, \"L\"] = -np.log(1 - auto[\"hz\"])\n",
    "\n",
    "loss = sum(auto[\"L\"])"
   ]
  },
  {
   "cell_type": "markdown",
   "id": "5d1dae90",
   "metadata": {},
   "source": [
    "## Using Gradient Descent\n",
    "We learned on the previous screen that logistic regression uses the log-loss as the cost function to minimize:\n",
    "\n",
    "Another way to write the log-loss is as follows:\n",
    "\n",
    "We encourage you to confirm that the two are equivalent. The equation above describes the loss for a single observation, and we saw on the previous screen that we can sum up all of the individual log-losses to get the total loss.\n",
    "\n",
    "We know that using gradient descent, we can choose a starting \"guess\" for the initial values of and and use iteration to create an improved next guess for these parameters. This guess is based on the derivative:\n",
    "\n",
    "Using this method, the values for the next parameters in the iteration are calculated as follows:\n",
    "where is a pre-specified learning rate. We can also see the partial derivatives for both parameters since we need to update two parameters. Using calculus, we can show that the above derivatives can be calculated as follows:\n",
    "\n",
    "Note that these two expressions for the derivative based on the average log-loss across the entire dataset. We can do this because the derivative will apply to every observation, so summing the values leads to summing the derivatives.\n",
    "\n",
    "Using all of this information, let's implement gradient descent."
   ]
  },
  {
   "cell_type": "code",
   "execution_count": 16,
   "id": "a3c88fcf",
   "metadata": {},
   "outputs": [],
   "source": [
    "import numpy as np\n",
    "import pandas as pd\n",
    "from sklearn.model_selection import train_test_split\n",
    "\n",
    "auto = pd.read_csv(\"automobiles.csv\")\n",
    "\n",
    "auto[\"high_price\"] = 0\n",
    "auto.loc[auto[\"price\"] > 15000, \"high_price\"] = 1\n",
    "\n",
    "X = auto.drop([\"price\", \"high_price\"], axis = 1)\n",
    "y = auto[\"high_price\"]\n",
    "\n",
    "X_train, X_test, y_train, y_test = train_test_split(X, y, test_size=0.20, random_state = 731)\n",
    "\n",
    "\n",
    "def gradient_descent(x, y, init = np.array([0, 0]), iterations = 1000, learning_rate = 0.0001,\n",
    "                     stopping_threshold = 1e-6):\n",
    "    \n",
    "    # Set the previous cost and parameters\n",
    "    previous_cost = None\n",
    "    beta0 = init[0]\n",
    "    beta1 = init[1]\n",
    "\n",
    "    # Perform the gradient descent\n",
    "    for i in range(iterations):\n",
    "      \n",
    "        # Calculate the predicted outcome based on the predictor\n",
    "        hz = 1 / (1 + np.exp(-1 * (beta0 + beta1 * x)))\n",
    "\n",
    "        # Calculate the log-loss cost based on current parameters\n",
    "        costs = y * (-np.log(hz)) + (1 - y) * (-np.log(1 - hz))\n",
    "        current_cost = sum(costs)\n",
    "\n",
    "        # Check if we've met the conditions for breaking the loop\n",
    "        if previous_cost and abs(previous_cost - current_cost) <= stopping_threshold:\n",
    "          \n",
    "          break\n",
    "            \n",
    "        previous_cost = current_cost\n",
    "        \n",
    "        beta0_derivative = np.mean(hz - y)\n",
    "        beta1_derivative = np.mean(x * (hz - y))\n",
    "        \n",
    "        beta0 = beta0 - learning_rate * beta0_derivative\n",
    "        beta1 = beta1 - learning_rate * beta1_derivative\n",
    "        \n",
    "    return np.array([beta0, beta1])"
   ]
  },
  {
   "cell_type": "markdown",
   "id": "5204df56",
   "metadata": {},
   "source": [
    "## Deriving the Coefficients\n",
    "On the previous screen, we implemented gradient descent based on the log-loss. With this function, we can calculate the coefficients for logistic regression. When we start using the **scikit-learn** library to create our logistic regression models, we won't need to do this hand calculation, but we should always appreciate how the ML models are working.\n",
    "\n",
    "As a last note, the gradient descent we've implemented here isn't how scikit-learn derives the coefficients. We use gradient descent here to demonstrate that there are several ways for us to calculate model parameters — and to demonstrate that it is especially important in cases where there is no analytic solution.\n",
    "\n",
    "However, there are some precautions we must take because gradient descent is an iterative algorithm. In our implementation of the algorithm, we specified that the loop should terminate after 1000 iterations. If our initial guess for the parameters is far from where they actually minimize the cost, it might actually take more iterations to reach this point.\n",
    "\n",
    "This problem can be compounded by a small learning rate since it dictates how much the parameters can change with every iteration. If the step size is too small, the algorithm may need more iterations to truly reach the minimum. In practice, it's good to check how many iterations are necessary for the algorithm to terminate. If the maximum is reached, it's a good sign that this or the learning rate should be increased slightly. We could also change our initial guess, but we have no way of knowing if any guess is accurate or not. The number of iterations and learning rate at least give us a hint as to when the algorithm might be producing an incorrect value.\n",
    "\n",
    "Let's experiment with a few different values to demonstrate this point."
   ]
  },
  {
   "cell_type": "code",
   "execution_count": 17,
   "id": "ceb20807",
   "metadata": {},
   "outputs": [],
   "source": [
    "import numpy as np\n",
    "import pandas as pd\n",
    "from sklearn.model_selection import train_test_split\n",
    "\n",
    "auto = pd.read_csv(\"automobiles.csv\")\n",
    "\n",
    "auto[\"high_price\"] = 0\n",
    "auto.loc[auto[\"price\"] > 15000, \"high_price\"] = 1\n",
    "\n",
    "X = auto.drop([\"price\", \"high_price\"], axis = 1)\n",
    "y = auto[\"high_price\"]\n",
    "\n",
    "X_train, X_test, y_train, y_test = train_test_split(X, y, test_size=0.20, random_state = 731)\n",
    "\n",
    "def gradient_descent(x, y, init = np.array([0, 0]), iterations = 1000, learning_rate = 0.0001,\n",
    "                     stopping_threshold = 1e-6):\n",
    "    \n",
    "    # Set the previous cost and parameters\n",
    "    previous_cost = None\n",
    "    beta0 = init[0]\n",
    "    beta1 = init[1]\n",
    "\n",
    "    # Perform the gradient descent\n",
    "    for i in range(iterations):\n",
    "      \n",
    "        # Calculate the predicted outcome based on the predictor\n",
    "        hz = 1 / (1 + np.exp(-1 * (beta0 + beta1 * x)))\n",
    "\n",
    "        # Calculate the log-loss cost based on current parameters\n",
    "        costs = y * (-np.log(hz)) + (1 - y) * (-np.log(1 - hz))\n",
    "        current_cost = sum(costs)\n",
    "\n",
    "        # Check if we've met the conditions for breaking the loop\n",
    "        if previous_cost and abs(previous_cost - current_cost) <= stopping_threshold:\n",
    "          \n",
    "          break\n",
    "            \n",
    "        previous_cost = current_cost\n",
    "        \n",
    "        beta0_derivative = np.mean(hz - y)\n",
    "        beta1_derivative = np.mean(x * (hz - y))\n",
    "        \n",
    "        beta0 = beta0 - learning_rate * beta0_derivative\n",
    "        beta1 = beta1 - learning_rate * beta1_derivative\n",
    "        \n",
    "    return np.array([beta0, beta1])\n",
    "\n",
    "\n",
    "first_gd = gradient_descent(auto[\"horsepower\"], auto[\"high_price\"], init = np.array([-7, 0.05]))\n",
    "second_gd = gradient_descent(auto[\"horsepower\"], auto[\"high_price\"], init = np.array([0, 0]))"
   ]
  },
  {
   "cell_type": "code",
   "execution_count": 18,
   "id": "aee8a668",
   "metadata": {},
   "outputs": [
    {
     "data": {
      "text/plain": [
       "array([-6.99997745,  0.05750936])"
      ]
     },
     "execution_count": 18,
     "metadata": {},
     "output_type": "execute_result"
    }
   ],
   "source": [
    "first_gd"
   ]
  },
  {
   "cell_type": "code",
   "execution_count": 19,
   "id": "f2db8d14",
   "metadata": {},
   "outputs": [
    {
     "data": {
      "text/plain": [
       "array([-0.01070029, -0.0060423 ])"
      ]
     },
     "execution_count": 19,
     "metadata": {},
     "output_type": "execute_result"
    }
   ],
   "source": [
    "second_gd"
   ]
  },
  {
   "cell_type": "markdown",
   "id": "859dc6ed",
   "metadata": {},
   "source": [
    "## Interpreting the Regression Parameters\n",
    "##  Introduction\n",
    "Welcome to this lesson on **Logistic Regression Modeling in Python!** A logistic regression model predicts a categorical outcome. Categorical outcomes can either be binary or multi-class, but we'll be focusing on binary classification in this lesson. Binary classification is everywhere in our everyday lives. Predicting disease status (having a disease or not having it) using a model is a common application\n",
    "\n",
    "<img src='logclass.svg' width=500 height=500>"
   ]
  },
  {
   "cell_type": "markdown",
   "id": "4fc24b5b",
   "metadata": {},
   "source": [
    "Moving from a regression to a classification task changes several aspects of the model, such as the model structure, the cost function, and the interpretations of the coefficients. In this lesson, we'll explore how to interpret logistic regression coefficients, and we'll see why binary classification alters these interpretations. We'll also learn how to use the scikit-learn library to create logistic regression models instead of implementing gradient descent by hand."
   ]
  },
  {
   "cell_type": "markdown",
   "id": "e48259d5",
   "metadata": {},
   "source": [
    "<img src='bc.svg' width=500 height=500 >"
   ]
  },
  {
   "cell_type": "code",
   "execution_count": 20,
   "id": "e0192597",
   "metadata": {},
   "outputs": [],
   "source": [
    "import numpy as np\n",
    "import pandas as pd\n",
    "from sklearn.model_selection import train_test_split"
   ]
  },
  {
   "cell_type": "code",
   "execution_count": 21,
   "id": "f75f57f5",
   "metadata": {},
   "outputs": [
    {
     "data": {
      "text/html": [
       "<div>\n",
       "<style scoped>\n",
       "    .dataframe tbody tr th:only-of-type {\n",
       "        vertical-align: middle;\n",
       "    }\n",
       "\n",
       "    .dataframe tbody tr th {\n",
       "        vertical-align: top;\n",
       "    }\n",
       "\n",
       "    .dataframe thead th {\n",
       "        text-align: right;\n",
       "    }\n",
       "</style>\n",
       "<table border=\"1\" class=\"dataframe\">\n",
       "  <thead>\n",
       "    <tr style=\"text-align: right;\">\n",
       "      <th></th>\n",
       "      <th>symboling</th>\n",
       "      <th>normalized_losses</th>\n",
       "      <th>make</th>\n",
       "      <th>fuel_type</th>\n",
       "      <th>aspiration</th>\n",
       "      <th>num_of_doors</th>\n",
       "      <th>body_style</th>\n",
       "      <th>drive_wheels</th>\n",
       "      <th>engine_location</th>\n",
       "      <th>wheel_base</th>\n",
       "      <th>...</th>\n",
       "      <th>fuel_system</th>\n",
       "      <th>bore</th>\n",
       "      <th>stroke</th>\n",
       "      <th>compression_ratio</th>\n",
       "      <th>horsepower</th>\n",
       "      <th>peak_rpm</th>\n",
       "      <th>city_mpg</th>\n",
       "      <th>highway_mpg</th>\n",
       "      <th>price</th>\n",
       "      <th>high_price</th>\n",
       "    </tr>\n",
       "  </thead>\n",
       "  <tbody>\n",
       "    <tr>\n",
       "      <th>0</th>\n",
       "      <td>2</td>\n",
       "      <td>164</td>\n",
       "      <td>audi</td>\n",
       "      <td>gas</td>\n",
       "      <td>std</td>\n",
       "      <td>four</td>\n",
       "      <td>sedan</td>\n",
       "      <td>fwd</td>\n",
       "      <td>front</td>\n",
       "      <td>99.8</td>\n",
       "      <td>...</td>\n",
       "      <td>mpfi</td>\n",
       "      <td>3.19</td>\n",
       "      <td>3.4</td>\n",
       "      <td>10.0</td>\n",
       "      <td>102</td>\n",
       "      <td>5500</td>\n",
       "      <td>24</td>\n",
       "      <td>30</td>\n",
       "      <td>13950</td>\n",
       "      <td>0</td>\n",
       "    </tr>\n",
       "    <tr>\n",
       "      <th>1</th>\n",
       "      <td>2</td>\n",
       "      <td>164</td>\n",
       "      <td>audi</td>\n",
       "      <td>gas</td>\n",
       "      <td>std</td>\n",
       "      <td>four</td>\n",
       "      <td>sedan</td>\n",
       "      <td>4wd</td>\n",
       "      <td>front</td>\n",
       "      <td>99.4</td>\n",
       "      <td>...</td>\n",
       "      <td>mpfi</td>\n",
       "      <td>3.19</td>\n",
       "      <td>3.4</td>\n",
       "      <td>8.0</td>\n",
       "      <td>115</td>\n",
       "      <td>5500</td>\n",
       "      <td>18</td>\n",
       "      <td>22</td>\n",
       "      <td>17450</td>\n",
       "      <td>1</td>\n",
       "    </tr>\n",
       "    <tr>\n",
       "      <th>2</th>\n",
       "      <td>1</td>\n",
       "      <td>158</td>\n",
       "      <td>audi</td>\n",
       "      <td>gas</td>\n",
       "      <td>std</td>\n",
       "      <td>four</td>\n",
       "      <td>sedan</td>\n",
       "      <td>fwd</td>\n",
       "      <td>front</td>\n",
       "      <td>105.8</td>\n",
       "      <td>...</td>\n",
       "      <td>mpfi</td>\n",
       "      <td>3.19</td>\n",
       "      <td>3.4</td>\n",
       "      <td>8.5</td>\n",
       "      <td>110</td>\n",
       "      <td>5500</td>\n",
       "      <td>19</td>\n",
       "      <td>25</td>\n",
       "      <td>17710</td>\n",
       "      <td>1</td>\n",
       "    </tr>\n",
       "  </tbody>\n",
       "</table>\n",
       "<p>3 rows × 27 columns</p>\n",
       "</div>"
      ],
      "text/plain": [
       "   symboling  normalized_losses  make fuel_type aspiration num_of_doors  \\\n",
       "0          2                164  audi       gas        std         four   \n",
       "1          2                164  audi       gas        std         four   \n",
       "2          1                158  audi       gas        std         four   \n",
       "\n",
       "  body_style drive_wheels engine_location  wheel_base  ...  fuel_system  bore  \\\n",
       "0      sedan          fwd           front        99.8  ...         mpfi  3.19   \n",
       "1      sedan          4wd           front        99.4  ...         mpfi  3.19   \n",
       "2      sedan          fwd           front       105.8  ...         mpfi  3.19   \n",
       "\n",
       "   stroke  compression_ratio horsepower peak_rpm  city_mpg highway_mpg  price  \\\n",
       "0     3.4               10.0        102     5500        24          30  13950   \n",
       "1     3.4                8.0        115     5500        18          22  17450   \n",
       "2     3.4                8.5        110     5500        19          25  17710   \n",
       "\n",
       "   high_price  \n",
       "0           0  \n",
       "1           1  \n",
       "2           1  \n",
       "\n",
       "[3 rows x 27 columns]"
      ]
     },
     "execution_count": 21,
     "metadata": {},
     "output_type": "execute_result"
    }
   ],
   "source": [
    "auto.head(3)"
   ]
  },
  {
   "cell_type": "code",
   "execution_count": 22,
   "id": "1c41ee8f",
   "metadata": {},
   "outputs": [],
   "source": [
    "x= auto.drop(columns=['price','high_price'], axis=1)\n",
    "y= auto['high_price']\n",
    "\n",
    "x_train,x_test,y_train,y_test = train_test_split(x,y, test_size=0.20, random_state=732)"
   ]
  },
  {
   "cell_type": "code",
   "execution_count": 23,
   "id": "1b9a79e8",
   "metadata": {},
   "outputs": [
    {
     "data": {
      "text/plain": [
       "((127, 25), (127,))"
      ]
     },
     "execution_count": 23,
     "metadata": {},
     "output_type": "execute_result"
    }
   ],
   "source": [
    "x_train.shape, y_train.shape"
   ]
  },
  {
   "cell_type": "markdown",
   "id": "614f1d2c",
   "metadata": {},
   "source": [
    "##  The Logistic Regression Object\n",
    "As with many scikit-learn models, we create logistic regressions through a class. We'll use the LogisticRegression class that's available in the linear_model module. Curious students may notice that the documentation is much more detailed than the LinearRegression class. This difference is because logistic regression models encompass more tasks and considerations than their linear regression counterparts.\n",
    "To give a few examples, we may choose between binary and multi-class classification using the same LogisticRegression class. Gradient descent is one way to optimize the coefficients of a logistic regression model, and we may also specify different optimizers to calculate the coefficients. This is out of the scope of our lesson, but it's useful to know if you need to reference the documentation. (When necessary, we'll point out any important methods or attributes, so you don't have to wade through everything.)"
   ]
  },
  {
   "cell_type": "code",
   "execution_count": 24,
   "id": "a4ea352e",
   "metadata": {},
   "outputs": [],
   "source": [
    "from sklearn.linear_model import LogisticRegression"
   ]
  },
  {
   "cell_type": "code",
   "execution_count": 25,
   "id": "3f802832",
   "metadata": {},
   "outputs": [],
   "source": [
    "model= LogisticRegression()"
   ]
  },
  {
   "cell_type": "markdown",
   "id": "9fa3a635",
   "metadata": {},
   "source": [
    "## Fitting the Model\n",
    "On the previous screen, we learned how to create an instance of the LogisticRegression() object that will let us create a model without having to implement it. We'll create a model that tries to predict high_price using horsepower as the sole predictor.\n",
    "\n",
    "Now that we've learned how to instantiate a LogisticRegression() object, we can fit it to data — there is a fit() method. Given some predictors X and their associated outcomes y, we can fit the model as follows"
   ]
  },
  {
   "cell_type": "code",
   "execution_count": 26,
   "id": "6b06cc4f",
   "metadata": {},
   "outputs": [
    {
     "data": {
      "text/plain": [
       "LogisticRegression()"
      ]
     },
     "execution_count": 26,
     "metadata": {},
     "output_type": "execute_result"
    }
   ],
   "source": [
    "x_sub=x_train[['horsepower']]\n",
    "\n",
    "#fit the model\n",
    "model.fit(x_sub, y_train)"
   ]
  },
  {
   "cell_type": "markdown",
   "id": "e3cb0a90",
   "metadata": {},
   "source": [
    "## Interpreting the Intercept\n",
    "Now that we've fitted a model, we can start to examine the coefficients and interpret them. Logistic regression is very interpretable, but it requires some extra thinking.\n",
    "\n",
    "The binary outcome can be related to the linear combination of predictors through the following relationship:\n",
    "\n",
    "Unlike linear regression, the linear combination does not directly act on the average of the outcome ; it acts on it via the **logit function**. This logit function changes how we should interpret the coefficients.\n",
    "We can read through this equation to get the correct interpretation. Recall that there are three related outcomes for logistic regression: **the success probability, the odds, and the log-odds**. The linear model acts on the log-odds, so we would interpret the intercept as: **the log-odds when** the predictor is 0. Keep in mind that this interpretation should always be adjusted to whatever predictor is being used in the model.\n",
    "\n",
    "Log-odds aren't interpretable by themselves, but it's a first step toward understanding the coefficients."
   ]
  },
  {
   "cell_type": "code",
   "execution_count": 27,
   "id": "b665137b",
   "metadata": {},
   "outputs": [
    {
     "data": {
      "text/plain": [
       "array([-8.3986778])"
      ]
     },
     "execution_count": 27,
     "metadata": {},
     "output_type": "execute_result"
    }
   ],
   "source": [
    "intercept = model.intercept_\n",
    "intercept"
   ]
  },
  {
   "cell_type": "markdown",
   "id": "f2a097b2",
   "metadata": {},
   "source": [
    "## Interpreting the Intercept: Odds\n",
    "On the previous screen, we learned that the intercept of a logistic is the log-odds when the predictor is zero. While this is entirely correct, it's not very intuitive. We can take an extra step to simplify the interpretation. Intercept takes the following form:\n",
    "\n",
    "<img src='odds.png' width=500 height =500>"
   ]
  },
  {
   "cell_type": "markdown",
   "id": "53ae87f1",
   "metadata": {},
   "source": [
    "Doing this gives us the odds on one side, and a function of the intercept on the other. Odds have better interpretability than log-odds because they give us a sense of what is more likely: an event happening or not happening. If the odds is greater than 1, it suggests that the probability of an event happening is greater than it not happening. Furthermore, if the odds are less than 1, it suggests the opposite conclusion.\n",
    "<img src='odd.svg' width=500 height=500>"
   ]
  },
  {
   "cell_type": "markdown",
   "id": "70efda19",
   "metadata": {},
   "source": [
    "For some, it might feel uncomfortable to talk in terms of the ratios of probabilities rather than the probabilities themselves. However, odds are used in familiar contexts like gambling, so they're not unheard of. Since we are usually expecting the binary event to happen several times, it's more helpful to use the odds to understand how many times we should expect to see a success versus a failure. The probability alone won't tell us that"
   ]
  },
  {
   "cell_type": "code",
   "execution_count": 28,
   "id": "52637aed",
   "metadata": {},
   "outputs": [],
   "source": [
    "odds = np.exp(intercept)"
   ]
  },
  {
   "cell_type": "code",
   "execution_count": 29,
   "id": "d096376c",
   "metadata": {},
   "outputs": [
    {
     "data": {
      "text/plain": [
       "array([0.00022516])"
      ]
     },
     "execution_count": 29,
     "metadata": {},
     "output_type": "execute_result"
    }
   ],
   "source": [
    "odds"
   ]
  },
  {
   "cell_type": "code",
   "execution_count": 30,
   "id": "a4d4ef16",
   "metadata": {},
   "outputs": [],
   "source": [
    "more_likely = \"low\""
   ]
  },
  {
   "cell_type": "markdown",
   "id": "02a4411c",
   "metadata": {},
   "source": [
    "## Interpreting the Slope\n",
    "Now that we've learned how to interpret a logistic regression intercept, we can move onto interpreting the slope. We need to isolate the slope by subtracting two equations: one where X=0, and one where X=1, as shown below:\n",
    "\n",
    "Starting with . . .\n",
    "\n",
    "<img src='logslope.png' width=600 height=600>"
   ]
  },
  {
   "cell_type": "markdown",
   "id": "bda05440",
   "metadata": {},
   "source": [
    "The jump from the first to second line comes from the property of logarithms. For logistic regression, we can see that a unit increase in the predictor changes the outcome. Here, the slope represents the **log of the odds ratio**\n",
    "This odds ratio represents how the outcome changes with a change in the predictor. If the odds ratio is greater than one, then it implies that the value of the numerator (odds when X=1) is greater than the denominator (odds when X=0). This further implies that the probability of success, EY, is also increasing in a non-linear way.\n",
    "\n",
    "<img src='oddsratio.png' width=500 height=500>\n"
   ]
  },
  {
   "cell_type": "markdown",
   "id": "4990ce37",
   "metadata": {},
   "source": [
    "When presenting results on logistic regressions, it's almost always better to present the coefficients in terms of odds ratios. These are more interpretable, and they only require an extra calculation to get. Keep this in mind for the guided project!"
   ]
  },
  {
   "cell_type": "code",
   "execution_count": 31,
   "id": "124fba4e",
   "metadata": {},
   "outputs": [],
   "source": [
    "slope= model.coef_"
   ]
  },
  {
   "cell_type": "code",
   "execution_count": 32,
   "id": "2c71645b",
   "metadata": {},
   "outputs": [
    {
     "data": {
      "text/plain": [
       "array([[0.06921187]])"
      ]
     },
     "execution_count": 32,
     "metadata": {},
     "output_type": "execute_result"
    }
   ],
   "source": [
    "slope"
   ]
  },
  {
   "cell_type": "code",
   "execution_count": 33,
   "id": "d0adcaa1",
   "metadata": {},
   "outputs": [
    {
     "data": {
      "text/plain": [
       "array([[1.07166324]])"
      ]
     },
     "execution_count": 33,
     "metadata": {},
     "output_type": "execute_result"
    }
   ],
   "source": [
    "odds_ratio = np.exp(slope)\n",
    "odds_ratio"
   ]
  },
  {
   "cell_type": "raw",
   "id": "87ae263a",
   "metadata": {},
   "source": [
    "more_likey = \"True\""
   ]
  },
  {
   "cell_type": "markdown",
   "id": "d606766e",
   "metadata": {},
   "source": [
    "##  Multiple Predictors\n",
    "For a multiple logistic regression, a coefficient would be interpreted as **the log odds ratio for a unit change in the predictor, holding the other predictors constant.** Another way to say \"holding the other predictors constant\" is controlling for the other predictors. This phrase is more commonly used in research literature, so it's good to be aware of it.\n",
    "\n",
    "Let's create a multiple logistic regression and try to interpret it."
   ]
  },
  {
   "cell_type": "code",
   "execution_count": 34,
   "id": "20d60f08",
   "metadata": {},
   "outputs": [
    {
     "data": {
      "text/plain": [
       "LogisticRegression()"
      ]
     },
     "execution_count": 34,
     "metadata": {},
     "output_type": "execute_result"
    }
   ],
   "source": [
    "x_sub = x_train[['horsepower','highway_mpg']]\n",
    "\n",
    "model.fit(x_sub, y_train)"
   ]
  },
  {
   "cell_type": "code",
   "execution_count": 35,
   "id": "feedf1d5",
   "metadata": {},
   "outputs": [
    {
     "data": {
      "text/plain": [
       "array([1.68375486])"
      ]
     },
     "execution_count": 35,
     "metadata": {},
     "output_type": "execute_result"
    }
   ],
   "source": [
    "intercept= model. intercept_\n",
    "intercept"
   ]
  },
  {
   "cell_type": "code",
   "execution_count": 36,
   "id": "cff6bb6b",
   "metadata": {},
   "outputs": [
    {
     "data": {
      "text/plain": [
       "array([5.38574076])"
      ]
     },
     "execution_count": 36,
     "metadata": {},
     "output_type": "execute_result"
    }
   ],
   "source": [
    "result = np.exp(intercept)\n",
    "result"
   ]
  },
  {
   "cell_type": "code",
   "execution_count": 37,
   "id": "ec64a614",
   "metadata": {},
   "outputs": [
    {
     "data": {
      "text/plain": [
       "array([[ 0.03986097, -0.23966618]])"
      ]
     },
     "execution_count": 37,
     "metadata": {},
     "output_type": "execute_result"
    }
   ],
   "source": [
    "slope = model.coef_\n",
    "slope"
   ]
  },
  {
   "cell_type": "code",
   "execution_count": 38,
   "id": "db69f700",
   "metadata": {},
   "outputs": [
    {
     "data": {
      "text/plain": [
       "1.040666075641625"
      ]
     },
     "execution_count": 38,
     "metadata": {},
     "output_type": "execute_result"
    }
   ],
   "source": [
    "horsepower_or = np.exp(slope[0,0])\n",
    "horsepower_or"
   ]
  },
  {
   "cell_type": "code",
   "execution_count": 39,
   "id": "df409b56",
   "metadata": {},
   "outputs": [
    {
     "data": {
      "text/plain": [
       "0.7868904937228752"
      ]
     },
     "execution_count": 39,
     "metadata": {},
     "output_type": "execute_result"
    }
   ],
   "source": [
    "highway_mpg_or = np.exp(slope[0,1])\n",
    "highway_mpg_or"
   ]
  },
  {
   "cell_type": "markdown",
   "id": "c9cb7c5c",
   "metadata": {},
   "source": [
    "##  Success Probabilities\n",
    "In general, when we deal with logistic regressions, we interpret in terms of odds and odds ratios. For that reason, we've largely sidestepped discussing how the coefficients affect the success probability.\n",
    "\n",
    "To conclude this lesson, let's use a fitted LogisticRegression model to return the predicted probability of an observation. To do so, we can look back to the logistic regression formula, in odds form:\n",
    "\n",
    "We can further rearrange the equation so that we can isolate on one side. Without going into the math, we get the following:\n",
    "\n",
    "LogisticRegression objects have a method that performs the above calculation: the predict_proba() method. This method takes in a dataset that has all of the predictors used in the model and outputs the estimated probability for each observation in the data.\n",
    "\n",
    "We'd like to note though that even though an observation might have a seemingly high predicted probability, it won't necessarily mean that the actual observation will also be a success. This is another reason it's more useful to discuss logistic regressions in terms of odds. They give us a sense of how many successes and failures we should expect to see in a dataset."
   ]
  },
  {
   "cell_type": "code",
   "execution_count": 40,
   "id": "ba4cc948",
   "metadata": {},
   "outputs": [
    {
     "data": {
      "text/plain": [
       "array([[9.98876619e-01, 1.12338119e-03],\n",
       "       [3.55488672e-01, 6.44511328e-01],\n",
       "       [1.55867085e-02, 9.84413292e-01],\n",
       "       [8.80741051e-01, 1.19258949e-01],\n",
       "       [9.19711785e-01, 8.02882151e-02],\n",
       "       [9.99698730e-01, 3.01270339e-04],\n",
       "       [9.42523581e-01, 5.74764188e-02],\n",
       "       [7.31243507e-01, 2.68756493e-01],\n",
       "       [9.33220286e-01, 6.67797137e-02],\n",
       "       [9.95644770e-01, 4.35523035e-03]])"
      ]
     },
     "execution_count": 40,
     "metadata": {},
     "output_type": "execute_result"
    }
   ],
   "source": [
    "probs = model.predict_proba(x_sub)\n",
    "probs[0:10]"
   ]
  },
  {
   "cell_type": "markdown",
   "id": "cf997b32",
   "metadata": {},
   "source": [
    "## Review\n",
    "In this lesson, we learned how to fit a LogisticRegression model and interpret the coefficients estimated by the model. Model coefficients affect the log-odds, which affects both the odds and the success probability. We can use this knowledge to understand how different predictors affect the outcome.\n",
    "\n",
    "In the next lesson, we'll learn how to evaluate the performance of a logistic regression model."
   ]
  },
  {
   "cell_type": "markdown",
   "id": "b121d9ee",
   "metadata": {},
   "source": [
    "# Evaluating Logistic Regression Models\n",
    "Welcome to the third lesson of **Logistic Regression Modeling in Python!** We can start building any binary classifier we want, but currently, we don't have any idea how to evaluate them. Here, we'll learn about various metrics that we can use to evaluate them.\n",
    "\n",
    "<img src='metrics.svg' width=500 height=500 >"
   ]
  },
  {
   "cell_type": "markdown",
   "id": "7378edd5",
   "metadata": {},
   "source": [
    "With classification, there are more diverse arrays of metrics that we can look at. We'll discuss why we use each metric and what we can learn from them.\n",
    "\n",
    "Let's begin by setting up our libraries and data.\n"
   ]
  },
  {
   "cell_type": "code",
   "execution_count": 41,
   "id": "9edac8c1",
   "metadata": {},
   "outputs": [],
   "source": [
    "x= auto.drop(columns=['price','high_price'], axis=1)\n",
    "y= auto['high_price']\n",
    "\n",
    "x_train,x_test,y_train,y_test = train_test_split(x,y, test_size=0.20, random_state=733)"
   ]
  },
  {
   "cell_type": "markdown",
   "id": "b3df0f54",
   "metadata": {},
   "source": [
    "##  Accuracy\n",
    "The first and most important classification metric that we will learn is accuracy. Accuracy gives us a straightforward picture of how well the logistic regression predicted the classes in the data. It's calculated as follows:\n",
    "\n",
    "**`Accuracy=# Correct Predictions/# Observations**`\n",
    "\n",
    "Based on the calculation above, we can see that accuracy is just the proportion of the dataset that is predicted correctly. \"Correct\" in a binary classification sense means that observed 1s were predicted to be 1 and likewise observed 0's were predicted to be 0. We'll see that other metrics focus more on one class.\n",
    "\n",
    "We can calculate accuracy by hand, but it's quicker to use the built-in methods in the LogisticRegression class. We call the score() method using the data and the associated classes.\n",
    "\n",
    "`from sklearn.linear_model import LogisticRegression\n",
    "model = LogisticRegression()\n",
    "model.fit(X, y)\n",
    "model.score(X, y)`\n",
    "\n",
    "Alternatively, we can also use a function from the metrics module: the accuracy_score function. This function takes two arguments: the true classes in the data and the predicted classes by the model.\n",
    "\n",
    "In order to retrieve the model predictions, we can use the predict() method. We can use these as the second argument in the accuracy_score() function.\n",
    "\n",
    "`from sklearn.metrics import accuracy_score\n",
    "accuracy_score(true_classes, predicted_classes)\n",
    "\n",
    "predicted_classes = model.predict(X)\n",
    "accuracy_score(true_classes, predicted_classes)`\n",
    "\n",
    "Either function will work, it's up to you. The score() method in the LogisticRegression class is convenient because it can be called for any fitted LogisticRegression() object. accuracy_score needs to be given the predictions as an argument, but it can be used for any classification model.\n",
    "\n",
    "Test accuracy will be the metric that we ultimately refer to when we compare models. Training accuracy will only be used to give us an optimistic sense of how well the model performs. Let's see how well a logistic model using only horsepower can predict high_price."
   ]
  },
  {
   "cell_type": "code",
   "execution_count": 42,
   "id": "1cc5a260",
   "metadata": {},
   "outputs": [
    {
     "data": {
      "text/plain": [
       "0.8661417322834646"
      ]
     },
     "execution_count": 42,
     "metadata": {},
     "output_type": "execute_result"
    }
   ],
   "source": [
    "x_sub= x_train[['horsepower']]\n",
    "\n",
    "model.fit(x_sub, y_train)\n",
    "predict=model.predict(x_sub)\n",
    "\n",
    "accuracy=model.score(x_sub, y_train)\n",
    "accuracy\n",
    "\n"
   ]
  },
  {
   "cell_type": "markdown",
   "id": "253e2e14",
   "metadata": {},
   "source": [
    "## Sensitivity\n",
    "While accuracy is the most important metric that we should take away from this course, it's still useful to know and understand other available metrics. On this and the next screen, we'll look at metrics that focus on how well a single class is classified.\n",
    "\n",
    "To understand this better, we'll consult a 2x2 table:\n",
    "<img src='confusionmatrix.svg' width=500 height=500>"
   ]
  },
  {
   "cell_type": "markdown",
   "id": "efc0f106",
   "metadata": {},
   "source": [
    "Since there are two classes, 0 and 1, we can also see how well the model performs for each class. The word \"positive\" is used in a sense to refer to cases (class 1), while \"negative\" refers to non-cases (class 0). A model might have great overall accuracy, but it might mask weaknesses in predicting one of the classes. Perhaps it might perform very well at identifying non-cases but perform poorly for cases.\n",
    "\n",
    "If we were interested in focusing on how well the model performs with 1 classes, we look to a metric called **sensitivity**. Sensitivity is defined as follows:\n",
    "\n",
    "**`Sensitivity=# True Positives/# True Positives + # False Negatives**`\n",
    "<img src='sensitivity.svg' width=500 height=500 >\n"
   ]
  },
  {
   "cell_type": "markdown",
   "id": "9a899c84",
   "metadata": {},
   "source": [
    "Sensitivity may also be viewed as a **conditional probability**, as opposed to a marginal probability like accuracy. Given that we know an observation has a 1 class, what is the probability that the model predicted it correctly? It's important to keep this conditional aspect in mind, as it can lead to confusion later if forgotten.\n",
    "Sometimes we may be more concerned with how well 1 classes are captured, which would make sensitivity more useful than accuracy. You may see in other contexts that sensitivity is also referred to as **recall**."
   ]
  },
  {
   "cell_type": "code",
   "execution_count": 43,
   "id": "e69cce9d",
   "metadata": {},
   "outputs": [
    {
     "data": {
      "text/html": [
       "<div>\n",
       "<style scoped>\n",
       "    .dataframe tbody tr th:only-of-type {\n",
       "        vertical-align: middle;\n",
       "    }\n",
       "\n",
       "    .dataframe tbody tr th {\n",
       "        vertical-align: top;\n",
       "    }\n",
       "\n",
       "    .dataframe thead th {\n",
       "        text-align: right;\n",
       "    }\n",
       "</style>\n",
       "<table border=\"1\" class=\"dataframe\">\n",
       "  <thead>\n",
       "    <tr style=\"text-align: right;\">\n",
       "      <th></th>\n",
       "      <th>symboling</th>\n",
       "      <th>normalized_losses</th>\n",
       "      <th>make</th>\n",
       "      <th>fuel_type</th>\n",
       "      <th>aspiration</th>\n",
       "      <th>num_of_doors</th>\n",
       "      <th>body_style</th>\n",
       "      <th>drive_wheels</th>\n",
       "      <th>engine_location</th>\n",
       "      <th>wheel_base</th>\n",
       "      <th>...</th>\n",
       "      <th>fuel_system</th>\n",
       "      <th>bore</th>\n",
       "      <th>stroke</th>\n",
       "      <th>compression_ratio</th>\n",
       "      <th>horsepower</th>\n",
       "      <th>peak_rpm</th>\n",
       "      <th>city_mpg</th>\n",
       "      <th>highway_mpg</th>\n",
       "      <th>price</th>\n",
       "      <th>high_price</th>\n",
       "    </tr>\n",
       "  </thead>\n",
       "  <tbody>\n",
       "    <tr>\n",
       "      <th>0</th>\n",
       "      <td>2</td>\n",
       "      <td>164</td>\n",
       "      <td>audi</td>\n",
       "      <td>gas</td>\n",
       "      <td>std</td>\n",
       "      <td>four</td>\n",
       "      <td>sedan</td>\n",
       "      <td>fwd</td>\n",
       "      <td>front</td>\n",
       "      <td>99.8</td>\n",
       "      <td>...</td>\n",
       "      <td>mpfi</td>\n",
       "      <td>3.19</td>\n",
       "      <td>3.4</td>\n",
       "      <td>10.0</td>\n",
       "      <td>102</td>\n",
       "      <td>5500</td>\n",
       "      <td>24</td>\n",
       "      <td>30</td>\n",
       "      <td>13950</td>\n",
       "      <td>0</td>\n",
       "    </tr>\n",
       "    <tr>\n",
       "      <th>1</th>\n",
       "      <td>2</td>\n",
       "      <td>164</td>\n",
       "      <td>audi</td>\n",
       "      <td>gas</td>\n",
       "      <td>std</td>\n",
       "      <td>four</td>\n",
       "      <td>sedan</td>\n",
       "      <td>4wd</td>\n",
       "      <td>front</td>\n",
       "      <td>99.4</td>\n",
       "      <td>...</td>\n",
       "      <td>mpfi</td>\n",
       "      <td>3.19</td>\n",
       "      <td>3.4</td>\n",
       "      <td>8.0</td>\n",
       "      <td>115</td>\n",
       "      <td>5500</td>\n",
       "      <td>18</td>\n",
       "      <td>22</td>\n",
       "      <td>17450</td>\n",
       "      <td>1</td>\n",
       "    </tr>\n",
       "  </tbody>\n",
       "</table>\n",
       "<p>2 rows × 27 columns</p>\n",
       "</div>"
      ],
      "text/plain": [
       "   symboling  normalized_losses  make fuel_type aspiration num_of_doors  \\\n",
       "0          2                164  audi       gas        std         four   \n",
       "1          2                164  audi       gas        std         four   \n",
       "\n",
       "  body_style drive_wheels engine_location  wheel_base  ...  fuel_system  bore  \\\n",
       "0      sedan          fwd           front        99.8  ...         mpfi  3.19   \n",
       "1      sedan          4wd           front        99.4  ...         mpfi  3.19   \n",
       "\n",
       "   stroke  compression_ratio horsepower peak_rpm  city_mpg highway_mpg  price  \\\n",
       "0     3.4               10.0        102     5500        24          30  13950   \n",
       "1     3.4                8.0        115     5500        18          22  17450   \n",
       "\n",
       "   high_price  \n",
       "0           0  \n",
       "1           1  \n",
       "\n",
       "[2 rows x 27 columns]"
      ]
     },
     "execution_count": 43,
     "metadata": {},
     "output_type": "execute_result"
    }
   ],
   "source": [
    "auto.head(2)"
   ]
  },
  {
   "cell_type": "code",
   "execution_count": 44,
   "id": "799a5adb",
   "metadata": {},
   "outputs": [],
   "source": [
    "tp= sum(( y_train==1) & (predict==1))"
   ]
  },
  {
   "cell_type": "code",
   "execution_count": 45,
   "id": "f8c85742",
   "metadata": {},
   "outputs": [],
   "source": [
    "fn= sum((y_train==1) & (predict==0))"
   ]
  },
  {
   "cell_type": "code",
   "execution_count": 46,
   "id": "086873fc",
   "metadata": {},
   "outputs": [
    {
     "data": {
      "text/plain": [
       "0.5806451612903226"
      ]
     },
     "execution_count": 46,
     "metadata": {},
     "output_type": "execute_result"
    }
   ],
   "source": [
    "sensitivity = tp/(tp + fn)\n",
    "sensitivity"
   ]
  },
  {
   "cell_type": "markdown",
   "id": "5f2fb51b",
   "metadata": {},
   "source": [
    "## Specificity\n",
    "Now that we've learned about sensitivity, we can learn about its counterpart, specificity. Specificity has a similar interpretation as sensitivity, but it's concerned with the 0 class. As such, specificity is defined as follows:\n",
    "\n",
    "**`Specificity=# True Negatives/# True Negatives + # False Positives`**\n",
    "<img src='specificity.svg' width=500 height=500 >\n",
    "\n"
   ]
  },
  {
   "cell_type": "markdown",
   "id": "3722f06e",
   "metadata": {},
   "source": [
    "Specificity is also a conditional probability. Given that we know an observation has a 0 class, what is the probability that the model predicted it correctly? We might want to look at a model's specificity if we value more accurate predictions of the 0 class.\n",
    "\n",
    "In general, we're interested in a model's overall accuracy, but there can be situations where favoring one class over another might be useful. Sensitivity and specificity are crucial in understanding the following topics: **positive predictive value and negative predictive value**"
   ]
  },
  {
   "cell_type": "code",
   "execution_count": 47,
   "id": "30a4248a",
   "metadata": {},
   "outputs": [
    {
     "data": {
      "text/plain": [
       "0.8761904761904762"
      ]
     },
     "execution_count": 47,
     "metadata": {},
     "output_type": "execute_result"
    }
   ],
   "source": [
    "tn = sum((y_train== 0) & (predict==0))\n",
    "fn = sum((y_train ==1) & (predict==0))\n",
    "specificity= tn/(tn+fn)\n",
    "specificity"
   ]
  },
  {
   "cell_type": "markdown",
   "id": "691066d4",
   "metadata": {},
   "source": [
    "##  Positive Predictive Value\n",
    "As we conclude this lesson, we'll look at two more metrics for our logistic regression. Metrics like sensitivity and specificity are built in with a subtle assumption. Both of these metrics assume that we know what the true class is for the observation. These metrics help us understand how well a model performs on data with known classes.\n",
    "\n",
    "But what about unknown classes? We may want to apply our model to new observations to try to predict their class. As an example, this is how we expect medical diagnostic tests to work. We may potentially be sick, but we don't actually know, so we are using the result of a diagnostic test to try to predict our health status.\n",
    "\n",
    "Using our training data, we can use another metric of how well our logistic regression will perform on unknown classes. This metric is **positive predictive value (PPV), also known as precision**. The PPV is calculated as follows:\n",
    "\n",
    "**`PPV or precision =# True Positives/# True Positives + # False Positives`**\n",
    "<img src='precision.svg' width=500 height=500 >"
   ]
  },
  {
   "cell_type": "markdown",
   "id": "9962e1ae",
   "metadata": {},
   "source": [
    "Like sensitivity, PPV is also a conditional probability. But, the condition is different. We may interpret PPV like so: given that the model predicted an observation had a 1 class, what is the probability it actually had a 1 class.\n",
    "\n",
    "Sensitivity assumes that the true class was 1, while PPV assumes that the model prediction was 1. It's incredibly easy to mix this distinction up, so it takes some time to work out these definitions."
   ]
  },
  {
   "cell_type": "code",
   "execution_count": 48,
   "id": "7e2881e6",
   "metadata": {},
   "outputs": [
    {
     "data": {
      "text/plain": [
       "0.8181818181818182"
      ]
     },
     "execution_count": 48,
     "metadata": {},
     "output_type": "execute_result"
    }
   ],
   "source": [
    "tp= sum((y_train ==1) & (predict ==1))\n",
    "fp = sum((y_train == 0) & (predict ==1))\n",
    "precision = tp/(tp+fp)\n",
    "precision#PPV"
   ]
  },
  {
   "cell_type": "markdown",
   "id": "16b3b2cf",
   "metadata": {},
   "source": [
    "## Negative Predictive Value\n",
    "\n",
    "To conclude this lesson, we'll look at the negative counterpart to positive predictive value: negative predictive value (NPV). This metric estimates how well the model correctly predicts a new observation to have a 0 class.\n",
    "\n",
    "**`NPV=# True Negatives/# True Negatives + # False Negatives`**\n",
    "<img src='npv.svg' width = 500 height=500>"
   ]
  },
  {
   "cell_type": "markdown",
   "id": "a6fda747",
   "metadata": {},
   "source": [
    "Both PPV and NPV have predictive in their name because they measure how well the model correctly predicts the classes. Sometimes, we would be interested in making sure that the negative predictions are truly negative, so we'd be interested in checking the NPV in this case."
   ]
  },
  {
   "cell_type": "code",
   "execution_count": 49,
   "id": "4ae11b72",
   "metadata": {},
   "outputs": [
    {
     "data": {
      "text/plain": [
       "0.8761904761904762"
      ]
     },
     "execution_count": 49,
     "metadata": {},
     "output_type": "execute_result"
    }
   ],
   "source": [
    "tn = sum((y_train ==0) & (predict==0))\n",
    "fn = sum((y_train==1) & (predict==0))\n",
    "NPV = tn/(tn+fn)\n",
    "NPV"
   ]
  },
  {
   "cell_type": "markdown",
   "id": "a2f7e9cb",
   "metadata": {},
   "source": [
    "# Applying Logistic Regression Models"
   ]
  },
  {
   "cell_type": "markdown",
   "id": "cfa13844",
   "metadata": {},
   "source": [
    "Welcome to the final lesson of **Logistic Regression Modeling in Python!** By knowing how to evaluate logistic regression models, we can see how well our models work on the test dataset and begin to iterate and improve their predictive ability.\n",
    "\n",
    "Here, we'll also learn some other topics about logistic regression that will be useful as we progress through the Machine Learning path. We'll briefly introduce the idea of regularization and sparsity, and we'll also introduce how we can get started with multi-class classification.\n",
    "\n",
    "Let's set up our libraries and data"
   ]
  },
  {
   "cell_type": "code",
   "execution_count": 50,
   "id": "dd827112",
   "metadata": {},
   "outputs": [
    {
     "data": {
      "text/plain": [
       "Index(['symboling', 'normalized_losses', 'make', 'fuel_type', 'aspiration',\n",
       "       'num_of_doors', 'body_style', 'drive_wheels', 'engine_location',\n",
       "       'wheel_base', 'length', 'width', 'height', 'curb_weight', 'engine_type',\n",
       "       'num_of_cylinders', 'engine_size', 'fuel_system', 'bore', 'stroke',\n",
       "       'compression_ratio', 'horsepower', 'peak_rpm', 'city_mpg',\n",
       "       'highway_mpg', 'price', 'high_price'],\n",
       "      dtype='object')"
      ]
     },
     "execution_count": 50,
     "metadata": {},
     "output_type": "execute_result"
    }
   ],
   "source": [
    "auto.columns"
   ]
  },
  {
   "cell_type": "code",
   "execution_count": 51,
   "id": "211d36ad",
   "metadata": {},
   "outputs": [],
   "source": [
    "from sklearn.model_selection import train_test_split\n",
    "\n",
    "x= auto.drop(columns=['price','high_price'], axis=1)\n",
    "y=auto['high_price']\n",
    "\n",
    "x_train,x_test,y_train,y_test= train_test_split(x,y, test_size=0.20, random_state=734)"
   ]
  },
  {
   "cell_type": "markdown",
   "id": "1ab29c08",
   "metadata": {},
   "source": [
    "## Test Accuracy\n",
    "When evaluating the accuracy of a logistic regression model, we initially look at the training accuracy, but we cannot truly evaluate the predictive ability of a model from this alone. We have to compare models based on their test accuracy. We want the model with the greatest test accuracy (the accuracy closest to 1).\n",
    "<img src='accuracy.gif' width=400 height=400>"
   ]
  },
  {
   "cell_type": "code",
   "execution_count": 52,
   "id": "53d5b2c5",
   "metadata": {},
   "outputs": [
    {
     "data": {
      "text/plain": [
       "LogisticRegression()"
      ]
     },
     "execution_count": 52,
     "metadata": {},
     "output_type": "execute_result"
    }
   ],
   "source": [
    "\n",
    "import numpy as np\n",
    "import pandas as pd\n",
    "from sklearn.model_selection import train_test_split\n",
    "from sklearn.linear_model import LogisticRegression\n",
    "\n",
    "auto = pd.read_csv(\"automobiles.csv\")\n",
    "\n",
    "auto[\"high_price\"] = 0\n",
    "auto.loc[auto[\"price\"] > 15000, \"high_price\"] = 1\n",
    "\n",
    "X = auto.drop([\"price\", \"high_price\"], axis = 1)\n",
    "y = auto[\"high_price\"]\n",
    "\n",
    "x_train, x_test, y_train, y_test = train_test_split(X, y, test_size=0.20, random_state = 734)\n",
    "\n",
    "x1 = x_train[[\"length\", \"horsepower\"]]\n",
    "x2 = x_train[[\"stroke\", \"compression_ratio\"]]\n",
    "\n",
    "model1 = LogisticRegression()\n",
    "model2 = LogisticRegression()\n",
    "\n",
    "model1.fit(x1, y_train)\n",
    "model2.fit(x2, y_train)\n"
   ]
  },
  {
   "cell_type": "code",
   "execution_count": 53,
   "id": "07a5e321",
   "metadata": {},
   "outputs": [],
   "source": [
    "#evaluate the models\n",
    "\n",
    "model1_accuracy= model1.score(x1, y_train),\n",
    "model2_accuracy= model2.score(x2, y_train)"
   ]
  },
  {
   "cell_type": "code",
   "execution_count": 54,
   "id": "7dd83456",
   "metadata": {},
   "outputs": [
    {
     "name": "stdout",
     "output_type": "stream",
     "text": [
      "(0.889763779527559,) 0.7480314960629921\n"
     ]
    }
   ],
   "source": [
    "print(model1_accuracy, model2_accuracy)"
   ]
  },
  {
   "cell_type": "markdown",
   "id": "c5d6a649",
   "metadata": {},
   "source": [
    "## Feature Selection via Split-Apply-Combine\n",
    "It's one thing to know how to put together a logistic regression; it's another to polish it into a refined model. As of now, we can build models based on horsepower — but there is no justification for doing so other than for educational purposes. We have to contend with the issue of **feature selection** since it won't be clear ahead of time which variables will produce the best classification model.\n",
    "\n",
    "One strategy in linear regression is to use visualizations to determine if there were high correlations between a predictor and the outcome. We also use visualizations to make this judgment for binary variables. We'll do something similar here, but we'll leverage a new way of summarizing the information in the auto dataset.\n",
    "We are interested in which predictors are meaningfully different when comparing between the 0 and 1 classes. For example, if the `range and distribution of horsepower` for low-price cars is significantly different from high-price cars, then horsepower can be a useful predictor to include in a model because it distinguishes `cases from non-cases`. We might go through each predictor and repeatedly calculate its means among the 0 and 1 classes. This can get repetitive and is error-prone. Another way to do this quickly is to take advantage of the `groupby() and agg()` methods that are available for `pandas DataFrames.`\n",
    "Consequently, the agg() method (short for \"aggregate\") is what we use to specify what columns to use and what operations to use to calculate for each strata. For example, if we want to calculate the mean horsepower and width for both the 0 and 1 classes, we write the following:"
   ]
  },
  {
   "cell_type": "code",
   "execution_count": 55,
   "id": "558f724d",
   "metadata": {},
   "outputs": [
    {
     "data": {
      "text/html": [
       "<div>\n",
       "<style scoped>\n",
       "    .dataframe tbody tr th:only-of-type {\n",
       "        vertical-align: middle;\n",
       "    }\n",
       "\n",
       "    .dataframe tbody tr th {\n",
       "        vertical-align: top;\n",
       "    }\n",
       "\n",
       "    .dataframe thead th {\n",
       "        text-align: right;\n",
       "    }\n",
       "</style>\n",
       "<table border=\"1\" class=\"dataframe\">\n",
       "  <thead>\n",
       "    <tr style=\"text-align: right;\">\n",
       "      <th></th>\n",
       "      <th>horsepower</th>\n",
       "      <th>width</th>\n",
       "    </tr>\n",
       "    <tr>\n",
       "      <th>high_price</th>\n",
       "      <th></th>\n",
       "      <th></th>\n",
       "    </tr>\n",
       "  </thead>\n",
       "  <tbody>\n",
       "    <tr>\n",
       "      <th>0</th>\n",
       "      <td>83.907563</td>\n",
       "      <td>64.821849</td>\n",
       "    </tr>\n",
       "    <tr>\n",
       "      <th>1</th>\n",
       "      <td>131.325000</td>\n",
       "      <td>67.945000</td>\n",
       "    </tr>\n",
       "  </tbody>\n",
       "</table>\n",
       "</div>"
      ],
      "text/plain": [
       "            horsepower      width\n",
       "high_price                       \n",
       "0            83.907563  64.821849\n",
       "1           131.325000  67.945000"
      ]
     },
     "execution_count": 55,
     "metadata": {},
     "output_type": "execute_result"
    }
   ],
   "source": [
    "auto.groupby('high_price').agg({'horsepower':'mean','width':'mean'})"
   ]
  },
  {
   "cell_type": "markdown",
   "id": "4b74eb62",
   "metadata": {},
   "source": [
    "First, groupby() specifies on which column we are splitting up the data (the high_price column in this case). Next, we need to give the agg() method a dictionary. The keys of this dictionary are the predictors we want to summarize, and the values are the operations that we want to perform. In this example, we want to summarize the horsepower and width columns using the mean() function.\n",
    "\n",
    "This workflow is what we refer to as **split-apply-combine**, and it is a powerful and quick way to understand the data. There are several methods for writing this workflow for pandas — we've chosen this method because it allows us to summarize multiple columns at once, which is what we'll want for feature selection.\n",
    "<img src='split_apply_combine.gif' width=400 height=400>"
   ]
  },
  {
   "cell_type": "markdown",
   "id": "9808195b",
   "metadata": {},
   "source": [
    "**Instructions**\n",
    "\n",
    "Recall from the previous screen that we compared two models: one used horsepower and length, and the other used stroke and compression_ratio. Let's use split-apply-combine to determine why one model was superior to the other."
   ]
  },
  {
   "cell_type": "code",
   "execution_count": 56,
   "id": "f5fc73c7",
   "metadata": {},
   "outputs": [
    {
     "data": {
      "text/html": [
       "<div>\n",
       "<style scoped>\n",
       "    .dataframe tbody tr th:only-of-type {\n",
       "        vertical-align: middle;\n",
       "    }\n",
       "\n",
       "    .dataframe tbody tr th {\n",
       "        vertical-align: top;\n",
       "    }\n",
       "\n",
       "    .dataframe thead th {\n",
       "        text-align: right;\n",
       "    }\n",
       "</style>\n",
       "<table border=\"1\" class=\"dataframe\">\n",
       "  <thead>\n",
       "    <tr style=\"text-align: right;\">\n",
       "      <th></th>\n",
       "      <th>horsepower</th>\n",
       "      <th>length</th>\n",
       "      <th>stroke</th>\n",
       "      <th>compression_ratio</th>\n",
       "    </tr>\n",
       "    <tr>\n",
       "      <th>high_price</th>\n",
       "      <th></th>\n",
       "      <th></th>\n",
       "      <th></th>\n",
       "      <th></th>\n",
       "    </tr>\n",
       "  </thead>\n",
       "  <tbody>\n",
       "    <tr>\n",
       "      <th>0</th>\n",
       "      <td>83.907563</td>\n",
       "      <td>168.22605</td>\n",
       "      <td>3.241261</td>\n",
       "      <td>9.886723</td>\n",
       "    </tr>\n",
       "    <tr>\n",
       "      <th>1</th>\n",
       "      <td>131.325000</td>\n",
       "      <td>184.87250</td>\n",
       "      <td>3.221750</td>\n",
       "      <td>10.977500</td>\n",
       "    </tr>\n",
       "  </tbody>\n",
       "</table>\n",
       "</div>"
      ],
      "text/plain": [
       "            horsepower     length    stroke  compression_ratio\n",
       "high_price                                                    \n",
       "0            83.907563  168.22605  3.241261           9.886723\n",
       "1           131.325000  184.87250  3.221750          10.977500"
      ]
     },
     "execution_count": 56,
     "metadata": {},
     "output_type": "execute_result"
    }
   ],
   "source": [
    "summary=auto.groupby('high_price').agg({\n",
    "    'horsepower':'mean',\n",
    "    'length':'mean',\n",
    "    'stroke':'mean',\n",
    "    'compression_ratio':'mean'\n",
    "})\n",
    "summary"
   ]
  },
  {
   "cell_type": "code",
   "execution_count": 57,
   "id": "1d43d489",
   "metadata": {},
   "outputs": [
    {
     "data": {
      "text/plain": [
       "47.41743699999999"
      ]
     },
     "execution_count": 57,
     "metadata": {},
     "output_type": "execute_result"
    }
   ],
   "source": [
    "131.325000- 83.907563"
   ]
  },
  {
   "cell_type": "code",
   "execution_count": 58,
   "id": "97e43b34",
   "metadata": {},
   "outputs": [
    {
     "data": {
      "text/plain": [
       "16.646450000000016"
      ]
     },
     "execution_count": 58,
     "metadata": {},
     "output_type": "execute_result"
    }
   ],
   "source": [
    "184.87250-168.22605"
   ]
  },
  {
   "cell_type": "code",
   "execution_count": 59,
   "id": "9967590f",
   "metadata": {},
   "outputs": [
    {
     "data": {
      "text/plain": [
       "0.019511000000000056"
      ]
     },
     "execution_count": 59,
     "metadata": {},
     "output_type": "execute_result"
    }
   ],
   "source": [
    "3.241261-3.221750"
   ]
  },
  {
   "cell_type": "code",
   "execution_count": 60,
   "id": "9a00eaa0",
   "metadata": {},
   "outputs": [
    {
     "data": {
      "text/plain": [
       "1.0907769999999992"
      ]
     },
     "execution_count": 60,
     "metadata": {},
     "output_type": "execute_result"
    }
   ],
   "source": [
    "10.977500-9.886723"
   ]
  },
  {
   "cell_type": "code",
   "execution_count": 61,
   "id": "3bfd729e",
   "metadata": {},
   "outputs": [],
   "source": [
    "largest_diff= 'horsepower'"
   ]
  },
  {
   "cell_type": "markdown",
   "id": "13700944",
   "metadata": {},
   "source": [
    "## Model Complexity\n",
    "We've learned a fair amount of tools to perform feature selection so far, which enables us to pick a good set of predictors for our models. In the toy examples we've covered, the number of predictors has been relatively small. What if we were to find in feature selection that many, many predictors are highly correlated with or easily predict the outcome? We may be tempted to add all of these predictors into the model, making it more complex.\n",
    "\n",
    "In some cases, increasing complexity through the addition of predictors can be useful if they all truly influence the outcome. In others, the model might just be learning how to fit the data rather than capturing any true relationship that links the predictors to the outcome. We'll explore this further in a different course, but we'll introduce this problem briefly here. This is a problem of overfitting, when the model starts to learn the data itself, rather than the fundamental relationship between the predictors and outcome.\n",
    "<img src='noise.svg' width=400 height=400>"
   ]
  },
  {
   "cell_type": "markdown",
   "id": "81ffcb38",
   "metadata": {},
   "source": [
    "We've created a series of three nested models of increasing complexity. Let's see what happens with the training and test error.\n",
    "\n",
    "**Instructions**\n",
    "- Calculate the training accuracies for all three of the models in order of increasing complexity. Store these in an array called train_accuracies.\n",
    "- Calculate the test accuracies for all three of the models in order of increasing complexity. Store these in an array called test_accuracies.\n",
    "Use the information from these variables to answer the questions below"
   ]
  },
  {
   "cell_type": "code",
   "execution_count": 62,
   "id": "8e5efea1",
   "metadata": {},
   "outputs": [
    {
     "data": {
      "text/plain": [
       "LogisticRegression()"
      ]
     },
     "execution_count": 62,
     "metadata": {},
     "output_type": "execute_result"
    }
   ],
   "source": [
    "\n",
    "import numpy as np\n",
    "import pandas as pd\n",
    "from sklearn.model_selection import train_test_split\n",
    "from sklearn.linear_model import LogisticRegression\n",
    "\n",
    "auto = pd.read_csv(\"automobiles.csv\")\n",
    "\n",
    "auto[\"high_price\"] = 0\n",
    "auto.loc[auto[\"price\"] > 15000, \"high_price\"] = 1\n",
    "\n",
    "X = auto.drop([\"price\", \"high_price\"], axis = 1)\n",
    "y = auto[\"high_price\"]\n",
    "\n",
    "X_train, X_test, y_train, y_test = train_test_split(X, y, test_size=0.20, random_state = 734)\n",
    "\n",
    "X1 = X_train[[\"horsepower\"]]\n",
    "X2 = X_train[[\"horsepower\", \"compression_ratio\"]]\n",
    "X3 = X_train[[\"horsepower\", \"compression_ratio\", \"city_mpg\"]]\n",
    "\n",
    "X1_test = X_test[[\"horsepower\"]]\n",
    "X2_test = X_test[[\"horsepower\", \"compression_ratio\"]]\n",
    "X3_test = X_test[[\"horsepower\", \"compression_ratio\", \"city_mpg\"]]\n",
    "\n",
    "model1 = LogisticRegression()\n",
    "model2 = LogisticRegression()\n",
    "model3 = LogisticRegression()\n",
    "\n",
    "model1.fit(X1, y_train)\n",
    "model2.fit(X2, y_train)\n",
    "model3.fit(X3, y_train)\n"
   ]
  },
  {
   "cell_type": "code",
   "execution_count": 63,
   "id": "b76900a1",
   "metadata": {},
   "outputs": [],
   "source": [
    "#evaluate the model\n",
    "\n",
    "model1_accuracy_train= model1.score(X1, y_train)\n",
    "model2_acuuracy_train= model2.score(X2, y_train)\n",
    "model3_accuracy_train= model3.score(X3, y_train)\n",
    "\n",
    "model1_accuracy_test= model1.score(X1_test, y_test)\n",
    "model2_acuuracy_test= model2.score(X2_test, y_test)\n",
    "model3_accuracy_test= model3.score(X3_test, y_test)"
   ]
  },
  {
   "cell_type": "code",
   "execution_count": 64,
   "id": "77068ba5",
   "metadata": {},
   "outputs": [
    {
     "name": "stdout",
     "output_type": "stream",
     "text": [
      "0.8976377952755905 0.905511811023622 0.9212598425196851\n"
     ]
    }
   ],
   "source": [
    "print(model1_accuracy_train,model2_acuuracy_train,model3_accuracy_train)"
   ]
  },
  {
   "cell_type": "code",
   "execution_count": 65,
   "id": "e6e4b43e",
   "metadata": {},
   "outputs": [
    {
     "name": "stdout",
     "output_type": "stream",
     "text": [
      "0.78125 0.78125 0.875\n"
     ]
    }
   ],
   "source": [
    "print(model1_accuracy_test,model2_acuuracy_test,model3_accuracy_test)"
   ]
  },
  {
   "cell_type": "markdown",
   "id": "f9b1b2c3",
   "metadata": {},
   "source": [
    "##  Multi-class Classification\n",
    "We've learned how to go from data exploration to a trained logistic model. We're equipped to start applying these models to new datasets, so we'll use the rest of the lesson to cover some extra topics on logistic regression.\n",
    "You may be surprised to learn that you already know most of what you need to know to perform **multi-class classification.** The LogisticRegression class is equipped to detect what type of classification task it's working with, based on what it detects with the outcome. The API that we've learned throughout this course still applies in both the binary and multi-class cases.\n",
    "\n",
    "But of course, with more categories comes slightly different metrics. Accuracy still applies to multi-class classification, but we lose sensitivity and specificity as metrics because they make sense only with binary outcomes. A better way to see how a multi-class classifier performs is through a **confusion matrix**, which is an extended version of the 2 x 2 tables we saw earlier. The diagonals of a confusion matrix count the number of correct predictions that the model made. The off-diagonals represent how often a class is predicted as another class. These counts are useful because we might find that the model has trouble with two specific classes, rather than just being a generally bad classifier\n",
    "<img src='confusion_matrix.svg' width=400 height=400>"
   ]
  },
  {
   "cell_type": "markdown",
   "id": "95c5f7f7",
   "metadata": {},
   "source": [
    "In order to generate a confusion matrix, we can use the confusion_matrix() function in the metrics module. This function takes in two arguments: the true classes and then the predicted classes. We can use the predict() method to generate the model predictions, and put these in the function as shown below:\n"
   ]
  },
  {
   "cell_type": "code",
   "execution_count": 66,
   "id": "1b56f2ec",
   "metadata": {},
   "outputs": [
    {
     "data": {
      "text/plain": [
       "Index(['symboling', 'normalized_losses', 'make', 'fuel_type', 'aspiration',\n",
       "       'num_of_doors', 'body_style', 'drive_wheels', 'engine_location',\n",
       "       'wheel_base', 'length', 'width', 'height', 'curb_weight', 'engine_type',\n",
       "       'num_of_cylinders', 'engine_size', 'fuel_system', 'bore', 'stroke',\n",
       "       'compression_ratio', 'horsepower', 'peak_rpm', 'city_mpg',\n",
       "       'highway_mpg', 'price', 'high_price'],\n",
       "      dtype='object')"
      ]
     },
     "execution_count": 66,
     "metadata": {},
     "output_type": "execute_result"
    }
   ],
   "source": [
    "auto.columns"
   ]
  },
  {
   "cell_type": "code",
   "execution_count": 67,
   "id": "ae89ea48",
   "metadata": {},
   "outputs": [],
   "source": [
    "auto['price_category']='Low'"
   ]
  },
  {
   "cell_type": "code",
   "execution_count": 68,
   "id": "e5e4cbc7",
   "metadata": {},
   "outputs": [
    {
     "name": "stderr",
     "output_type": "stream",
     "text": [
      "C:\\Users\\512GB\\AppData\\Local\\Temp\\ipykernel_5584\\3713218005.py:8: SettingWithCopyWarning: \n",
      "A value is trying to be set on a copy of a slice from a DataFrame\n",
      "\n",
      "See the caveats in the documentation: https://pandas.pydata.org/pandas-docs/stable/user_guide/indexing.html#returning-a-view-versus-a-copy\n",
      "  auto['price'][i]=price\n",
      "C:\\Users\\512GB\\AppData\\Local\\Temp\\ipykernel_5584\\3713218005.py:9: SettingWithCopyWarning: \n",
      "A value is trying to be set on a copy of a slice from a DataFrame\n",
      "\n",
      "See the caveats in the documentation: https://pandas.pydata.org/pandas-docs/stable/user_guide/indexing.html#returning-a-view-versus-a-copy\n",
      "  auto['price_category'][i]=price_category\n"
     ]
    }
   ],
   "source": [
    "for i in auto.index:\n",
    "    price= auto['price'][i]\n",
    "    price_category=auto['price_category'][i]\n",
    "    if price <= 10000 & price <15000:\n",
    "        price_category = 'Mid'\n",
    "    elif price >= 15000:\n",
    "        price_category = 'High'\n",
    "    auto['price'][i]=price\n",
    "    auto['price_category'][i]=price_category\n",
    "    \n",
    "        "
   ]
  },
  {
   "cell_type": "code",
   "execution_count": 69,
   "id": "b74d26f5",
   "metadata": {},
   "outputs": [
    {
     "data": {
      "text/html": [
       "<div>\n",
       "<style scoped>\n",
       "    .dataframe tbody tr th:only-of-type {\n",
       "        vertical-align: middle;\n",
       "    }\n",
       "\n",
       "    .dataframe tbody tr th {\n",
       "        vertical-align: top;\n",
       "    }\n",
       "\n",
       "    .dataframe thead th {\n",
       "        text-align: right;\n",
       "    }\n",
       "</style>\n",
       "<table border=\"1\" class=\"dataframe\">\n",
       "  <thead>\n",
       "    <tr style=\"text-align: right;\">\n",
       "      <th></th>\n",
       "      <th>symboling</th>\n",
       "      <th>normalized_losses</th>\n",
       "      <th>make</th>\n",
       "      <th>fuel_type</th>\n",
       "      <th>aspiration</th>\n",
       "      <th>num_of_doors</th>\n",
       "      <th>body_style</th>\n",
       "      <th>drive_wheels</th>\n",
       "      <th>engine_location</th>\n",
       "      <th>wheel_base</th>\n",
       "      <th>...</th>\n",
       "      <th>bore</th>\n",
       "      <th>stroke</th>\n",
       "      <th>compression_ratio</th>\n",
       "      <th>horsepower</th>\n",
       "      <th>peak_rpm</th>\n",
       "      <th>city_mpg</th>\n",
       "      <th>highway_mpg</th>\n",
       "      <th>price</th>\n",
       "      <th>high_price</th>\n",
       "      <th>price_category</th>\n",
       "    </tr>\n",
       "  </thead>\n",
       "  <tbody>\n",
       "    <tr>\n",
       "      <th>0</th>\n",
       "      <td>2</td>\n",
       "      <td>164</td>\n",
       "      <td>audi</td>\n",
       "      <td>gas</td>\n",
       "      <td>std</td>\n",
       "      <td>four</td>\n",
       "      <td>sedan</td>\n",
       "      <td>fwd</td>\n",
       "      <td>front</td>\n",
       "      <td>99.8</td>\n",
       "      <td>...</td>\n",
       "      <td>3.19</td>\n",
       "      <td>3.4</td>\n",
       "      <td>10.0</td>\n",
       "      <td>102</td>\n",
       "      <td>5500</td>\n",
       "      <td>24</td>\n",
       "      <td>30</td>\n",
       "      <td>13950</td>\n",
       "      <td>0</td>\n",
       "      <td>Low</td>\n",
       "    </tr>\n",
       "    <tr>\n",
       "      <th>1</th>\n",
       "      <td>2</td>\n",
       "      <td>164</td>\n",
       "      <td>audi</td>\n",
       "      <td>gas</td>\n",
       "      <td>std</td>\n",
       "      <td>four</td>\n",
       "      <td>sedan</td>\n",
       "      <td>4wd</td>\n",
       "      <td>front</td>\n",
       "      <td>99.4</td>\n",
       "      <td>...</td>\n",
       "      <td>3.19</td>\n",
       "      <td>3.4</td>\n",
       "      <td>8.0</td>\n",
       "      <td>115</td>\n",
       "      <td>5500</td>\n",
       "      <td>18</td>\n",
       "      <td>22</td>\n",
       "      <td>17450</td>\n",
       "      <td>1</td>\n",
       "      <td>High</td>\n",
       "    </tr>\n",
       "    <tr>\n",
       "      <th>2</th>\n",
       "      <td>1</td>\n",
       "      <td>158</td>\n",
       "      <td>audi</td>\n",
       "      <td>gas</td>\n",
       "      <td>std</td>\n",
       "      <td>four</td>\n",
       "      <td>sedan</td>\n",
       "      <td>fwd</td>\n",
       "      <td>front</td>\n",
       "      <td>105.8</td>\n",
       "      <td>...</td>\n",
       "      <td>3.19</td>\n",
       "      <td>3.4</td>\n",
       "      <td>8.5</td>\n",
       "      <td>110</td>\n",
       "      <td>5500</td>\n",
       "      <td>19</td>\n",
       "      <td>25</td>\n",
       "      <td>17710</td>\n",
       "      <td>1</td>\n",
       "      <td>High</td>\n",
       "    </tr>\n",
       "    <tr>\n",
       "      <th>3</th>\n",
       "      <td>1</td>\n",
       "      <td>158</td>\n",
       "      <td>audi</td>\n",
       "      <td>gas</td>\n",
       "      <td>turbo</td>\n",
       "      <td>four</td>\n",
       "      <td>sedan</td>\n",
       "      <td>fwd</td>\n",
       "      <td>front</td>\n",
       "      <td>105.8</td>\n",
       "      <td>...</td>\n",
       "      <td>3.13</td>\n",
       "      <td>3.4</td>\n",
       "      <td>8.3</td>\n",
       "      <td>140</td>\n",
       "      <td>5500</td>\n",
       "      <td>17</td>\n",
       "      <td>20</td>\n",
       "      <td>23875</td>\n",
       "      <td>1</td>\n",
       "      <td>High</td>\n",
       "    </tr>\n",
       "    <tr>\n",
       "      <th>4</th>\n",
       "      <td>2</td>\n",
       "      <td>192</td>\n",
       "      <td>bmw</td>\n",
       "      <td>gas</td>\n",
       "      <td>std</td>\n",
       "      <td>two</td>\n",
       "      <td>sedan</td>\n",
       "      <td>rwd</td>\n",
       "      <td>front</td>\n",
       "      <td>101.2</td>\n",
       "      <td>...</td>\n",
       "      <td>3.50</td>\n",
       "      <td>2.8</td>\n",
       "      <td>8.8</td>\n",
       "      <td>101</td>\n",
       "      <td>5800</td>\n",
       "      <td>23</td>\n",
       "      <td>29</td>\n",
       "      <td>16430</td>\n",
       "      <td>1</td>\n",
       "      <td>High</td>\n",
       "    </tr>\n",
       "  </tbody>\n",
       "</table>\n",
       "<p>5 rows × 28 columns</p>\n",
       "</div>"
      ],
      "text/plain": [
       "   symboling  normalized_losses  make fuel_type aspiration num_of_doors  \\\n",
       "0          2                164  audi       gas        std         four   \n",
       "1          2                164  audi       gas        std         four   \n",
       "2          1                158  audi       gas        std         four   \n",
       "3          1                158  audi       gas      turbo         four   \n",
       "4          2                192   bmw       gas        std          two   \n",
       "\n",
       "  body_style drive_wheels engine_location  wheel_base  ...  bore  stroke  \\\n",
       "0      sedan          fwd           front        99.8  ...  3.19     3.4   \n",
       "1      sedan          4wd           front        99.4  ...  3.19     3.4   \n",
       "2      sedan          fwd           front       105.8  ...  3.19     3.4   \n",
       "3      sedan          fwd           front       105.8  ...  3.13     3.4   \n",
       "4      sedan          rwd           front       101.2  ...  3.50     2.8   \n",
       "\n",
       "   compression_ratio  horsepower peak_rpm city_mpg  highway_mpg  price  \\\n",
       "0               10.0         102     5500       24           30  13950   \n",
       "1                8.0         115     5500       18           22  17450   \n",
       "2                8.5         110     5500       19           25  17710   \n",
       "3                8.3         140     5500       17           20  23875   \n",
       "4                8.8         101     5800       23           29  16430   \n",
       "\n",
       "   high_price  price_category  \n",
       "0           0             Low  \n",
       "1           1            High  \n",
       "2           1            High  \n",
       "3           1            High  \n",
       "4           1            High  \n",
       "\n",
       "[5 rows x 28 columns]"
      ]
     },
     "execution_count": 69,
     "metadata": {},
     "output_type": "execute_result"
    }
   ],
   "source": [
    "auto.head()"
   ]
  },
  {
   "cell_type": "code",
   "execution_count": 70,
   "id": "48880d5f",
   "metadata": {},
   "outputs": [
    {
     "data": {
      "text/plain": [
       "array(['Low', 'High'], dtype=object)"
      ]
     },
     "execution_count": 70,
     "metadata": {},
     "output_type": "execute_result"
    }
   ],
   "source": [
    "auto['price_category'].unique()"
   ]
  },
  {
   "cell_type": "code",
   "execution_count": 71,
   "id": "15b24e8e",
   "metadata": {},
   "outputs": [],
   "source": [
    "from sklearn.metrics import confusion_matrix\n",
    "from sklearn.model_selection import train_test_split\n",
    "\n",
    "x= auto.drop(columns=['price','price_category'], axis=1)\n",
    "y= auto['high_price']\n",
    "\n"
   ]
  },
  {
   "cell_type": "code",
   "execution_count": 72,
   "id": "43b071a9",
   "metadata": {},
   "outputs": [],
   "source": [
    "x1= x_train[['engine_size','horsepower']]\n",
    "x1_test= x_test[['engine_size','horsepower']]\n",
    "\n",
    "model= LogisticRegression()\n",
    "\n",
    "model.fit(x1, y_train)\n",
    "predictions= model.predict(x1_test)\n",
    "\n",
    "#evaluate the model\n",
    "\n",
    "test_accuracy= model.score(x1_test, y_test)\n",
    "\n",
    "confusion=confusion_matrix(y_test, predictions)"
   ]
  },
  {
   "cell_type": "code",
   "execution_count": 73,
   "id": "3ed00270",
   "metadata": {},
   "outputs": [
    {
     "name": "stdout",
     "output_type": "stream",
     "text": [
      "0.78125 [[22  2]\n",
      " [ 5  3]]\n"
     ]
    }
   ],
   "source": [
    "print(test_accuracy, confusion)"
   ]
  },
  {
   "cell_type": "markdown",
   "id": "f24639e8",
   "metadata": {},
   "source": [
    "## Communicating Results\n",
    "We're almost finished with the course, so let's look back our process of learning classification through logistic regression. We've examined the auto dataset to understand how to best predict a high_price column that we created. Classification is to categorical outcomes as regression is to continuous outcomes, and both are different forms of supervised learning. How should we communicate our findings to others?\n",
    "\n",
    "We should be transparent about the data and the process we used to select a final model. Here's a non-exhaustive list of questions we should consider when summarizing our model — along with some extra points to consider.\n",
    "\n",
    "- How much data was used for training? What about the test set?\n",
    "- Did we have to make any transformations to the outcome or predictors? If so, what justification did we make to do so?\n",
    "- What predictors did we include in the model? \n",
    "- Were there any particular reasons they were included?\n",
    "- How do the model predictions look against the plotted data? \n",
    "- Does the predicted logistic curve along a single predictor seem to match the distribution of the outcomes?\n",
    "- How well does our model predict unseen data? Is the level of error acceptable for its application?\n",
    "- Does the model perform better with 0 classes? 1 classes?\n",
    "Even though we're discussing a different supervised learning task, the same backbone still remains. Some details may simply differ between models"
   ]
  },
  {
   "cell_type": "markdown",
   "id": "fc9106cf",
   "metadata": {},
   "source": [
    "## Review\n"
   ]
  },
  {
   "cell_type": "code",
   "execution_count": null,
   "id": "fed748c8",
   "metadata": {},
   "outputs": [],
   "source": []
  }
 ],
 "metadata": {
  "kernelspec": {
   "display_name": "Python 3 (ipykernel)",
   "language": "python",
   "name": "python3"
  },
  "language_info": {
   "codemirror_mode": {
    "name": "ipython",
    "version": 3
   },
   "file_extension": ".py",
   "mimetype": "text/x-python",
   "name": "python",
   "nbconvert_exporter": "python",
   "pygments_lexer": "ipython3",
   "version": "3.9.13"
  }
 },
 "nbformat": 4,
 "nbformat_minor": 5
}
